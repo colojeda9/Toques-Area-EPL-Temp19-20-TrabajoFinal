{
 "cells": [
  {
   "cell_type": "markdown",
   "id": "d2652b38",
   "metadata": {},
   "source": [
    "* # Análisis exploratorio sobre un dataset que contiene la cantidad de toques dentreo del area de un jugador en la PREMIER LEAGUE - 19/20 \n",
    "* # Podemos hacer lo siguientes análisis\n",
    "    * ## Análisis de impacto en el equipo.**\n",
    "    * ## Análisis de comparación de jugadores u equipos.**\n",
    "    * ## Por ultimo Predicción de goles por toques en el area(para eso tendre que agregar uno por uno los goles convertidos por cada jugador por que no encontre ningun dataset que contenga los goleadores de la temporada 19/20) **\n",
    "    \n",
    "    ----\n",
    "* #### PAGINA DONDE SACAMOS LOS GOLES DE ALGUNOS JUGADORES Y AGREGAREMOS MANUALMENTE. https://www.sport.es/es/resultados/2019-2020/premier-league/maximos-goleadores/"
   ]
  },
  {
   "cell_type": "code",
   "execution_count": 178,
   "id": "c2d3643c",
   "metadata": {},
   "outputs": [],
   "source": [
    "import pandas as pd\n",
    "import matplotlib.pyplot as plt\n",
    "import numpy as np"
   ]
  },
  {
   "cell_type": "code",
   "execution_count": 179,
   "id": "d8def9f5",
   "metadata": {},
   "outputs": [
    {
     "name": "stdout",
     "output_type": "stream",
     "text": [
      "<class 'pandas.core.frame.DataFrame'>\n",
      "RangeIndex: 100 entries, 0 to 99\n",
      "Data columns (total 9 columns):\n",
      " #   Column          Non-Null Count  Dtype  \n",
      "---  ------          --------------  -----  \n",
      " 0   index           100 non-null    int64  \n",
      " 1   Player Name     100 non-null    object \n",
      " 2   Position        100 non-null    object \n",
      " 3   Team            100 non-null    object \n",
      " 4   Touches in Box  100 non-null    int64  \n",
      " 5   Starts          100 non-null    int64  \n",
      " 6   Minutes Played  100 non-null    int64  \n",
      " 7   Fouled          100 non-null    int64  \n",
      " 8   goles           58 non-null     float64\n",
      "dtypes: float64(1), int64(5), object(3)\n",
      "memory usage: 7.2+ KB\n"
     ]
    }
   ],
   "source": [
    "#### #### Como esta compuesto el dataset\n",
    "data = pd.read_csv(\"./toques-area-EPL.csv\")\n",
    "data.info()"
   ]
  },
  {
   "cell_type": "code",
   "execution_count": 180,
   "id": "fb35867c",
   "metadata": {},
   "outputs": [
    {
     "data": {
      "text/html": [
       "<div>\n",
       "<style scoped>\n",
       "    .dataframe tbody tr th:only-of-type {\n",
       "        vertical-align: middle;\n",
       "    }\n",
       "\n",
       "    .dataframe tbody tr th {\n",
       "        vertical-align: top;\n",
       "    }\n",
       "\n",
       "    .dataframe thead th {\n",
       "        text-align: right;\n",
       "    }\n",
       "</style>\n",
       "<table border=\"1\" class=\"dataframe\">\n",
       "  <thead>\n",
       "    <tr style=\"text-align: right;\">\n",
       "      <th></th>\n",
       "      <th>index</th>\n",
       "      <th>Player Name</th>\n",
       "      <th>Position</th>\n",
       "      <th>Team</th>\n",
       "      <th>Touches in Box</th>\n",
       "      <th>Starts</th>\n",
       "      <th>Minutes Played</th>\n",
       "      <th>Fouled</th>\n",
       "      <th>goles</th>\n",
       "    </tr>\n",
       "  </thead>\n",
       "  <tbody>\n",
       "    <tr>\n",
       "      <th>0</th>\n",
       "      <td>0</td>\n",
       "      <td>Salah</td>\n",
       "      <td>Forward</td>\n",
       "      <td>Liverpool</td>\n",
       "      <td>248</td>\n",
       "      <td>33</td>\n",
       "      <td>2876</td>\n",
       "      <td>18</td>\n",
       "      <td>19.0</td>\n",
       "    </tr>\n",
       "    <tr>\n",
       "      <th>1</th>\n",
       "      <td>1</td>\n",
       "      <td>Sterling</td>\n",
       "      <td>Forward</td>\n",
       "      <td>M. City</td>\n",
       "      <td>239</td>\n",
       "      <td>30</td>\n",
       "      <td>2651</td>\n",
       "      <td>40</td>\n",
       "      <td>20.0</td>\n",
       "    </tr>\n",
       "    <tr>\n",
       "      <th>2</th>\n",
       "      <td>2</td>\n",
       "      <td>Zaha</td>\n",
       "      <td>Forward</td>\n",
       "      <td>Crystal Palace</td>\n",
       "      <td>192</td>\n",
       "      <td>37</td>\n",
       "      <td>3280</td>\n",
       "      <td>120</td>\n",
       "      <td>4.0</td>\n",
       "    </tr>\n",
       "    <tr>\n",
       "      <th>3</th>\n",
       "      <td>3</td>\n",
       "      <td>Roberto Firmino</td>\n",
       "      <td>Forward</td>\n",
       "      <td>Liverpool</td>\n",
       "      <td>184</td>\n",
       "      <td>34</td>\n",
       "      <td>2988</td>\n",
       "      <td>16</td>\n",
       "      <td>9.0</td>\n",
       "    </tr>\n",
       "    <tr>\n",
       "      <th>4</th>\n",
       "      <td>4</td>\n",
       "      <td>Raúl Jiménez</td>\n",
       "      <td>Forward</td>\n",
       "      <td>Wolves</td>\n",
       "      <td>171</td>\n",
       "      <td>37</td>\n",
       "      <td>3236</td>\n",
       "      <td>35</td>\n",
       "      <td>17.0</td>\n",
       "    </tr>\n",
       "  </tbody>\n",
       "</table>\n",
       "</div>"
      ],
      "text/plain": [
       "   index       Player Name Position            Team  Touches in Box  Starts  \\\n",
       "0      0            Salah   Forward       Liverpool             248      33   \n",
       "1      1         Sterling   Forward         M. City             239      30   \n",
       "2      2              Zaha  Forward  Crystal Palace             192      37   \n",
       "3      3  Roberto Firmino   Forward       Liverpool             184      34   \n",
       "4      4     Raúl Jiménez   Forward          Wolves             171      37   \n",
       "\n",
       "   Minutes Played  Fouled  goles  \n",
       "0            2876      18   19.0  \n",
       "1            2651      40   20.0  \n",
       "2            3280     120    4.0  \n",
       "3            2988      16    9.0  \n",
       "4            3236      35   17.0  "
      ]
     },
     "execution_count": 180,
     "metadata": {},
     "output_type": "execute_result"
    }
   ],
   "source": [
    "data.head()"
   ]
  },
  {
   "cell_type": "markdown",
   "id": "59891d67",
   "metadata": {},
   "source": [
    "* Vamos a modificar los nombres de las columnas asi se entiende mas.\n",
    "-----"
   ]
  },
  {
   "cell_type": "code",
   "execution_count": 181,
   "id": "74681159",
   "metadata": {},
   "outputs": [],
   "source": [
    "data = data.rename(columns={\"Player Name\":\"jugadores\",\"Position\":\"posicion\",\"Team\":\"equipo\",\n",
    "                           \"Touches in Box\":\"toques_area\",\"Starts\":\"comienzo\",\n",
    "                            \"Minutes Played\":\"minutos_jugados\", \"Fouled\":\"foul_recibido\"})"
   ]
  },
  {
   "cell_type": "code",
   "execution_count": 182,
   "id": "3d8097ae",
   "metadata": {},
   "outputs": [
    {
     "data": {
      "text/html": [
       "<div>\n",
       "<style scoped>\n",
       "    .dataframe tbody tr th:only-of-type {\n",
       "        vertical-align: middle;\n",
       "    }\n",
       "\n",
       "    .dataframe tbody tr th {\n",
       "        vertical-align: top;\n",
       "    }\n",
       "\n",
       "    .dataframe thead th {\n",
       "        text-align: right;\n",
       "    }\n",
       "</style>\n",
       "<table border=\"1\" class=\"dataframe\">\n",
       "  <thead>\n",
       "    <tr style=\"text-align: right;\">\n",
       "      <th></th>\n",
       "      <th>index</th>\n",
       "      <th>toques_area</th>\n",
       "      <th>comienzo</th>\n",
       "      <th>minutos_jugados</th>\n",
       "      <th>foul_recibido</th>\n",
       "      <th>goles</th>\n",
       "    </tr>\n",
       "  </thead>\n",
       "  <tbody>\n",
       "    <tr>\n",
       "      <th>count</th>\n",
       "      <td>100.000000</td>\n",
       "      <td>100.00000</td>\n",
       "      <td>100.000000</td>\n",
       "      <td>100.000000</td>\n",
       "      <td>100.000000</td>\n",
       "      <td>58.000000</td>\n",
       "    </tr>\n",
       "    <tr>\n",
       "      <th>mean</th>\n",
       "      <td>49.500000</td>\n",
       "      <td>88.12000</td>\n",
       "      <td>26.080000</td>\n",
       "      <td>2304.070000</td>\n",
       "      <td>33.950000</td>\n",
       "      <td>9.241379</td>\n",
       "    </tr>\n",
       "    <tr>\n",
       "      <th>std</th>\n",
       "      <td>29.011492</td>\n",
       "      <td>42.50877</td>\n",
       "      <td>7.824695</td>\n",
       "      <td>672.247899</td>\n",
       "      <td>23.927658</td>\n",
       "      <td>6.009672</td>\n",
       "    </tr>\n",
       "    <tr>\n",
       "      <th>min</th>\n",
       "      <td>0.000000</td>\n",
       "      <td>44.00000</td>\n",
       "      <td>6.000000</td>\n",
       "      <td>764.000000</td>\n",
       "      <td>9.000000</td>\n",
       "      <td>0.000000</td>\n",
       "    </tr>\n",
       "    <tr>\n",
       "      <th>25%</th>\n",
       "      <td>24.750000</td>\n",
       "      <td>55.00000</td>\n",
       "      <td>21.000000</td>\n",
       "      <td>1841.750000</td>\n",
       "      <td>18.000000</td>\n",
       "      <td>4.000000</td>\n",
       "    </tr>\n",
       "    <tr>\n",
       "      <th>50%</th>\n",
       "      <td>49.500000</td>\n",
       "      <td>75.50000</td>\n",
       "      <td>26.500000</td>\n",
       "      <td>2299.500000</td>\n",
       "      <td>29.000000</td>\n",
       "      <td>8.000000</td>\n",
       "    </tr>\n",
       "    <tr>\n",
       "      <th>75%</th>\n",
       "      <td>74.250000</td>\n",
       "      <td>116.25000</td>\n",
       "      <td>32.000000</td>\n",
       "      <td>2869.250000</td>\n",
       "      <td>40.250000</td>\n",
       "      <td>13.000000</td>\n",
       "    </tr>\n",
       "    <tr>\n",
       "      <th>max</th>\n",
       "      <td>99.000000</td>\n",
       "      <td>248.00000</td>\n",
       "      <td>38.000000</td>\n",
       "      <td>3420.000000</td>\n",
       "      <td>167.000000</td>\n",
       "      <td>23.000000</td>\n",
       "    </tr>\n",
       "  </tbody>\n",
       "</table>\n",
       "</div>"
      ],
      "text/plain": [
       "            index  toques_area    comienzo  minutos_jugados  foul_recibido  \\\n",
       "count  100.000000    100.00000  100.000000       100.000000     100.000000   \n",
       "mean    49.500000     88.12000   26.080000      2304.070000      33.950000   \n",
       "std     29.011492     42.50877    7.824695       672.247899      23.927658   \n",
       "min      0.000000     44.00000    6.000000       764.000000       9.000000   \n",
       "25%     24.750000     55.00000   21.000000      1841.750000      18.000000   \n",
       "50%     49.500000     75.50000   26.500000      2299.500000      29.000000   \n",
       "75%     74.250000    116.25000   32.000000      2869.250000      40.250000   \n",
       "max     99.000000    248.00000   38.000000      3420.000000     167.000000   \n",
       "\n",
       "           goles  \n",
       "count  58.000000  \n",
       "mean    9.241379  \n",
       "std     6.009672  \n",
       "min     0.000000  \n",
       "25%     4.000000  \n",
       "50%     8.000000  \n",
       "75%    13.000000  \n",
       "max    23.000000  "
      ]
     },
     "execution_count": 182,
     "metadata": {},
     "output_type": "execute_result"
    }
   ],
   "source": [
    "data.describe()"
   ]
  },
  {
   "cell_type": "markdown",
   "id": "6b763684",
   "metadata": {},
   "source": [
    "**Observación** \n",
    "* La media de toques en el area de los 100 jugadores es de %88.16\n",
    "* La media de goles es de 9.42 \n",
    "* La media de minutos jugados es de 2304' \n",
    "* La media de foul recibido es de 34 por cada jugador\n",
    "------"
   ]
  },
  {
   "cell_type": "code",
   "execution_count": 183,
   "id": "d17c64fa",
   "metadata": {},
   "outputs": [
    {
     "data": {
      "text/plain": [
       "index               0\n",
       "jugadores           0\n",
       "posicion            0\n",
       "equipo              0\n",
       "toques_area         0\n",
       "comienzo            0\n",
       "minutos_jugados     0\n",
       "foul_recibido       0\n",
       "goles              42\n",
       "dtype: int64"
      ]
     },
     "execution_count": 183,
     "metadata": {},
     "output_type": "execute_result"
    }
   ],
   "source": [
    "data.isna().sum()"
   ]
  },
  {
   "cell_type": "markdown",
   "id": "6aa17a64",
   "metadata": {},
   "source": [
    "* Tenemos los valores nulos de los jugadores que no cargamos los goles o que no convirtieron.\n",
    "----"
   ]
  },
  {
   "cell_type": "code",
   "execution_count": 184,
   "id": "e308b305",
   "metadata": {},
   "outputs": [],
   "source": [
    "data[\"goles\"] = data[\"goles\"].fillna(0).astype(int)\n",
    "#data[\"goles\"] = data[\"goles\"].astype(int)"
   ]
  },
  {
   "cell_type": "markdown",
   "id": "d8ce0e1b",
   "metadata": {},
   "source": [
    "* Pasaremos lo valores N/A a 0 y luego los numero de goles pasarlos a numero enteros.\n",
    "---"
   ]
  },
  {
   "cell_type": "code",
   "execution_count": 185,
   "id": "2414e175",
   "metadata": {},
   "outputs": [],
   "source": [
    "import seaborn as sns"
   ]
  },
  {
   "cell_type": "code",
   "execution_count": 186,
   "id": "9e888fa4",
   "metadata": {},
   "outputs": [
    {
     "name": "stderr",
     "output_type": "stream",
     "text": [
      "C:\\Users\\Acer\\AppData\\Local\\Temp\\ipykernel_5652\\2085987848.py:2: FutureWarning: The default value of numeric_only in DataFrame.corr is deprecated. In a future version, it will default to False. Select only valid columns or specify the value of numeric_only to silence this warning.\n",
      "  correlacion_EPL = data.corr()\n"
     ]
    },
    {
     "data": {
      "image/png": "[encoded data removed]",
      "text/plain": [
       "<Figure size 900x900 with 2 Axes>"
      ]
     },
     "metadata": {},
     "output_type": "display_data"
    }
   ],
   "source": [
    "#### ##### ### Creamos la correlacion entre variables y la graficamos con la libreria seaborn \n",
    "correlacion_EPL = data.corr()\n",
    "plt.figure(figsize=(9,9))\n",
    "sns.heatmap(correlacion_EPL , annot=True , fmt ='.2f',\n",
    "            cmap=plt.cm.coolwarm_r)\n",
    "plt.xticks(rotation=23)\n",
    "plt.show()"
   ]
  },
  {
   "cell_type": "markdown",
   "id": "30998652",
   "metadata": {},
   "source": [
    "* # Observación.\n",
    "* ## Las variables con mayor correlacion son las siguientes:\n",
    "    * toques en el area y goles = 0.75\n",
    "    * minutos jugados con el comienzo del partido = 0.99\n",
    "    * comoienzo de partido con toques en el area = 0.35\n",
    "    * toques en el area y minutos jugados = 0.34\n",
    "    * foul recibido junto a comienzo y minutos jugados = 0.32\n",
    "    * goles junto a comienzo y minutos jugados = 0.29\n",
    "    * foul recibidos y toques en el area = 0.21\n",
    "    * Por ultimo el mas baja de las correlaciones positivas es goles y foul recibido = 0.09\n",
    "\n",
    "**Dandole una redación rapida podemos entender que mas minutos de juego y comienzo del partido tiene mas posibilidades de tocar mas el area, recibe mas fouls y tiene mas posibilidades de gol**\n",
    "\n",
    "----\n",
    "----"
   ]
  },
  {
   "cell_type": "code",
   "execution_count": 187,
   "id": "997593bb",
   "metadata": {},
   "outputs": [],
   "source": [
    "#### #### dumificamos las columnas que no tengan valores numericos\n",
    "\n",
    "posicion_dummy = pd.get_dummies(data[\"posicion\"])\n",
    "equipo_dummy = pd.get_dummies(data[\"equipo\"])"
   ]
  },
  {
   "cell_type": "code",
   "execution_count": 11,
   "id": "991db100",
   "metadata": {
    "scrolled": true
   },
   "outputs": [
    {
     "name": "stdout",
     "output_type": "stream",
     "text": [
      "posiciones\n",
      "Defender      13\n",
      "Forward       51\n",
      "Midfielder    36\n",
      "dtype: int64\n"
     ]
    },
    {
     "data": {
      "text/plain": [
       "(None, None)"
      ]
     },
     "execution_count": 11,
     "metadata": {},
     "output_type": "execute_result"
    }
   ],
   "source": [
    "print(\"posiciones\"),print(posicion_dummy.sum())"
   ]
  },
  {
   "cell_type": "markdown",
   "id": "e4f40ca5",
   "metadata": {},
   "source": [
    "* ## Observación\n",
    "* ### Podemos ver que los delanteros tienen mas toques en el area de los principales 100 jugadores de la premier league\n",
    "    * #### Delanteros = 51\n",
    "    * #### Medio/volantes = 36\n",
    "    * #### Defensores = 13\n",
    "    ------"
   ]
  },
  {
   "cell_type": "code",
   "execution_count": 12,
   "id": "89e097d7",
   "metadata": {},
   "outputs": [
    {
     "name": "stdout",
     "output_type": "stream",
     "text": [
      "Cantdad de jugadores por equipos\n",
      "Arsenal           3\n",
      "Aston Villa       5\n",
      "Bournemouth       5\n",
      "Brighton          3\n",
      "Burnley           4\n",
      "Chelsea           6\n",
      "Crystal Palace    5\n",
      "Everton           8\n",
      "Leicester         6\n",
      "Liverpool         6\n",
      "M. City           7\n",
      "M. United         5\n",
      "Newcastle         3\n",
      "Norwich City      4\n",
      "Sheffield Utd     7\n",
      "Southampton       5\n",
      "Tottenham         4\n",
      "Watford           5\n",
      "West Ham          4\n",
      "Wolves            5\n",
      "dtype: int64\n"
     ]
    },
    {
     "data": {
      "text/plain": [
       "(None, None)"
      ]
     },
     "execution_count": 12,
     "metadata": {},
     "output_type": "execute_result"
    }
   ],
   "source": [
    "print(\"Cantidad de jugadores por equipos\"),print(equipo_dummy.sum())"
   ]
  },
  {
   "cell_type": "markdown",
   "id": "4c8e17a1",
   "metadata": {},
   "source": [
    "* ### Observación**\n",
    "* ### El equipo que tiene mas jugadores en toques dentro del area es el Everton con 8 jugadores\n",
    "    * ### Everton = 8 | Sheffield Utd = 7 - | M.city = 7 | LIVERPOOL = 6 | Chelsea & Leicester = 6\n",
    "----------\n",
    "    \n",
    "    \n",
    "* # PREDICCIONES.\n",
    "---\n",
    "* # Regresión lineal simple.\n",
    "\n",
    "* ### Predicción del número de goles que un jugador marcará en función de la cantidad de toques que tenga en el área"
   ]
  },
  {
   "cell_type": "code",
   "execution_count": 13,
   "id": "dd6287e0",
   "metadata": {},
   "outputs": [],
   "source": [
    "from sklearn.model_selection import train_test_split"
   ]
  },
  {
   "cell_type": "code",
   "execution_count": 14,
   "id": "0f87d4e4",
   "metadata": {},
   "outputs": [],
   "source": [
    "### Variables predictoras y a predecir\n",
    "X = data[[\"toques_area\"]]\n",
    "y = data[[\"goles\"]]"
   ]
  },
  {
   "cell_type": "code",
   "execution_count": 15,
   "id": "f93fd24d",
   "metadata": {},
   "outputs": [],
   "source": [
    "X_train , X_test , y_train , y_test = train_test_split(X,y, test_size=0.3 , random_state=42) #Conjunto de training y test"
   ]
  },
  {
   "cell_type": "code",
   "execution_count": 16,
   "id": "c09f9962",
   "metadata": {},
   "outputs": [],
   "source": [
    "from sklearn.linear_model import LinearRegression"
   ]
  },
  {
   "cell_type": "code",
   "execution_count": 17,
   "id": "3600694f",
   "metadata": {},
   "outputs": [
    {
     "data": {
      "text/html": [
       "<style>#sk-container-id-1 {color: black;background-color: white;}#sk-container-id-1 pre{padding: 0;}#sk-container-id-1 div.sk-toggleable {background-color: white;}#sk-container-id-1 label.sk-toggleable__label {cursor: pointer;display: block;width: 100%;margin-bottom: 0;padding: 0.3em;box-sizing: border-box;text-align: center;}#sk-container-id-1 label.sk-toggleable__label-arrow:before {content: \"▸\";float: left;margin-right: 0.25em;color: #696969;}#sk-container-id-1 label.sk-toggleable__label-arrow:hover:before {color: black;}#sk-container-id-1 div.sk-estimator:hover label.sk-toggleable__label-arrow:before {color: black;}#sk-container-id-1 div.sk-toggleable__content {max-height: 0;max-width: 0;overflow: hidden;text-align: left;background-color: #f0f8ff;}#sk-container-id-1 div.sk-toggleable__content pre {margin: 0.2em;color: black;border-radius: 0.25em;background-color: #f0f8ff;}#sk-container-id-1 input.sk-toggleable__control:checked~div.sk-toggleable__content {max-height: 200px;max-width: 100%;overflow: auto;}#sk-container-id-1 input.sk-toggleable__control:checked~label.sk-toggleable__label-arrow:before {content: \"▾\";}#sk-container-id-1 div.sk-estimator input.sk-toggleable__control:checked~label.sk-toggleable__label {background-color: #d4ebff;}#sk-container-id-1 div.sk-label input.sk-toggleable__control:checked~label.sk-toggleable__label {background-color: #d4ebff;}#sk-container-id-1 input.sk-hidden--visually {border: 0;clip: rect(1px 1px 1px 1px);clip: rect(1px, 1px, 1px, 1px);height: 1px;margin: -1px;overflow: hidden;padding: 0;position: absolute;width: 1px;}#sk-container-id-1 div.sk-estimator {font-family: monospace;background-color: #f0f8ff;border: 1px dotted black;border-radius: 0.25em;box-sizing: border-box;margin-bottom: 0.5em;}#sk-container-id-1 div.sk-estimator:hover {background-color: #d4ebff;}#sk-container-id-1 div.sk-parallel-item::after {content: \"\";width: 100%;border-bottom: 1px solid gray;flex-grow: 1;}#sk-container-id-1 div.sk-label:hover label.sk-toggleable__label {background-color: #d4ebff;}#sk-container-id-1 div.sk-serial::before {content: \"\";position: absolute;border-left: 1px solid gray;box-sizing: border-box;top: 0;bottom: 0;left: 50%;z-index: 0;}#sk-container-id-1 div.sk-serial {display: flex;flex-direction: column;align-items: center;background-color: white;padding-right: 0.2em;padding-left: 0.2em;position: relative;}#sk-container-id-1 div.sk-item {position: relative;z-index: 1;}#sk-container-id-1 div.sk-parallel {display: flex;align-items: stretch;justify-content: center;background-color: white;position: relative;}#sk-container-id-1 div.sk-item::before, #sk-container-id-1 div.sk-parallel-item::before {content: \"\";position: absolute;border-left: 1px solid gray;box-sizing: border-box;top: 0;bottom: 0;left: 50%;z-index: -1;}#sk-container-id-1 div.sk-parallel-item {display: flex;flex-direction: column;z-index: 1;position: relative;background-color: white;}#sk-container-id-1 div.sk-parallel-item:first-child::after {align-self: flex-end;width: 50%;}#sk-container-id-1 div.sk-parallel-item:last-child::after {align-self: flex-start;width: 50%;}#sk-container-id-1 div.sk-parallel-item:only-child::after {width: 0;}#sk-container-id-1 div.sk-dashed-wrapped {border: 1px dashed gray;margin: 0 0.4em 0.5em 0.4em;box-sizing: border-box;padding-bottom: 0.4em;background-color: white;}#sk-container-id-1 div.sk-label label {font-family: monospace;font-weight: bold;display: inline-block;line-height: 1.2em;}#sk-container-id-1 div.sk-label-container {text-align: center;}#sk-container-id-1 div.sk-container {/* jupyter's `normalize.less` sets `[hidden] { display: none; }` but bootstrap.min.css set `[hidden] { display: none !important; }` so we also need the `!important` here to be able to override the default hidden behavior on the sphinx rendered scikit-learn.org. See: https://github.com/scikit-learn/scikit-learn/issues/21755 */display: inline-block !important;position: relative;}#sk-container-id-1 div.sk-text-repr-fallback {display: none;}</style><div id=\"sk-container-id-1\" class=\"sk-top-container\"><div class=\"sk-text-repr-fallback\"><pre>LinearRegression()</pre><b>In a Jupyter environment, please rerun this cell to show the HTML representation or trust the notebook. <br />On GitHub, the HTML representation is unable to render, please try loading this page with nbviewer.org.</b></div><div class=\"sk-container\" hidden><div class=\"sk-item\"><div class=\"sk-estimator sk-toggleable\"><input class=\"sk-toggleable__control sk-hidden--visually\" id=\"sk-estimator-id-1\" type=\"checkbox\" checked><label for=\"sk-estimator-id-1\" class=\"sk-toggleable__label sk-toggleable__label-arrow\">LinearRegression</label><div class=\"sk-toggleable__content\"><pre>LinearRegression()</pre></div></div></div></div></div>"
      ],
      "text/plain": [
       "LinearRegression()"
      ]
     },
     "execution_count": 17,
     "metadata": {},
     "output_type": "execute_result"
    }
   ],
   "source": [
    "#### Modelo de regression lineal \n",
    "\n",
    "modelo_lineal = LinearRegression()\n",
    "modelo_lineal.fit(X_train , y_train)"
   ]
  },
  {
   "cell_type": "code",
   "execution_count": 18,
   "id": "048e1ac7",
   "metadata": {},
   "outputs": [],
   "source": [
    "y_pred = modelo_lineal.predict(X_test)"
   ]
  },
  {
   "cell_type": "code",
   "execution_count": 19,
   "id": "def1ed89",
   "metadata": {},
   "outputs": [],
   "source": [
    "from sklearn.metrics import mean_squared_error, r2_score"
   ]
  },
  {
   "cell_type": "code",
   "execution_count": 20,
   "id": "69632a4b",
   "metadata": {},
   "outputs": [
    {
     "name": "stdout",
     "output_type": "stream",
     "text": [
      "MSE 12.002429623520408\n",
      "R2 67.60380679831943\n"
     ]
    }
   ],
   "source": [
    "mse = mean_squared_error(y_test , y_pred)\n",
    "r2 = r2_score(y_test , y_pred)\n",
    "print(\"MSE\",mse)\n",
    "print(\"R2\",r2*100)"
   ]
  },
  {
   "cell_type": "code",
   "execution_count": 21,
   "id": "833648ef",
   "metadata": {},
   "outputs": [
    {
     "data": {
      "text/plain": [
       "[<matplotlib.lines.Line2D at 0x20b185e0bb0>]"
      ]
     },
     "execution_count": 21,
     "metadata": {},
     "output_type": "execute_result"
    },
    {
     "data": {
      "image/png": "[encoded data removed]",
      "text/plain": [
       "<Figure size 640x480 with 1 Axes>"
      ]
     },
     "metadata": {},
     "output_type": "display_data"
    }
   ],
   "source": [
    "### #### Creamos una predicción general para luego hacer un grafico y demostrar la mejor predicción que creo el modelor\n",
    "y_pred1 = modelo_lineal.predict(X)\n",
    "\n",
    "### #### Creamos el grafico\n",
    "data.plot(kind=\"scatter\" , x=\"toques_area\" , y=\"goles\")\n",
    "plt.plot(pd.DataFrame(data[\"toques_area\"]) , y_pred1, c=\"red\" , linewidth=3)"
   ]
  },
  {
   "cell_type": "markdown",
   "id": "ec2c09af",
   "metadata": {},
   "source": [
    "* **Linea roja** es la predicción y los **puntos azules** son los datos originales del dataset.\n",
    "----\n",
    "\n",
    "* ## Vemos que con una regresión lineal simple el modelo va algo positivo, teniendo en cuenta que podremos agregar mas variables predictoras e intentando otros modelos de predicciones\n",
    "    * ### El valor de efectividad del modelo es de %67.60\n",
    "    * ### el valor de 'MSE' es de %12 (mide la discrepancia entre los valores reales y las predicciones)\n",
    ".-----------------------------------------------------------------------------------------------------------------------------------------------------------------------------------------------------.\n",
    "-----\n",
    "---\n",
    "\n",
    "* # PREDICCIÓN.\n",
    "* # Regresión Lineal con mas variables predictoras."
   ]
  },
  {
   "cell_type": "code",
   "execution_count": 22,
   "id": "1f59016c",
   "metadata": {},
   "outputs": [],
   "source": [
    "from sklearn.feature_selection import RFE\n",
    "from sklearn.svm import SVR"
   ]
  },
  {
   "cell_type": "code",
   "execution_count": 23,
   "id": "a3451199",
   "metadata": {},
   "outputs": [],
   "source": [
    "#### #### Primero agregamos al dataset la variable posición que dumificamos \n",
    "data_dummy = pd.concat([data , posicion_dummy], axis=1)\n",
    "data_dummy = data_dummy.drop([\"posicion\"], axis=1)"
   ]
  },
  {
   "cell_type": "code",
   "execution_count": 24,
   "id": "81789a77",
   "metadata": {},
   "outputs": [],
   "source": [
    "#### ### Lista de variables predictoras y a predecir\n",
    "X1 = data_dummy[[\"toques_area\",\"comienzo\",\"minutos_jugados\",\"foul_recibido\",\"Defender\",\"Forward\",\"Midfielder\"]]\n",
    "Y = data_dummy[\"goles\"]"
   ]
  },
  {
   "cell_type": "code",
   "execution_count": 25,
   "id": "c59b89bf",
   "metadata": {},
   "outputs": [],
   "source": [
    "#### #### le pediremos que nos elija las mejores variables para usar y crear el modelo\n",
    "estimator = SVR(kernel=\"linear\")\n",
    "selector = RFE(estimator , n_features_to_select=4 , step=1)\n",
    "selector = selector.fit(X1,Y)"
   ]
  },
  {
   "cell_type": "code",
   "execution_count": 26,
   "id": "ad5cd36f",
   "metadata": {},
   "outputs": [
    {
     "data": {
      "text/plain": [
       "array([1, 2, 4, 3, 1, 1, 1])"
      ]
     },
     "execution_count": 26,
     "metadata": {},
     "output_type": "execute_result"
    }
   ],
   "source": [
    "#### Nos diga las mejores variables para usar\n",
    "selector.ranking_"
   ]
  },
  {
   "cell_type": "code",
   "execution_count": 27,
   "id": "d78cc43e",
   "metadata": {},
   "outputs": [],
   "source": [
    "X_pred = X1[[\"toques_area\",\"Defender\",\"Forward\",\"Midfielder\"]]"
   ]
  },
  {
   "cell_type": "code",
   "execution_count": 28,
   "id": "fdd33a5c",
   "metadata": {},
   "outputs": [
    {
     "data": {
      "text/html": [
       "<style>#sk-container-id-2 {color: black;background-color: white;}#sk-container-id-2 pre{padding: 0;}#sk-container-id-2 div.sk-toggleable {background-color: white;}#sk-container-id-2 label.sk-toggleable__label {cursor: pointer;display: block;width: 100%;margin-bottom: 0;padding: 0.3em;box-sizing: border-box;text-align: center;}#sk-container-id-2 label.sk-toggleable__label-arrow:before {content: \"▸\";float: left;margin-right: 0.25em;color: #696969;}#sk-container-id-2 label.sk-toggleable__label-arrow:hover:before {color: black;}#sk-container-id-2 div.sk-estimator:hover label.sk-toggleable__label-arrow:before {color: black;}#sk-container-id-2 div.sk-toggleable__content {max-height: 0;max-width: 0;overflow: hidden;text-align: left;background-color: #f0f8ff;}#sk-container-id-2 div.sk-toggleable__content pre {margin: 0.2em;color: black;border-radius: 0.25em;background-color: #f0f8ff;}#sk-container-id-2 input.sk-toggleable__control:checked~div.sk-toggleable__content {max-height: 200px;max-width: 100%;overflow: auto;}#sk-container-id-2 input.sk-toggleable__control:checked~label.sk-toggleable__label-arrow:before {content: \"▾\";}#sk-container-id-2 div.sk-estimator input.sk-toggleable__control:checked~label.sk-toggleable__label {background-color: #d4ebff;}#sk-container-id-2 div.sk-label input.sk-toggleable__control:checked~label.sk-toggleable__label {background-color: #d4ebff;}#sk-container-id-2 input.sk-hidden--visually {border: 0;clip: rect(1px 1px 1px 1px);clip: rect(1px, 1px, 1px, 1px);height: 1px;margin: -1px;overflow: hidden;padding: 0;position: absolute;width: 1px;}#sk-container-id-2 div.sk-estimator {font-family: monospace;background-color: #f0f8ff;border: 1px dotted black;border-radius: 0.25em;box-sizing: border-box;margin-bottom: 0.5em;}#sk-container-id-2 div.sk-estimator:hover {background-color: #d4ebff;}#sk-container-id-2 div.sk-parallel-item::after {content: \"\";width: 100%;border-bottom: 1px solid gray;flex-grow: 1;}#sk-container-id-2 div.sk-label:hover label.sk-toggleable__label {background-color: #d4ebff;}#sk-container-id-2 div.sk-serial::before {content: \"\";position: absolute;border-left: 1px solid gray;box-sizing: border-box;top: 0;bottom: 0;left: 50%;z-index: 0;}#sk-container-id-2 div.sk-serial {display: flex;flex-direction: column;align-items: center;background-color: white;padding-right: 0.2em;padding-left: 0.2em;position: relative;}#sk-container-id-2 div.sk-item {position: relative;z-index: 1;}#sk-container-id-2 div.sk-parallel {display: flex;align-items: stretch;justify-content: center;background-color: white;position: relative;}#sk-container-id-2 div.sk-item::before, #sk-container-id-2 div.sk-parallel-item::before {content: \"\";position: absolute;border-left: 1px solid gray;box-sizing: border-box;top: 0;bottom: 0;left: 50%;z-index: -1;}#sk-container-id-2 div.sk-parallel-item {display: flex;flex-direction: column;z-index: 1;position: relative;background-color: white;}#sk-container-id-2 div.sk-parallel-item:first-child::after {align-self: flex-end;width: 50%;}#sk-container-id-2 div.sk-parallel-item:last-child::after {align-self: flex-start;width: 50%;}#sk-container-id-2 div.sk-parallel-item:only-child::after {width: 0;}#sk-container-id-2 div.sk-dashed-wrapped {border: 1px dashed gray;margin: 0 0.4em 0.5em 0.4em;box-sizing: border-box;padding-bottom: 0.4em;background-color: white;}#sk-container-id-2 div.sk-label label {font-family: monospace;font-weight: bold;display: inline-block;line-height: 1.2em;}#sk-container-id-2 div.sk-label-container {text-align: center;}#sk-container-id-2 div.sk-container {/* jupyter's `normalize.less` sets `[hidden] { display: none; }` but bootstrap.min.css set `[hidden] { display: none !important; }` so we also need the `!important` here to be able to override the default hidden behavior on the sphinx rendered scikit-learn.org. See: https://github.com/scikit-learn/scikit-learn/issues/21755 */display: inline-block !important;position: relative;}#sk-container-id-2 div.sk-text-repr-fallback {display: none;}</style><div id=\"sk-container-id-2\" class=\"sk-top-container\"><div class=\"sk-text-repr-fallback\"><pre>LinearRegression()</pre><b>In a Jupyter environment, please rerun this cell to show the HTML representation or trust the notebook. <br />On GitHub, the HTML representation is unable to render, please try loading this page with nbviewer.org.</b></div><div class=\"sk-container\" hidden><div class=\"sk-item\"><div class=\"sk-estimator sk-toggleable\"><input class=\"sk-toggleable__control sk-hidden--visually\" id=\"sk-estimator-id-2\" type=\"checkbox\" checked><label for=\"sk-estimator-id-2\" class=\"sk-toggleable__label sk-toggleable__label-arrow\">LinearRegression</label><div class=\"sk-toggleable__content\"><pre>LinearRegression()</pre></div></div></div></div></div>"
      ],
      "text/plain": [
       "LinearRegression()"
      ]
     },
     "execution_count": 28,
     "metadata": {},
     "output_type": "execute_result"
    }
   ],
   "source": [
    "lm = LinearRegression()\n",
    "lm.fit(X_pred , Y)"
   ]
  },
  {
   "cell_type": "code",
   "execution_count": 29,
   "id": "00d7040d",
   "metadata": {},
   "outputs": [],
   "source": [
    "#### ### Dividimos otra vez en variable grupos y entrenamiento. \n",
    "X_train , X_test , y_train , y_test  = train_test_split(X_pred, Y, test_size=0.3 , random_state=42 )"
   ]
  },
  {
   "cell_type": "code",
   "execution_count": 30,
   "id": "40aee2cd",
   "metadata": {},
   "outputs": [
    {
     "name": "stdout",
     "output_type": "stream",
     "text": [
      "MSE:10.2351851666449\n",
      "r2:0.72373840421124\n"
     ]
    }
   ],
   "source": [
    "y_pred = lm.predict(X_test)\n",
    "mse = mean_squared_error(y_test , y_pred)\n",
    "r2 = r2_score(y_test, y_pred)\n",
    "\n",
    "print(f\"MSE:{mse}\")\n",
    "print(f\"r2:{r2}\")"
   ]
  },
  {
   "cell_type": "markdown",
   "id": "114d1927",
   "metadata": {},
   "source": [
    "* ## Podemos ver que el modelo con las variables seleccionadas por el **RFE**, Hizo mejorar un poco mas el modelo un 6% mas\n",
    "    * ### El valor de efectividad del modelo ahora es de %72.37\n",
    "    * ### el valor de 'MSE' es de %10.23 (mide la discrepancia entre los valores reales y las predicciones)\n",
    ".------------------------------------------------------------------------------------------------------------------------------------------------------------------------------------------\n",
    "\n",
    "----\n",
    "* # Creamos una validación cruzada para ver como se comporta el modelo."
   ]
  },
  {
   "cell_type": "code",
   "execution_count": 31,
   "id": "90cf04e4",
   "metadata": {},
   "outputs": [],
   "source": [
    "from sklearn.model_selection import cross_val_predict\n",
    "from sklearn.metrics import mean_absolute_error"
   ]
  },
  {
   "cell_type": "code",
   "execution_count": 32,
   "id": "a3d5c924",
   "metadata": {},
   "outputs": [
    {
     "name": "stdout",
     "output_type": "stream",
     "text": [
      "MAE: 18.925595400911035\n",
      "r2:0.5427539864096256\n"
     ]
    }
   ],
   "source": [
    "y_pred = cross_val_predict(lm , X_pred , Y , cv=99)\n",
    "mae = mean_squared_error(Y , y_pred)\n",
    "r2 = r2_score(Y , y_pred)\n",
    "\n",
    "\n",
    "print(f\"MAE: {mae}\")\n",
    "print(f\"r2:{r2}\")"
   ]
  },
  {
   "cell_type": "markdown",
   "id": "b67fdbfd",
   "metadata": {},
   "source": [
    "* ## El modelo tiene un MAE de 18.92 y un R2 de 54.27, Lo que sugiere que el modelo puede hacer predicciones precisas en promedio, pero todavía hay una cantidad significativa de variabilidad en los datos que no se explica por las variables predictoras utilizadas en el modelo.\n",
    "-----\n",
    "------------------\n",
    "\n",
    "# Random Forest Regressor."
   ]
  },
  {
   "cell_type": "code",
   "execution_count": 33,
   "id": "382de045",
   "metadata": {},
   "outputs": [],
   "source": [
    "data_forest = data_dummy.drop([\"goles\"], axis=1)"
   ]
  },
  {
   "cell_type": "code",
   "execution_count": 34,
   "id": "76359b7c",
   "metadata": {},
   "outputs": [
    {
     "data": {
      "text/html": [
       "<div>\n",
       "<style scoped>\n",
       "    .dataframe tbody tr th:only-of-type {\n",
       "        vertical-align: middle;\n",
       "    }\n",
       "\n",
       "    .dataframe tbody tr th {\n",
       "        vertical-align: top;\n",
       "    }\n",
       "\n",
       "    .dataframe thead th {\n",
       "        text-align: right;\n",
       "    }\n",
       "</style>\n",
       "<table border=\"1\" class=\"dataframe\">\n",
       "  <thead>\n",
       "    <tr style=\"text-align: right;\">\n",
       "      <th></th>\n",
       "      <th>index</th>\n",
       "      <th>jugadores</th>\n",
       "      <th>equipo</th>\n",
       "      <th>toques_area</th>\n",
       "      <th>comienzo</th>\n",
       "      <th>minutos_jugados</th>\n",
       "      <th>foul_recibido</th>\n",
       "      <th>Defender</th>\n",
       "      <th>Forward</th>\n",
       "      <th>Midfielder</th>\n",
       "      <th>goles</th>\n",
       "    </tr>\n",
       "  </thead>\n",
       "  <tbody>\n",
       "    <tr>\n",
       "      <th>0</th>\n",
       "      <td>0</td>\n",
       "      <td>Salah</td>\n",
       "      <td>Liverpool</td>\n",
       "      <td>248</td>\n",
       "      <td>33</td>\n",
       "      <td>2876</td>\n",
       "      <td>18</td>\n",
       "      <td>0</td>\n",
       "      <td>1</td>\n",
       "      <td>0</td>\n",
       "      <td>19</td>\n",
       "    </tr>\n",
       "    <tr>\n",
       "      <th>1</th>\n",
       "      <td>1</td>\n",
       "      <td>Sterling</td>\n",
       "      <td>M. City</td>\n",
       "      <td>239</td>\n",
       "      <td>30</td>\n",
       "      <td>2651</td>\n",
       "      <td>40</td>\n",
       "      <td>0</td>\n",
       "      <td>1</td>\n",
       "      <td>0</td>\n",
       "      <td>20</td>\n",
       "    </tr>\n",
       "    <tr>\n",
       "      <th>2</th>\n",
       "      <td>2</td>\n",
       "      <td>Zaha</td>\n",
       "      <td>Crystal Palace</td>\n",
       "      <td>192</td>\n",
       "      <td>37</td>\n",
       "      <td>3280</td>\n",
       "      <td>120</td>\n",
       "      <td>0</td>\n",
       "      <td>1</td>\n",
       "      <td>0</td>\n",
       "      <td>4</td>\n",
       "    </tr>\n",
       "    <tr>\n",
       "      <th>3</th>\n",
       "      <td>3</td>\n",
       "      <td>Roberto Firmino</td>\n",
       "      <td>Liverpool</td>\n",
       "      <td>184</td>\n",
       "      <td>34</td>\n",
       "      <td>2988</td>\n",
       "      <td>16</td>\n",
       "      <td>0</td>\n",
       "      <td>1</td>\n",
       "      <td>0</td>\n",
       "      <td>9</td>\n",
       "    </tr>\n",
       "    <tr>\n",
       "      <th>4</th>\n",
       "      <td>4</td>\n",
       "      <td>Raúl Jiménez</td>\n",
       "      <td>Wolves</td>\n",
       "      <td>171</td>\n",
       "      <td>37</td>\n",
       "      <td>3236</td>\n",
       "      <td>35</td>\n",
       "      <td>0</td>\n",
       "      <td>1</td>\n",
       "      <td>0</td>\n",
       "      <td>17</td>\n",
       "    </tr>\n",
       "  </tbody>\n",
       "</table>\n",
       "</div>"
      ],
      "text/plain": [
       "   index         jugadores          equipo  toques_area  comienzo  \\\n",
       "0      0            Salah        Liverpool          248        33   \n",
       "1      1         Sterling          M. City          239        30   \n",
       "2      2              Zaha  Crystal Palace          192        37   \n",
       "3      3  Roberto Firmino        Liverpool          184        34   \n",
       "4      4     Raúl Jiménez           Wolves          171        37   \n",
       "\n",
       "   minutos_jugados  foul_recibido  Defender  Forward  Midfielder  goles  \n",
       "0             2876             18         0        1           0     19  \n",
       "1             2651             40         0        1           0     20  \n",
       "2             3280            120         0        1           0      4  \n",
       "3             2988             16         0        1           0      9  \n",
       "4             3236             35         0        1           0     17  "
      ]
     },
     "execution_count": 34,
     "metadata": {},
     "output_type": "execute_result"
    }
   ],
   "source": [
    "data_forest =pd.concat([data_forest,data[\"goles\"]] , axis=1)\n",
    "data_forest.head()"
   ]
  },
  {
   "cell_type": "code",
   "execution_count": 35,
   "id": "ed59d225",
   "metadata": {},
   "outputs": [],
   "source": [
    "predictoras = X1\n",
    "target = data_forest[[\"goles\"]]"
   ]
  },
  {
   "cell_type": "code",
   "execution_count": 36,
   "id": "f8d20fc7",
   "metadata": {},
   "outputs": [],
   "source": [
    "from sklearn.ensemble import RandomForestRegressor "
   ]
  },
  {
   "cell_type": "code",
   "execution_count": 37,
   "id": "c6ac04a6",
   "metadata": {},
   "outputs": [],
   "source": [
    "X_train , X_test , y_train , y_test = train_test_split(predictoras , target ,test_size=0.3 , random_state=42)"
   ]
  },
  {
   "cell_type": "code",
   "execution_count": 38,
   "id": "5b347a7c",
   "metadata": {},
   "outputs": [
    {
     "name": "stderr",
     "output_type": "stream",
     "text": [
      "C:\\Users\\Acer\\AppData\\Local\\Temp\\ipykernel_5652\\1644985222.py:3: DataConversionWarning: A column-vector y was passed when a 1d array was expected. Please change the shape of y to (n_samples,), for example using ravel().\n",
      "  random_forest.fit(X_train , y_train)\n"
     ]
    },
    {
     "data": {
      "text/html": [
       "<style>#sk-container-id-3 {color: black;background-color: white;}#sk-container-id-3 pre{padding: 0;}#sk-container-id-3 div.sk-toggleable {background-color: white;}#sk-container-id-3 label.sk-toggleable__label {cursor: pointer;display: block;width: 100%;margin-bottom: 0;padding: 0.3em;box-sizing: border-box;text-align: center;}#sk-container-id-3 label.sk-toggleable__label-arrow:before {content: \"▸\";float: left;margin-right: 0.25em;color: #696969;}#sk-container-id-3 label.sk-toggleable__label-arrow:hover:before {color: black;}#sk-container-id-3 div.sk-estimator:hover label.sk-toggleable__label-arrow:before {color: black;}#sk-container-id-3 div.sk-toggleable__content {max-height: 0;max-width: 0;overflow: hidden;text-align: left;background-color: #f0f8ff;}#sk-container-id-3 div.sk-toggleable__content pre {margin: 0.2em;color: black;border-radius: 0.25em;background-color: #f0f8ff;}#sk-container-id-3 input.sk-toggleable__control:checked~div.sk-toggleable__content {max-height: 200px;max-width: 100%;overflow: auto;}#sk-container-id-3 input.sk-toggleable__control:checked~label.sk-toggleable__label-arrow:before {content: \"▾\";}#sk-container-id-3 div.sk-estimator input.sk-toggleable__control:checked~label.sk-toggleable__label {background-color: #d4ebff;}#sk-container-id-3 div.sk-label input.sk-toggleable__control:checked~label.sk-toggleable__label {background-color: #d4ebff;}#sk-container-id-3 input.sk-hidden--visually {border: 0;clip: rect(1px 1px 1px 1px);clip: rect(1px, 1px, 1px, 1px);height: 1px;margin: -1px;overflow: hidden;padding: 0;position: absolute;width: 1px;}#sk-container-id-3 div.sk-estimator {font-family: monospace;background-color: #f0f8ff;border: 1px dotted black;border-radius: 0.25em;box-sizing: border-box;margin-bottom: 0.5em;}#sk-container-id-3 div.sk-estimator:hover {background-color: #d4ebff;}#sk-container-id-3 div.sk-parallel-item::after {content: \"\";width: 100%;border-bottom: 1px solid gray;flex-grow: 1;}#sk-container-id-3 div.sk-label:hover label.sk-toggleable__label {background-color: #d4ebff;}#sk-container-id-3 div.sk-serial::before {content: \"\";position: absolute;border-left: 1px solid gray;box-sizing: border-box;top: 0;bottom: 0;left: 50%;z-index: 0;}#sk-container-id-3 div.sk-serial {display: flex;flex-direction: column;align-items: center;background-color: white;padding-right: 0.2em;padding-left: 0.2em;position: relative;}#sk-container-id-3 div.sk-item {position: relative;z-index: 1;}#sk-container-id-3 div.sk-parallel {display: flex;align-items: stretch;justify-content: center;background-color: white;position: relative;}#sk-container-id-3 div.sk-item::before, #sk-container-id-3 div.sk-parallel-item::before {content: \"\";position: absolute;border-left: 1px solid gray;box-sizing: border-box;top: 0;bottom: 0;left: 50%;z-index: -1;}#sk-container-id-3 div.sk-parallel-item {display: flex;flex-direction: column;z-index: 1;position: relative;background-color: white;}#sk-container-id-3 div.sk-parallel-item:first-child::after {align-self: flex-end;width: 50%;}#sk-container-id-3 div.sk-parallel-item:last-child::after {align-self: flex-start;width: 50%;}#sk-container-id-3 div.sk-parallel-item:only-child::after {width: 0;}#sk-container-id-3 div.sk-dashed-wrapped {border: 1px dashed gray;margin: 0 0.4em 0.5em 0.4em;box-sizing: border-box;padding-bottom: 0.4em;background-color: white;}#sk-container-id-3 div.sk-label label {font-family: monospace;font-weight: bold;display: inline-block;line-height: 1.2em;}#sk-container-id-3 div.sk-label-container {text-align: center;}#sk-container-id-3 div.sk-container {/* jupyter's `normalize.less` sets `[hidden] { display: none; }` but bootstrap.min.css set `[hidden] { display: none !important; }` so we also need the `!important` here to be able to override the default hidden behavior on the sphinx rendered scikit-learn.org. See: https://github.com/scikit-learn/scikit-learn/issues/21755 */display: inline-block !important;position: relative;}#sk-container-id-3 div.sk-text-repr-fallback {display: none;}</style><div id=\"sk-container-id-3\" class=\"sk-top-container\"><div class=\"sk-text-repr-fallback\"><pre>RandomForestRegressor(n_estimators=300, random_state=42)</pre><b>In a Jupyter environment, please rerun this cell to show the HTML representation or trust the notebook. <br />On GitHub, the HTML representation is unable to render, please try loading this page with nbviewer.org.</b></div><div class=\"sk-container\" hidden><div class=\"sk-item\"><div class=\"sk-estimator sk-toggleable\"><input class=\"sk-toggleable__control sk-hidden--visually\" id=\"sk-estimator-id-3\" type=\"checkbox\" checked><label for=\"sk-estimator-id-3\" class=\"sk-toggleable__label sk-toggleable__label-arrow\">RandomForestRegressor</label><div class=\"sk-toggleable__content\"><pre>RandomForestRegressor(n_estimators=300, random_state=42)</pre></div></div></div></div></div>"
      ],
      "text/plain": [
       "RandomForestRegressor(n_estimators=300, random_state=42)"
      ]
     },
     "execution_count": 38,
     "metadata": {},
     "output_type": "execute_result"
    }
   ],
   "source": [
    "### ### Creamos el modelo y lo entrenamos\n",
    "random_forest = RandomForestRegressor(n_estimators=300 , random_state=42)\n",
    "random_forest.fit(X_train , y_train)"
   ]
  },
  {
   "cell_type": "code",
   "execution_count": 39,
   "id": "ddacd3b1",
   "metadata": {},
   "outputs": [],
   "source": [
    "y_pred = random_forest.predict(X_test)"
   ]
  },
  {
   "cell_type": "code",
   "execution_count": 40,
   "id": "7e6446b0",
   "metadata": {},
   "outputs": [
    {
     "name": "stdout",
     "output_type": "stream",
     "text": [
      "Coeficiente de determinación R2: 58.62698336532309\n",
      "Error absoluto medio MAE: 2.6046666666666667\n"
     ]
    }
   ],
   "source": [
    "r2 = r2_score(y_test, y_pred)\n",
    "mae = mean_absolute_error(y_test, y_pred)\n",
    "\n",
    "print(\"Coeficiente de determinación R2:\", r2*100)\n",
    "print(\"Error absoluto medio MAE:\", mae)"
   ]
  },
  {
   "cell_type": "markdown",
   "id": "73eaf9f9",
   "metadata": {},
   "source": [
    "# RESUMEN HASTA AHORA.\n",
    "* ## El coeficiente de determinación R2 obtenido de 58.62 indica que el modelo de Random Forest Regressor explica aproximadamente el 58% de la variabilidad en la variable objetivo (en este caso, el porcentaje de goles). Por lo tanto, podemos decir que el modelo tiene un buen ajuste.\n",
    "\n",
    "\n",
    "* ## El error absoluto medio MAE de 2.60 indica que, en promedio, las predicciones del modelo tienen un error absoluto de 2.62 puntos porcentuales en comparación con los valores reales de la variable objetivo.\n",
    "    * ### Es decir que que modelor del Random Forest Regressor prece ser un buen predictor del porcentaje de goles, ya que tiene un coeficiente de determinación razonablemente alto y un error absoluto medio bajo. Sin embargo, aún puede haber espacio para mejorar el modelo utilizando técnicas.\n",
    "# -----------------------------------------------------------------------------------------------------------\n",
    "# 2DA PARTE....\n",
    "\n",
    "* ## Random Forest Regressor (datos normalizados)"
   ]
  },
  {
   "cell_type": "code",
   "execution_count": 41,
   "id": "820fe6aa",
   "metadata": {},
   "outputs": [],
   "source": [
    "from sklearn.preprocessing import MinMaxScaler"
   ]
  },
  {
   "cell_type": "code",
   "execution_count": 42,
   "id": "c03f1376",
   "metadata": {},
   "outputs": [],
   "source": [
    "predictoras = X1\n",
    "target = data_forest[[\"goles\"]]\n",
    "\n",
    "### ##### Normalizamos los datos \n",
    "scaler = MinMaxScaler()\n",
    "X_scalado = scaler.fit_transform(X1)"
   ]
  },
  {
   "cell_type": "code",
   "execution_count": 43,
   "id": "a2ea0bf2",
   "metadata": {},
   "outputs": [],
   "source": [
    "X_train , X_test , y_train , y_test = train_test_split(predictoras , target ,test_size=0.3 , random_state=42)"
   ]
  },
  {
   "cell_type": "code",
   "execution_count": 44,
   "id": "acef962b",
   "metadata": {},
   "outputs": [
    {
     "name": "stderr",
     "output_type": "stream",
     "text": [
      "C:\\Users\\Acer\\AppData\\Local\\Temp\\ipykernel_5652\\705843672.py:2: DataConversionWarning: A column-vector y was passed when a 1d array was expected. Please change the shape of y to (n_samples,), for example using ravel().\n",
      "  random_forest_sca.fit(X_train , y_train)\n"
     ]
    },
    {
     "data": {
      "text/html": [
       "<style>#sk-container-id-4 {color: black;background-color: white;}#sk-container-id-4 pre{padding: 0;}#sk-container-id-4 div.sk-toggleable {background-color: white;}#sk-container-id-4 label.sk-toggleable__label {cursor: pointer;display: block;width: 100%;margin-bottom: 0;padding: 0.3em;box-sizing: border-box;text-align: center;}#sk-container-id-4 label.sk-toggleable__label-arrow:before {content: \"▸\";float: left;margin-right: 0.25em;color: #696969;}#sk-container-id-4 label.sk-toggleable__label-arrow:hover:before {color: black;}#sk-container-id-4 div.sk-estimator:hover label.sk-toggleable__label-arrow:before {color: black;}#sk-container-id-4 div.sk-toggleable__content {max-height: 0;max-width: 0;overflow: hidden;text-align: left;background-color: #f0f8ff;}#sk-container-id-4 div.sk-toggleable__content pre {margin: 0.2em;color: black;border-radius: 0.25em;background-color: #f0f8ff;}#sk-container-id-4 input.sk-toggleable__control:checked~div.sk-toggleable__content {max-height: 200px;max-width: 100%;overflow: auto;}#sk-container-id-4 input.sk-toggleable__control:checked~label.sk-toggleable__label-arrow:before {content: \"▾\";}#sk-container-id-4 div.sk-estimator input.sk-toggleable__control:checked~label.sk-toggleable__label {background-color: #d4ebff;}#sk-container-id-4 div.sk-label input.sk-toggleable__control:checked~label.sk-toggleable__label {background-color: #d4ebff;}#sk-container-id-4 input.sk-hidden--visually {border: 0;clip: rect(1px 1px 1px 1px);clip: rect(1px, 1px, 1px, 1px);height: 1px;margin: -1px;overflow: hidden;padding: 0;position: absolute;width: 1px;}#sk-container-id-4 div.sk-estimator {font-family: monospace;background-color: #f0f8ff;border: 1px dotted black;border-radius: 0.25em;box-sizing: border-box;margin-bottom: 0.5em;}#sk-container-id-4 div.sk-estimator:hover {background-color: #d4ebff;}#sk-container-id-4 div.sk-parallel-item::after {content: \"\";width: 100%;border-bottom: 1px solid gray;flex-grow: 1;}#sk-container-id-4 div.sk-label:hover label.sk-toggleable__label {background-color: #d4ebff;}#sk-container-id-4 div.sk-serial::before {content: \"\";position: absolute;border-left: 1px solid gray;box-sizing: border-box;top: 0;bottom: 0;left: 50%;z-index: 0;}#sk-container-id-4 div.sk-serial {display: flex;flex-direction: column;align-items: center;background-color: white;padding-right: 0.2em;padding-left: 0.2em;position: relative;}#sk-container-id-4 div.sk-item {position: relative;z-index: 1;}#sk-container-id-4 div.sk-parallel {display: flex;align-items: stretch;justify-content: center;background-color: white;position: relative;}#sk-container-id-4 div.sk-item::before, #sk-container-id-4 div.sk-parallel-item::before {content: \"\";position: absolute;border-left: 1px solid gray;box-sizing: border-box;top: 0;bottom: 0;left: 50%;z-index: -1;}#sk-container-id-4 div.sk-parallel-item {display: flex;flex-direction: column;z-index: 1;position: relative;background-color: white;}#sk-container-id-4 div.sk-parallel-item:first-child::after {align-self: flex-end;width: 50%;}#sk-container-id-4 div.sk-parallel-item:last-child::after {align-self: flex-start;width: 50%;}#sk-container-id-4 div.sk-parallel-item:only-child::after {width: 0;}#sk-container-id-4 div.sk-dashed-wrapped {border: 1px dashed gray;margin: 0 0.4em 0.5em 0.4em;box-sizing: border-box;padding-bottom: 0.4em;background-color: white;}#sk-container-id-4 div.sk-label label {font-family: monospace;font-weight: bold;display: inline-block;line-height: 1.2em;}#sk-container-id-4 div.sk-label-container {text-align: center;}#sk-container-id-4 div.sk-container {/* jupyter's `normalize.less` sets `[hidden] { display: none; }` but bootstrap.min.css set `[hidden] { display: none !important; }` so we also need the `!important` here to be able to override the default hidden behavior on the sphinx rendered scikit-learn.org. See: https://github.com/scikit-learn/scikit-learn/issues/21755 */display: inline-block !important;position: relative;}#sk-container-id-4 div.sk-text-repr-fallback {display: none;}</style><div id=\"sk-container-id-4\" class=\"sk-top-container\"><div class=\"sk-text-repr-fallback\"><pre>RandomForestRegressor(n_estimators=300, random_state=18)</pre><b>In a Jupyter environment, please rerun this cell to show the HTML representation or trust the notebook. <br />On GitHub, the HTML representation is unable to render, please try loading this page with nbviewer.org.</b></div><div class=\"sk-container\" hidden><div class=\"sk-item\"><div class=\"sk-estimator sk-toggleable\"><input class=\"sk-toggleable__control sk-hidden--visually\" id=\"sk-estimator-id-4\" type=\"checkbox\" checked><label for=\"sk-estimator-id-4\" class=\"sk-toggleable__label sk-toggleable__label-arrow\">RandomForestRegressor</label><div class=\"sk-toggleable__content\"><pre>RandomForestRegressor(n_estimators=300, random_state=18)</pre></div></div></div></div></div>"
      ],
      "text/plain": [
       "RandomForestRegressor(n_estimators=300, random_state=18)"
      ]
     },
     "execution_count": 44,
     "metadata": {},
     "output_type": "execute_result"
    }
   ],
   "source": [
    "random_forest_sca = RandomForestRegressor(n_estimators=300 , random_state=18)\n",
    "random_forest_sca.fit(X_train , y_train)"
   ]
  },
  {
   "cell_type": "code",
   "execution_count": 45,
   "id": "657204d3",
   "metadata": {},
   "outputs": [],
   "source": [
    "#### #### Creamos una predicción con el conjunto de prueba\n",
    "y_pred = random_forest_sca.predict(X_test)"
   ]
  },
  {
   "cell_type": "code",
   "execution_count": 46,
   "id": "2cb2604f",
   "metadata": {},
   "outputs": [
    {
     "name": "stdout",
     "output_type": "stream",
     "text": [
      "Coeficiente de determinación R2: 0.5816100347888675\n",
      "Error absoluto medio MAE: 2.6378888888888885\n"
     ]
    }
   ],
   "source": [
    "r2 = r2_score(y_test , y_pred)\n",
    "mae = mean_absolute_error(y_test , y_pred)\n",
    "\n",
    "print(\"Coeficiente de determinación R2:\", r2)\n",
    "print(\"Error absoluto medio MAE:\", mae)"
   ]
  },
  {
   "cell_type": "markdown",
   "id": "d4ba4ff4",
   "metadata": {},
   "source": [
    "* ## Se puede ver que el R2 y MAE bajaron apenas un poco cuando normalizamos los datos\n",
    "    * ## El coeficiente de determinación R2 obtenido es de = 58.16\n",
    "    * ## El error absoluto medio MAE es de = 2.63\n",
    "-------------\n",
    "------------\n",
    "\n",
    "# Red Neuronal (datos reescalado) para seguir sobre la predicción de goles."
   ]
  },
  {
   "cell_type": "code",
   "execution_count": 114,
   "id": "e16a8f03",
   "metadata": {},
   "outputs": [],
   "source": [
    "from sklearn.preprocessing import StandardScaler\n",
    "from tensorflow.keras.models import Sequential\n",
    "from tensorflow.keras.layers import Dense\n",
    "from tensorflow import keras"
   ]
  },
  {
   "cell_type": "code",
   "execution_count": 115,
   "id": "1111cb5e",
   "metadata": {},
   "outputs": [],
   "source": [
    "XR = X1"
   ]
  },
  {
   "cell_type": "code",
   "execution_count": 116,
   "id": "fc22cd8b",
   "metadata": {},
   "outputs": [],
   "source": [
    "X_train, X_test, y_train, y_test = train_test_split(XR, y, test_size=0.3, random_state=42)"
   ]
  },
  {
   "cell_type": "code",
   "execution_count": 117,
   "id": "3765136d",
   "metadata": {},
   "outputs": [],
   "source": [
    "scaler1 = StandardScaler()\n",
    "X_train = scaler1.fit_transform(X_train)\n",
    "X_test = scaler1.fit_transform(X_test)"
   ]
  },
  {
   "cell_type": "code",
   "execution_count": 118,
   "id": "258c2cfc",
   "metadata": {},
   "outputs": [],
   "source": [
    "#### #### Creamos el modelo\n",
    "modelo = Sequential()\n",
    "modelo.add(Dense(64,activation='relu' , input_dim=X_train.shape[1]))\n",
    "modelo.add(Dense(64,activation='relu'))\n",
    "modelo.add(Dense(32,activation='relu'))\n",
    "modelo.add(Dense(1))"
   ]
  },
  {
   "cell_type": "code",
   "execution_count": 119,
   "id": "d37035d5",
   "metadata": {},
   "outputs": [],
   "source": [
    "### ### COMPILAMOS EL MODELO\n",
    "modelo.compile(optimizer=keras.optimizers.Adam(learning_rate=0.001) , loss=\"mean_squared_error\")"
   ]
  },
  {
   "cell_type": "code",
   "execution_count": 120,
   "id": "fc82c0ae",
   "metadata": {
    "scrolled": true
   },
   "outputs": [
    {
     "name": "stdout",
     "output_type": "stream",
     "text": [
      "Epoch 1/100\n",
      "2/2 [==============================] - 1s 8ms/step - loss: 65.3434\n",
      "Epoch 2/100\n",
      "2/2 [==============================] - 0s 10ms/step - loss: 63.8624\n",
      "Epoch 3/100\n",
      "2/2 [==============================] - 0s 7ms/step - loss: 62.4519\n",
      "Epoch 4/100\n",
      "2/2 [==============================] - 0s 6ms/step - loss: 61.0107\n",
      "Epoch 5/100\n",
      "2/2 [==============================] - 0s 9ms/step - loss: 59.5482\n",
      "Epoch 6/100\n",
      "2/2 [==============================] - 0s 6ms/step - loss: 58.3059\n",
      "Epoch 7/100\n",
      "2/2 [==============================] - 0s 8ms/step - loss: 56.8538\n",
      "Epoch 8/100\n",
      "2/2 [==============================] - 0s 14ms/step - loss: 55.5129\n",
      "Epoch 9/100\n",
      "2/2 [==============================] - 0s 10ms/step - loss: 54.1090\n",
      "Epoch 10/100\n",
      "2/2 [==============================] - 0s 6ms/step - loss: 52.4690\n",
      "Epoch 11/100\n",
      "2/2 [==============================] - 0s 7ms/step - loss: 50.9959\n",
      "Epoch 12/100\n",
      "2/2 [==============================] - 0s 7ms/step - loss: 49.2453\n",
      "Epoch 13/100\n",
      "2/2 [==============================] - 0s 7ms/step - loss: 47.5248\n",
      "Epoch 14/100\n",
      "2/2 [==============================] - 0s 7ms/step - loss: 45.6736\n",
      "Epoch 15/100\n",
      "2/2 [==============================] - 0s 8ms/step - loss: 43.5978\n",
      "Epoch 16/100\n",
      "2/2 [==============================] - 0s 6ms/step - loss: 41.7764\n",
      "Epoch 17/100\n",
      "2/2 [==============================] - 0s 6ms/step - loss: 39.6887\n",
      "Epoch 18/100\n",
      "2/2 [==============================] - 0s 6ms/step - loss: 37.4974\n",
      "Epoch 19/100\n",
      "2/2 [==============================] - 0s 6ms/step - loss: 35.6953\n",
      "Epoch 20/100\n",
      "2/2 [==============================] - 0s 12ms/step - loss: 33.5170\n",
      "Epoch 21/100\n",
      "2/2 [==============================] - 0s 7ms/step - loss: 31.5883\n",
      "Epoch 22/100\n",
      "2/2 [==============================] - 0s 8ms/step - loss: 29.5791\n",
      "Epoch 23/100\n",
      "2/2 [==============================] - 0s 7ms/step - loss: 27.6322\n",
      "Epoch 24/100\n",
      "2/2 [==============================] - 0s 9ms/step - loss: 25.9814\n",
      "Epoch 25/100\n",
      "2/2 [==============================] - 0s 9ms/step - loss: 24.5642\n",
      "Epoch 26/100\n",
      "2/2 [==============================] - 0s 7ms/step - loss: 23.2899\n",
      "Epoch 27/100\n",
      "2/2 [==============================] - 0s 12ms/step - loss: 22.4298\n",
      "Epoch 28/100\n",
      "2/2 [==============================] - 0s 9ms/step - loss: 21.8300\n",
      "Epoch 29/100\n",
      "2/2 [==============================] - 0s 10ms/step - loss: 21.3199\n",
      "Epoch 30/100\n",
      "2/2 [==============================] - 0s 13ms/step - loss: 20.9165\n",
      "Epoch 31/100\n",
      "2/2 [==============================] - 0s 10ms/step - loss: 20.5541\n",
      "Epoch 32/100\n",
      "2/2 [==============================] - 0s 9ms/step - loss: 20.2507\n",
      "Epoch 33/100\n",
      "2/2 [==============================] - 0s 14ms/step - loss: 19.9091\n",
      "Epoch 34/100\n",
      "2/2 [==============================] - 0s 9ms/step - loss: 19.6726\n",
      "Epoch 35/100\n",
      "2/2 [==============================] - 0s 6ms/step - loss: 19.3697\n",
      "Epoch 36/100\n",
      "2/2 [==============================] - 0s 6ms/step - loss: 19.1052\n",
      "Epoch 37/100\n",
      "2/2 [==============================] - 0s 14ms/step - loss: 18.8612\n",
      "Epoch 38/100\n",
      "2/2 [==============================] - 0s 7ms/step - loss: 18.6557\n",
      "Epoch 39/100\n",
      "2/2 [==============================] - 0s 9ms/step - loss: 18.4729\n",
      "Epoch 40/100\n",
      "2/2 [==============================] - 0s 13ms/step - loss: 18.3200\n",
      "Epoch 41/100\n",
      "2/2 [==============================] - 0s 13ms/step - loss: 18.1622\n",
      "Epoch 42/100\n",
      "2/2 [==============================] - 0s 8ms/step - loss: 17.9283\n",
      "Epoch 43/100\n",
      "2/2 [==============================] - 0s 10ms/step - loss: 17.6636\n",
      "Epoch 44/100\n",
      "2/2 [==============================] - 0s 10ms/step - loss: 17.4526\n",
      "Epoch 45/100\n",
      "2/2 [==============================] - 0s 10ms/step - loss: 17.3120\n",
      "Epoch 46/100\n",
      "2/2 [==============================] - 0s 9ms/step - loss: 17.1216\n",
      "Epoch 47/100\n",
      "2/2 [==============================] - 0s 11ms/step - loss: 17.0066\n",
      "Epoch 48/100\n",
      "2/2 [==============================] - 0s 9ms/step - loss: 16.8210\n",
      "Epoch 49/100\n",
      "2/2 [==============================] - 0s 13ms/step - loss: 16.6248\n",
      "Epoch 50/100\n",
      "2/2 [==============================] - 0s 7ms/step - loss: 16.4480\n",
      "Epoch 51/100\n",
      "2/2 [==============================] - 0s 10ms/step - loss: 16.2385\n",
      "Epoch 52/100\n",
      "2/2 [==============================] - 0s 10ms/step - loss: 15.9844\n",
      "Epoch 53/100\n",
      "2/2 [==============================] - 0s 11ms/step - loss: 15.8761\n",
      "Epoch 54/100\n",
      "2/2 [==============================] - 0s 6ms/step - loss: 15.6832\n",
      "Epoch 55/100\n",
      "2/2 [==============================] - 0s 6ms/step - loss: 15.6245\n",
      "Epoch 56/100\n",
      "2/2 [==============================] - 0s 7ms/step - loss: 15.5880\n",
      "Epoch 57/100\n",
      "2/2 [==============================] - 0s 7ms/step - loss: 15.5153\n",
      "Epoch 58/100\n",
      "2/2 [==============================] - 0s 7ms/step - loss: 15.4329\n",
      "Epoch 59/100\n",
      "2/2 [==============================] - 0s 7ms/step - loss: 15.4260\n",
      "Epoch 60/100\n",
      "2/2 [==============================] - 0s 8ms/step - loss: 15.3612\n",
      "Epoch 61/100\n",
      "2/2 [==============================] - 0s 7ms/step - loss: 15.2823\n",
      "Epoch 62/100\n",
      "2/2 [==============================] - 0s 9ms/step - loss: 15.1648\n",
      "Epoch 63/100\n",
      "2/2 [==============================] - 0s 10ms/step - loss: 14.8403\n",
      "Epoch 64/100\n",
      "2/2 [==============================] - 0s 11ms/step - loss: 14.6793\n",
      "Epoch 65/100\n",
      "2/2 [==============================] - 0s 15ms/step - loss: 14.5223\n",
      "Epoch 66/100\n",
      "2/2 [==============================] - 0s 11ms/step - loss: 14.2780\n",
      "Epoch 67/100\n",
      "2/2 [==============================] - 0s 15ms/step - loss: 14.1220\n",
      "Epoch 68/100\n",
      "2/2 [==============================] - 0s 7ms/step - loss: 13.9592\n",
      "Epoch 69/100\n",
      "2/2 [==============================] - 0s 10ms/step - loss: 13.8656\n",
      "Epoch 70/100\n",
      "2/2 [==============================] - 0s 9ms/step - loss: 13.6083\n",
      "Epoch 71/100\n",
      "2/2 [==============================] - 0s 44ms/step - loss: 13.4742\n",
      "Epoch 72/100\n",
      "2/2 [==============================] - 0s 6ms/step - loss: 13.3548\n",
      "Epoch 73/100\n",
      "2/2 [==============================] - 0s 6ms/step - loss: 13.2602\n",
      "Epoch 74/100\n",
      "2/2 [==============================] - 0s 10ms/step - loss: 13.0984\n",
      "Epoch 75/100\n",
      "2/2 [==============================] - 0s 14ms/step - loss: 12.9578\n",
      "Epoch 76/100\n",
      "2/2 [==============================] - 0s 11ms/step - loss: 12.7626\n",
      "Epoch 77/100\n",
      "2/2 [==============================] - 0s 12ms/step - loss: 12.7907\n",
      "Epoch 78/100\n",
      "2/2 [==============================] - 0s 12ms/step - loss: 12.6083\n",
      "Epoch 79/100\n",
      "2/2 [==============================] - 0s 12ms/step - loss: 12.5428\n",
      "Epoch 80/100\n",
      "2/2 [==============================] - 0s 11ms/step - loss: 12.4746\n",
      "Epoch 81/100\n",
      "2/2 [==============================] - 0s 9ms/step - loss: 12.4023\n",
      "Epoch 82/100\n",
      "2/2 [==============================] - 0s 11ms/step - loss: 12.3627\n",
      "Epoch 83/100\n",
      "2/2 [==============================] - 0s 12ms/step - loss: 12.2726\n",
      "Epoch 84/100\n",
      "2/2 [==============================] - 0s 13ms/step - loss: 12.1591\n",
      "Epoch 85/100\n",
      "2/2 [==============================] - 0s 10ms/step - loss: 12.0840\n",
      "Epoch 86/100\n",
      "2/2 [==============================] - 0s 16ms/step - loss: 12.0153\n",
      "Epoch 87/100\n",
      "2/2 [==============================] - 0s 11ms/step - loss: 11.9310\n",
      "Epoch 88/100\n",
      "2/2 [==============================] - 0s 8ms/step - loss: 11.9539\n",
      "Epoch 89/100\n",
      "2/2 [==============================] - 0s 8ms/step - loss: 11.8702\n",
      "Epoch 90/100\n",
      "2/2 [==============================] - 0s 7ms/step - loss: 11.7459\n",
      "Epoch 91/100\n",
      "2/2 [==============================] - 0s 11ms/step - loss: 11.6435\n",
      "Epoch 92/100\n",
      "2/2 [==============================] - 0s 11ms/step - loss: 11.5334\n",
      "Epoch 93/100\n",
      "2/2 [==============================] - 0s 6ms/step - loss: 11.4467\n",
      "Epoch 94/100\n",
      "2/2 [==============================] - 0s 6ms/step - loss: 11.3865\n",
      "Epoch 95/100\n",
      "2/2 [==============================] - 0s 5ms/step - loss: 11.3085\n",
      "Epoch 96/100\n",
      "2/2 [==============================] - 0s 6ms/step - loss: 11.2356\n",
      "Epoch 97/100\n",
      "2/2 [==============================] - 0s 5ms/step - loss: 11.1749\n",
      "Epoch 98/100\n",
      "2/2 [==============================] - 0s 8ms/step - loss: 11.1061\n",
      "Epoch 99/100\n",
      "2/2 [==============================] - 0s 8ms/step - loss: 11.0091\n",
      "Epoch 100/100\n",
      "2/2 [==============================] - 0s 7ms/step - loss: 10.9293\n"
     ]
    },
    {
     "data": {
      "text/plain": [
       "<keras.callbacks.History at 0x20b2dd28ca0>"
      ]
     },
     "execution_count": 120,
     "metadata": {},
     "output_type": "execute_result"
    }
   ],
   "source": [
    "### ### Entrenamos el modelo\n",
    "modelo.fit(X_train , y_train , epochs=100 , batch_size=62 , verbose=1)"
   ]
  },
  {
   "cell_type": "code",
   "execution_count": 121,
   "id": "b1f8e1a8",
   "metadata": {},
   "outputs": [
    {
     "name": "stdout",
     "output_type": "stream",
     "text": [
      "1/1 [==============================] - 0s 156ms/step - loss: 13.8646\n"
     ]
    }
   ],
   "source": [
    "score = modelo.evaluate(X_test , y_test)"
   ]
  },
  {
   "cell_type": "code",
   "execution_count": 122,
   "id": "899cddcf",
   "metadata": {},
   "outputs": [
    {
     "name": "stdout",
     "output_type": "stream",
     "text": [
      "WARNING:tensorflow:6 out of the last 6 calls to <function Model.make_predict_function.<locals>.predict_function at 0x0000020B2DB7C5E0> triggered tf.function retracing. Tracing is expensive and the excessive number of tracings could be due to (1) creating @tf.function repeatedly in a loop, (2) passing tensors with different shapes, (3) passing Python objects instead of tensors. For (1), please define your @tf.function outside of the loop. For (2), @tf.function has reduce_retracing=True option that can avoid unnecessary retracing. For (3), please refer to https://www.tensorflow.org/guide/function#controlling_retracing and https://www.tensorflow.org/api_docs/python/tf/function for  more details.\n",
      "1/1 [==============================] - 0s 96ms/step\n"
     ]
    }
   ],
   "source": [
    "prediction = modelo.predict(X_test)"
   ]
  },
  {
   "cell_type": "code",
   "execution_count": 123,
   "id": "423e7f56",
   "metadata": {},
   "outputs": [
    {
     "name": "stdout",
     "output_type": "stream",
     "text": [
      "Coeficiente de determinación R2: 62.57743051582902\n",
      "Error absoluto medio MAE: 2.3409573920071125\n"
     ]
    }
   ],
   "source": [
    "print('Coeficiente de determinación R2:', r2_score(y_test, prediction)*100)\n",
    "print('Error absoluto medio MAE:', mean_absolute_error(y_test, prediction))"
   ]
  },
  {
   "cell_type": "markdown",
   "id": "53ff22cb",
   "metadata": {},
   "source": [
    " * ## El R2 y MAE bajaron nuevamente un poco cuando utilizamos esta red neuronal\n",
    "    * ### El coeficiente de determinación R2 obtenido es de = 62.57\n",
    "    * ### El error absoluto medio MAE es de = 2.34\n",
    "-----\n",
    "-------\n",
    "# Red neuronal (datos normalizados)."
   ]
  },
  {
   "cell_type": "code",
   "execution_count": 57,
   "id": "5afbbfad",
   "metadata": {},
   "outputs": [],
   "source": [
    "### ### Normalizamos los datos\n",
    "X_norm = (X1- X1.mean() / X1.std())"
   ]
  },
  {
   "cell_type": "code",
   "execution_count": 58,
   "id": "f48c5764",
   "metadata": {},
   "outputs": [],
   "source": [
    "#### datos entrenamiento y test\n",
    "X_train , X_test , Y_train , Y_test = train_test_split (X_norm , Y , test_size=0.3 , random_state=19)"
   ]
  },
  {
   "cell_type": "code",
   "execution_count": 59,
   "id": "c63b998a",
   "metadata": {},
   "outputs": [],
   "source": [
    "modeloR = keras.Sequential([\n",
    "    keras.layers.Dense(64, activation='relu', input_shape=[7]),\n",
    "    keras.layers.Dense(64, activation='relu'),\n",
    "    keras.layers.Dense(64, activation='relu'),\n",
    "    keras.layers.Dense(64, activation='relu'),\n",
    "    keras.layers.Dense(32, activation='relu'),\n",
    "    keras.layers.Dense(1)\n",
    "])"
   ]
  },
  {
   "cell_type": "code",
   "execution_count": 60,
   "id": "41d72129",
   "metadata": {
    "scrolled": true
   },
   "outputs": [
    {
     "name": "stdout",
     "output_type": "stream",
     "text": [
      "Epoch 1/50\n"
     ]
    },
    {
     "name": "stderr",
     "output_type": "stream",
     "text": [
      "C:\\Users\\Acer\\anaconda3\\envs\\Trabajar-con-tensorflow\\lib\\site-packages\\keras\\engine\\data_adapter.py:1696: FutureWarning: The behavior of `series[i:j]` with an integer-dtype index is deprecated. In a future version, this will be treated as *label-based* indexing, consistent with e.g. `series[i]` lookups. To retain the old behavior, use `series.iloc[i:j]`. To get the future behavior, use `series.loc[i:j]`.\n",
      "  return t[start:end]\n"
     ]
    },
    {
     "name": "stdout",
     "output_type": "stream",
     "text": [
      "2/2 [==============================] - 1s 276ms/step - loss: 20995.6211 - mae: 133.0858 - val_loss: 812.7407 - val_mae: 26.2404\n",
      "Epoch 2/50\n",
      "2/2 [==============================] - 0s 49ms/step - loss: 559.4615 - mae: 21.6171 - val_loss: 1654.9056 - val_mae: 38.7419\n",
      "Epoch 3/50\n",
      "2/2 [==============================] - 0s 51ms/step - loss: 2308.1357 - mae: 45.6100 - val_loss: 2387.0491 - val_mae: 46.5881\n",
      "Epoch 4/50\n",
      "2/2 [==============================] - 0s 44ms/step - loss: 2390.2749 - mae: 46.7866 - val_loss: 730.7272 - val_mae: 25.5829\n",
      "Epoch 5/50\n",
      "2/2 [==============================] - 0s 48ms/step - loss: 691.2004 - mae: 23.9249 - val_loss: 31.0365 - val_mae: 4.7949\n",
      "Epoch 6/50\n",
      "2/2 [==============================] - 0s 48ms/step - loss: 47.8622 - mae: 5.5909 - val_loss: 252.8572 - val_mae: 13.9462\n",
      "Epoch 7/50\n",
      "2/2 [==============================] - 0s 47ms/step - loss: 248.6487 - mae: 13.8967 - val_loss: 523.2853 - val_mae: 20.8364\n",
      "Epoch 8/50\n",
      "2/2 [==============================] - 0s 46ms/step - loss: 442.0322 - mae: 19.3193 - val_loss: 428.6473 - val_mae: 18.6998\n",
      "Epoch 9/50\n",
      "2/2 [==============================] - 0s 43ms/step - loss: 316.4501 - mae: 15.7613 - val_loss: 102.3863 - val_mae: 8.0423\n",
      "Epoch 10/50\n",
      "2/2 [==============================] - 0s 41ms/step - loss: 54.2390 - mae: 5.7228 - val_loss: 57.6540 - val_mae: 6.2578\n",
      "Epoch 11/50\n",
      "2/2 [==============================] - 0s 42ms/step - loss: 122.3939 - mae: 9.7623 - val_loss: 134.3840 - val_mae: 10.3215\n",
      "Epoch 12/50\n",
      "2/2 [==============================] - 0s 43ms/step - loss: 178.2697 - mae: 12.2530 - val_loss: 52.6224 - val_mae: 5.9734\n",
      "Epoch 13/50\n",
      "2/2 [==============================] - 0s 67ms/step - loss: 70.2037 - mae: 7.4333 - val_loss: 42.1014 - val_mae: 4.9780\n",
      "Epoch 14/50\n",
      "2/2 [==============================] - 0s 63ms/step - loss: 36.7117 - mae: 4.1671 - val_loss: 88.3567 - val_mae: 7.1969\n",
      "Epoch 15/50\n",
      "2/2 [==============================] - 0s 60ms/step - loss: 62.5226 - mae: 5.4932 - val_loss: 100.3453 - val_mae: 7.8391\n",
      "Epoch 16/50\n",
      "2/2 [==============================] - 0s 58ms/step - loss: 66.2654 - mae: 5.7327 - val_loss: 72.6788 - val_mae: 6.3450\n",
      "Epoch 17/50\n",
      "2/2 [==============================] - 0s 47ms/step - loss: 44.2479 - mae: 4.4438 - val_loss: 39.0756 - val_mae: 4.9441\n",
      "Epoch 18/50\n",
      "2/2 [==============================] - 0s 51ms/step - loss: 29.6964 - mae: 4.3658 - val_loss: 27.2352 - val_mae: 4.5519\n",
      "Epoch 19/50\n",
      "2/2 [==============================] - 0s 45ms/step - loss: 36.7632 - mae: 5.4947 - val_loss: 29.5998 - val_mae: 4.6342\n",
      "Epoch 20/50\n",
      "2/2 [==============================] - 0s 42ms/step - loss: 44.9912 - mae: 6.0735 - val_loss: 28.0182 - val_mae: 4.5631\n",
      "Epoch 21/50\n",
      "2/2 [==============================] - 0s 42ms/step - loss: 39.6919 - mae: 5.7318 - val_loss: 26.5157 - val_mae: 4.4682\n",
      "Epoch 22/50\n",
      "2/2 [==============================] - 0s 42ms/step - loss: 28.1010 - mae: 4.6663 - val_loss: 34.8549 - val_mae: 4.7140\n",
      "Epoch 23/50\n",
      "2/2 [==============================] - 0s 128ms/step - loss: 26.7439 - mae: 3.9732 - val_loss: 46.0818 - val_mae: 5.0322\n",
      "Epoch 24/50\n",
      "2/2 [==============================] - 0s 64ms/step - loss: 31.4335 - mae: 3.9138 - val_loss: 49.0046 - val_mae: 5.1324\n",
      "Epoch 25/50\n",
      "2/2 [==============================] - 0s 68ms/step - loss: 31.9566 - mae: 3.8726 - val_loss: 40.9125 - val_mae: 4.8200\n",
      "Epoch 26/50\n",
      "2/2 [==============================] - 0s 82ms/step - loss: 26.7640 - mae: 3.8335 - val_loss: 31.7782 - val_mae: 4.5417\n",
      "Epoch 27/50\n",
      "2/2 [==============================] - 0s 76ms/step - loss: 26.4680 - mae: 4.2525 - val_loss: 25.7855 - val_mae: 4.3509\n",
      "Epoch 28/50\n",
      "2/2 [==============================] - 0s 60ms/step - loss: 26.5268 - mae: 4.5899 - val_loss: 24.7943 - val_mae: 4.3385\n",
      "Epoch 29/50\n",
      "2/2 [==============================] - 0s 59ms/step - loss: 27.0596 - mae: 4.6802 - val_loss: 25.6601 - val_mae: 4.3407\n",
      "Epoch 30/50\n",
      "2/2 [==============================] - 0s 45ms/step - loss: 25.4587 - mae: 4.4049 - val_loss: 29.1086 - val_mae: 4.4476\n",
      "Epoch 31/50\n",
      "2/2 [==============================] - 0s 43ms/step - loss: 24.1173 - mae: 4.0619 - val_loss: 33.9384 - val_mae: 4.5936\n",
      "Epoch 32/50\n",
      "2/2 [==============================] - 0s 44ms/step - loss: 25.4961 - mae: 3.8991 - val_loss: 37.0517 - val_mae: 4.6761\n",
      "Epoch 33/50\n",
      "2/2 [==============================] - 0s 46ms/step - loss: 25.7748 - mae: 3.8322 - val_loss: 34.5183 - val_mae: 4.6031\n",
      "Epoch 34/50\n",
      "2/2 [==============================] - 0s 46ms/step - loss: 24.8055 - mae: 3.8999 - val_loss: 29.9710 - val_mae: 4.4504\n",
      "Epoch 35/50\n",
      "2/2 [==============================] - 0s 44ms/step - loss: 24.7090 - mae: 4.1169 - val_loss: 27.0479 - val_mae: 4.3685\n",
      "Epoch 36/50\n",
      "2/2 [==============================] - 0s 55ms/step - loss: 24.5406 - mae: 4.2528 - val_loss: 26.8694 - val_mae: 4.3583\n",
      "Epoch 37/50\n",
      "2/2 [==============================] - 0s 76ms/step - loss: 24.2851 - mae: 4.2008 - val_loss: 28.6121 - val_mae: 4.4029\n",
      "Epoch 38/50\n",
      "2/2 [==============================] - 0s 59ms/step - loss: 23.9789 - mae: 4.0451 - val_loss: 30.4740 - val_mae: 4.4552\n",
      "Epoch 39/50\n",
      "2/2 [==============================] - 0s 56ms/step - loss: 23.8445 - mae: 3.9504 - val_loss: 31.0410 - val_mae: 4.4719\n",
      "Epoch 40/50\n",
      "2/2 [==============================] - 0s 49ms/step - loss: 23.8670 - mae: 3.9283 - val_loss: 30.6754 - val_mae: 4.4558\n",
      "Epoch 41/50\n",
      "2/2 [==============================] - 0s 43ms/step - loss: 23.7696 - mae: 3.9284 - val_loss: 29.8553 - val_mae: 4.4230\n",
      "Epoch 42/50\n",
      "2/2 [==============================] - 0s 43ms/step - loss: 23.8016 - mae: 3.9938 - val_loss: 28.3193 - val_mae: 4.3747\n",
      "Epoch 43/50\n",
      "2/2 [==============================] - 0s 41ms/step - loss: 23.5876 - mae: 4.0389 - val_loss: 28.1229 - val_mae: 4.3659\n",
      "Epoch 44/50\n",
      "2/2 [==============================] - 0s 44ms/step - loss: 23.5645 - mae: 4.0554 - val_loss: 28.0674 - val_mae: 4.3607\n",
      "Epoch 45/50\n",
      "2/2 [==============================] - 0s 44ms/step - loss: 23.4621 - mae: 4.0368 - val_loss: 28.8744 - val_mae: 4.3772\n",
      "Epoch 46/50\n",
      "2/2 [==============================] - 0s 46ms/step - loss: 23.3489 - mae: 3.9697 - val_loss: 29.9265 - val_mae: 4.4110\n",
      "Epoch 47/50\n",
      "2/2 [==============================] - 0s 46ms/step - loss: 23.4443 - mae: 3.9068 - val_loss: 30.6498 - val_mae: 4.4339\n",
      "Epoch 48/50\n",
      "2/2 [==============================] - 0s 45ms/step - loss: 23.6842 - mae: 3.8858 - val_loss: 29.5897 - val_mae: 4.3930\n",
      "Epoch 49/50\n",
      "2/2 [==============================] - 0s 43ms/step - loss: 23.3927 - mae: 3.9599 - val_loss: 26.9110 - val_mae: 4.3115\n",
      "Epoch 50/50\n",
      "2/2 [==============================] - 0s 42ms/step - loss: 23.3640 - mae: 4.0969 - val_loss: 26.3584 - val_mae: 4.2914\n"
     ]
    }
   ],
   "source": [
    "modeloR.compile(optimizer=keras.optimizers.Adam(learning_rate=0.001) , loss = \"mse\" , metrics=[\"mae\"])\n",
    "history = modeloR.fit(X_train , Y_train , epochs=50, validation_split=0.3 , verbose=1)"
   ]
  },
  {
   "cell_type": "code",
   "execution_count": 61,
   "id": "f8776592",
   "metadata": {},
   "outputs": [
    {
     "name": "stdout",
     "output_type": "stream",
     "text": [
      "1/1 [==============================] - 0s 87ms/step\n"
     ]
    }
   ],
   "source": [
    "y_pred = modelo.predict(X_test).flatten()"
   ]
  },
  {
   "cell_type": "code",
   "execution_count": 62,
   "id": "4d7ba2a1",
   "metadata": {},
   "outputs": [
    {
     "name": "stdout",
     "output_type": "stream",
     "text": [
      "Coeficiente de determinación (R2) es de: -472595.2595818234\n",
      "Error cuadrático medio (MSE) es de : 13377624.787896149\n",
      "Eror absoluto medio (MAE) es de: 3548.209826660156\n"
     ]
    }
   ],
   "source": [
    "print('Coeficiente de determinación (R2) es de:', r2_score(Y_test, y_pred))\n",
    "print('Error cuadrático medio (MSE) es de :',mean_squared_error(Y_test , y_pred))\n",
    "print('Eror absoluto medio (MAE) es de:', mean_absolute_error(Y_test, y_pred))"
   ]
  },
  {
   "cell_type": "markdown",
   "id": "d2c9a54d",
   "metadata": {},
   "source": [
    "* ## Con esta red neuronal con lo datos normalizado nos da un R2 negativo (muy malo) y un MAE alto comparando los anteriores.\n",
    "    * ### El coeficiente de determinación R2 obtenido es de = -27\n",
    "    * ### El error absoluto medio MAE es de = 22.14\n",
    "    * ### el MSE es de = 564.35\n",
    "* ### Es un modelo pesimo, no lo tendremos en cuenta.\n",
    "-----\n",
    "-----\n",
    "\n",
    "* # Red Neuronal Recurrente."
   ]
  },
  {
   "cell_type": "code",
   "execution_count": 63,
   "id": "91c3ea0e",
   "metadata": {},
   "outputs": [],
   "source": [
    "from tensorflow.keras.layers import LSTM, Dense\n",
    "from tensorflow.keras.layers import Dropout\n",
    "from tensorflow.keras.models import Sequential"
   ]
  },
  {
   "cell_type": "code",
   "execution_count": 64,
   "id": "9cb21eb4",
   "metadata": {},
   "outputs": [],
   "source": [
    "### ### Separamos en datos de entrenamiento y test \n",
    "X_train , X_test , Y_train , Y_test = train_test_split (X1, y , test_size=0.3 , random_state=19)"
   ]
  },
  {
   "cell_type": "code",
   "execution_count": 65,
   "id": "1585d4ee",
   "metadata": {},
   "outputs": [],
   "source": [
    "scaler = StandardScaler()\n",
    "X_train = scaler.fit_transform(X_train)\n",
    "X_test = scaler.fit_transform(X_test)"
   ]
  },
  {
   "cell_type": "code",
   "execution_count": 66,
   "id": "cd304563",
   "metadata": {},
   "outputs": [],
   "source": [
    "X_train = np.reshape(X_train , (X_train.shape[0],1,X_train.shape[1]))\n",
    "X_test = np.reshape(X_test , (X_test.shape[0], 1 ,X_test.shape[1]))"
   ]
  },
  {
   "cell_type": "code",
   "execution_count": 67,
   "id": "5a3c761f",
   "metadata": {},
   "outputs": [],
   "source": [
    "### #### El modelo de la red neuronal\n",
    "modeloR = Sequential()\n",
    "modeloR.add(LSTM(units=50 , activation='relu', input_shape=(1, X_train.shape[2])))\n",
    "modeloR.add(Dense(units=1))"
   ]
  },
  {
   "cell_type": "code",
   "execution_count": 68,
   "id": "37f6ea3e",
   "metadata": {},
   "outputs": [],
   "source": [
    "#### ### Compilamos para entrenarlo y ver sus resultados luego\n",
    "modeloR.compile(optimizer=keras.optimizers.RMSprop(learning_rate=0.001) , loss=\"mean_squared_error\")"
   ]
  },
  {
   "cell_type": "code",
   "execution_count": 69,
   "id": "02e6d87c",
   "metadata": {},
   "outputs": [
    {
     "name": "stdout",
     "output_type": "stream",
     "text": [
      "1/1 [==============================] - 0s 390ms/step - loss: 78.2502\n"
     ]
    }
   ],
   "source": [
    "test_loss = modeloR.evaluate(X_test , y_test)"
   ]
  },
  {
   "cell_type": "code",
   "execution_count": 70,
   "id": "29c1138c",
   "metadata": {},
   "outputs": [
    {
     "name": "stdout",
     "output_type": "stream",
     "text": [
      "1/1 [==============================] - 0s 232ms/step\n"
     ]
    }
   ],
   "source": [
    "y_pred = modeloR.predict(X_test)"
   ]
  },
  {
   "cell_type": "code",
   "execution_count": 71,
   "id": "e097c632",
   "metadata": {},
   "outputs": [
    {
     "name": "stdout",
     "output_type": "stream",
     "text": [
      "MAE = 6.452678340642403\n",
      "MSE = 78.25021638954068\n",
      "R2 = -1.1120799769249827\n"
     ]
    }
   ],
   "source": [
    "mae = mean_absolute_error(y_test , y_pred)\n",
    "mse = mean_squared_error(y_test , y_pred)\n",
    "R2 = r2_score(y_test , y_pred)\n",
    "\n",
    "print(\"MAE =\",mae)\n",
    "print(\"MSE =\",mse)\n",
    "print(\"R2 =\",R2)"
   ]
  },
  {
   "cell_type": "markdown",
   "id": "cb434f22",
   "metadata": {},
   "source": [
    "* ## Podemos ver que tenemos algunos valores muy malos en la predicción. tendremos que ajustar algunos parametros e ir utilizando tecnicas de regularización.\n",
    "    * ### Los valores bueno que obtuvimos fueron el MAE = 6.46 y el MSE = 78.77\n",
    "------\n",
    "------\n",
    "* ### Intentaremos agregandole mas capas e ir cambiando el optimizador"
   ]
  },
  {
   "cell_type": "code",
   "execution_count": 72,
   "id": "6287926e",
   "metadata": {},
   "outputs": [],
   "source": [
    "### #### El modelo de la red neuronal\n",
    "modeloR1 = Sequential()\n",
    "modeloR1.add(LSTM(units=64 ,activation='relu', return_sequences=True, input_shape=(1, X_train.shape[2])))\n",
    "modeloR1.add(Dropout(0.2))\n",
    "modeloR1.add(LSTM(units=64 , activation='relu', return_sequences=True))\n",
    "modeloR1.add(Dropout(0.2))\n",
    "modeloR1.add(LSTM(units=64 , activation='relu'))\n",
    "modeloR1.add(Dropout(0.2))\n",
    "modeloR1.add(Dense(units=1))"
   ]
  },
  {
   "cell_type": "code",
   "execution_count": 73,
   "id": "98d468b1",
   "metadata": {},
   "outputs": [],
   "source": [
    "modeloR1.compile(optimizer=keras.optimizers.Adam(learning_rate=0.001), loss='mean_squared_error') #Optimizador"
   ]
  },
  {
   "cell_type": "code",
   "execution_count": 74,
   "id": "36f31d41",
   "metadata": {},
   "outputs": [
    {
     "name": "stdout",
     "output_type": "stream",
     "text": [
      "Epoch 1/109\n",
      "3/3 [==============================] - 6s 7ms/step - loss: 66.3612\n",
      "Epoch 2/109\n",
      "3/3 [==============================] - 0s 8ms/step - loss: 66.3009\n",
      "Epoch 3/109\n",
      "3/3 [==============================] - 0s 11ms/step - loss: 66.2327\n",
      "Epoch 4/109\n",
      "3/3 [==============================] - 0s 9ms/step - loss: 66.1742\n",
      "Epoch 5/109\n",
      "3/3 [==============================] - 0s 9ms/step - loss: 66.1010\n",
      "Epoch 6/109\n",
      "3/3 [==============================] - 0s 10ms/step - loss: 66.0276\n",
      "Epoch 7/109\n",
      "3/3 [==============================] - 0s 7ms/step - loss: 65.9285\n",
      "Epoch 8/109\n",
      "3/3 [==============================] - 0s 10ms/step - loss: 65.8358\n",
      "Epoch 9/109\n",
      "3/3 [==============================] - 0s 9ms/step - loss: 65.7416\n",
      "Epoch 10/109\n",
      "3/3 [==============================] - 0s 11ms/step - loss: 65.6158\n",
      "Epoch 11/109\n",
      "3/3 [==============================] - 0s 9ms/step - loss: 65.4306\n",
      "Epoch 12/109\n",
      "3/3 [==============================] - 0s 11ms/step - loss: 65.3222\n",
      "Epoch 13/109\n",
      "3/3 [==============================] - 0s 14ms/step - loss: 65.1498\n",
      "Epoch 14/109\n",
      "3/3 [==============================] - 0s 12ms/step - loss: 64.8806\n",
      "Epoch 15/109\n",
      "3/3 [==============================] - 0s 12ms/step - loss: 64.5709\n",
      "Epoch 16/109\n",
      "3/3 [==============================] - 0s 11ms/step - loss: 64.1758\n",
      "Epoch 17/109\n",
      "3/3 [==============================] - 0s 10ms/step - loss: 63.8663\n",
      "Epoch 18/109\n",
      "3/3 [==============================] - 0s 8ms/step - loss: 63.0378\n",
      "Epoch 19/109\n",
      "3/3 [==============================] - 0s 9ms/step - loss: 62.4328\n",
      "Epoch 20/109\n",
      "3/3 [==============================] - 0s 10ms/step - loss: 61.3656\n",
      "Epoch 21/109\n",
      "3/3 [==============================] - 0s 10ms/step - loss: 60.2249\n",
      "Epoch 22/109\n",
      "3/3 [==============================] - 0s 12ms/step - loss: 58.4784\n",
      "Epoch 23/109\n",
      "3/3 [==============================] - 0s 12ms/step - loss: 56.7242\n",
      "Epoch 24/109\n",
      "3/3 [==============================] - 0s 8ms/step - loss: 54.7744\n",
      "Epoch 25/109\n",
      "3/3 [==============================] - 0s 6ms/step - loss: 51.4438\n",
      "Epoch 26/109\n",
      "3/3 [==============================] - 0s 10ms/step - loss: 49.8291\n",
      "Epoch 27/109\n",
      "3/3 [==============================] - 0s 10ms/step - loss: 46.1541\n",
      "Epoch 28/109\n",
      "3/3 [==============================] - 0s 10ms/step - loss: 45.0038\n",
      "Epoch 29/109\n",
      "3/3 [==============================] - 0s 10ms/step - loss: 45.1694\n",
      "Epoch 30/109\n",
      "3/3 [==============================] - 0s 10ms/step - loss: 44.4580\n",
      "Epoch 31/109\n",
      "3/3 [==============================] - 0s 8ms/step - loss: 46.0146\n",
      "Epoch 32/109\n",
      "3/3 [==============================] - 0s 10ms/step - loss: 43.9097\n",
      "Epoch 33/109\n",
      "3/3 [==============================] - 0s 7ms/step - loss: 44.3649\n",
      "Epoch 34/109\n",
      "3/3 [==============================] - 0s 9ms/step - loss: 44.2564\n",
      "Epoch 35/109\n",
      "3/3 [==============================] - 0s 11ms/step - loss: 43.1977\n",
      "Epoch 36/109\n",
      "3/3 [==============================] - 0s 7ms/step - loss: 42.4891\n",
      "Epoch 37/109\n",
      "3/3 [==============================] - 0s 12ms/step - loss: 42.4539\n",
      "Epoch 38/109\n",
      "3/3 [==============================] - 0s 7ms/step - loss: 45.0966\n",
      "Epoch 39/109\n",
      "3/3 [==============================] - 0s 7ms/step - loss: 40.5848\n",
      "Epoch 40/109\n",
      "3/3 [==============================] - 0s 13ms/step - loss: 40.7237\n",
      "Epoch 41/109\n",
      "3/3 [==============================] - 0s 7ms/step - loss: 43.2111\n",
      "Epoch 42/109\n",
      "3/3 [==============================] - 0s 12ms/step - loss: 41.4385\n",
      "Epoch 43/109\n",
      "3/3 [==============================] - 0s 8ms/step - loss: 41.3660\n",
      "Epoch 44/109\n",
      "3/3 [==============================] - 0s 9ms/step - loss: 43.1824\n",
      "Epoch 45/109\n",
      "3/3 [==============================] - 0s 8ms/step - loss: 41.1980\n",
      "Epoch 46/109\n",
      "3/3 [==============================] - 0s 6ms/step - loss: 40.1578\n",
      "Epoch 47/109\n",
      "3/3 [==============================] - 0s 9ms/step - loss: 43.1519\n",
      "Epoch 48/109\n",
      "3/3 [==============================] - 0s 8ms/step - loss: 40.9364\n",
      "Epoch 49/109\n",
      "3/3 [==============================] - 0s 8ms/step - loss: 40.5549\n",
      "Epoch 50/109\n",
      "3/3 [==============================] - 0s 8ms/step - loss: 44.4974\n",
      "Epoch 51/109\n",
      "3/3 [==============================] - 0s 10ms/step - loss: 40.2513\n",
      "Epoch 52/109\n",
      "3/3 [==============================] - 0s 20ms/step - loss: 39.8207\n",
      "Epoch 53/109\n",
      "3/3 [==============================] - 0s 12ms/step - loss: 41.5848\n",
      "Epoch 54/109\n",
      "3/3 [==============================] - 0s 42ms/step - loss: 41.9818\n",
      "Epoch 55/109\n",
      "3/3 [==============================] - 0s 11ms/step - loss: 39.6190\n",
      "Epoch 56/109\n",
      "3/3 [==============================] - 0s 7ms/step - loss: 40.5671\n",
      "Epoch 57/109\n",
      "3/3 [==============================] - 0s 8ms/step - loss: 41.3288\n",
      "Epoch 58/109\n",
      "3/3 [==============================] - 0s 7ms/step - loss: 41.7260\n",
      "Epoch 59/109\n",
      "3/3 [==============================] - 0s 7ms/step - loss: 37.9757\n",
      "Epoch 60/109\n",
      "3/3 [==============================] - 0s 7ms/step - loss: 41.9523\n",
      "Epoch 61/109\n",
      "3/3 [==============================] - 0s 7ms/step - loss: 38.5311\n",
      "Epoch 62/109\n",
      "3/3 [==============================] - 0s 7ms/step - loss: 40.9496\n",
      "Epoch 63/109\n",
      "3/3 [==============================] - 0s 8ms/step - loss: 38.3577\n",
      "Epoch 64/109\n",
      "3/3 [==============================] - 0s 8ms/step - loss: 38.9488\n",
      "Epoch 65/109\n",
      "3/3 [==============================] - 0s 8ms/step - loss: 40.2870\n",
      "Epoch 66/109\n",
      "3/3 [==============================] - 0s 7ms/step - loss: 41.8073\n",
      "Epoch 67/109\n",
      "3/3 [==============================] - 0s 7ms/step - loss: 38.9371\n",
      "Epoch 68/109\n",
      "3/3 [==============================] - 0s 6ms/step - loss: 40.0562\n",
      "Epoch 69/109\n",
      "3/3 [==============================] - 0s 7ms/step - loss: 34.9475\n",
      "Epoch 70/109\n",
      "3/3 [==============================] - 0s 8ms/step - loss: 38.9337\n",
      "Epoch 71/109\n",
      "3/3 [==============================] - 0s 7ms/step - loss: 40.6964\n",
      "Epoch 72/109\n",
      "3/3 [==============================] - 0s 7ms/step - loss: 38.9321\n",
      "Epoch 73/109\n",
      "3/3 [==============================] - 0s 7ms/step - loss: 37.6396\n",
      "Epoch 74/109\n",
      "3/3 [==============================] - 0s 8ms/step - loss: 40.6896\n",
      "Epoch 75/109\n",
      "3/3 [==============================] - 0s 7ms/step - loss: 41.9304\n",
      "Epoch 76/109\n",
      "3/3 [==============================] - 0s 7ms/step - loss: 41.3671\n",
      "Epoch 77/109\n",
      "3/3 [==============================] - 0s 7ms/step - loss: 35.1277\n",
      "Epoch 78/109\n",
      "3/3 [==============================] - 0s 6ms/step - loss: 41.0676\n",
      "Epoch 79/109\n",
      "3/3 [==============================] - 0s 6ms/step - loss: 40.4895\n",
      "Epoch 80/109\n",
      "3/3 [==============================] - 0s 6ms/step - loss: 37.8886\n",
      "Epoch 81/109\n",
      "3/3 [==============================] - 0s 7ms/step - loss: 40.0108\n",
      "Epoch 82/109\n",
      "3/3 [==============================] - 0s 7ms/step - loss: 36.6997\n",
      "Epoch 83/109\n",
      "3/3 [==============================] - 0s 7ms/step - loss: 37.4346\n",
      "Epoch 84/109\n",
      "3/3 [==============================] - 0s 7ms/step - loss: 36.5956\n",
      "Epoch 85/109\n",
      "3/3 [==============================] - 0s 8ms/step - loss: 35.8409\n",
      "Epoch 86/109\n",
      "3/3 [==============================] - 0s 7ms/step - loss: 40.7925\n",
      "Epoch 87/109\n",
      "3/3 [==============================] - 0s 7ms/step - loss: 38.5380\n",
      "Epoch 88/109\n",
      "3/3 [==============================] - 0s 8ms/step - loss: 37.9183\n",
      "Epoch 89/109\n",
      "3/3 [==============================] - 0s 7ms/step - loss: 38.2150\n",
      "Epoch 90/109\n",
      "3/3 [==============================] - 0s 7ms/step - loss: 35.3392\n",
      "Epoch 91/109\n",
      "3/3 [==============================] - 0s 7ms/step - loss: 41.5363\n",
      "Epoch 92/109\n",
      "3/3 [==============================] - 0s 7ms/step - loss: 39.5144\n",
      "Epoch 93/109\n",
      "3/3 [==============================] - 0s 8ms/step - loss: 39.6403\n",
      "Epoch 94/109\n",
      "3/3 [==============================] - 0s 7ms/step - loss: 40.3305\n",
      "Epoch 95/109\n",
      "3/3 [==============================] - 0s 7ms/step - loss: 41.5131\n",
      "Epoch 96/109\n",
      "3/3 [==============================] - 0s 8ms/step - loss: 36.6600\n",
      "Epoch 97/109\n",
      "3/3 [==============================] - 0s 6ms/step - loss: 40.5202\n",
      "Epoch 98/109\n",
      "3/3 [==============================] - 0s 7ms/step - loss: 37.1006\n",
      "Epoch 99/109\n",
      "3/3 [==============================] - 0s 8ms/step - loss: 39.6976\n",
      "Epoch 100/109\n",
      "3/3 [==============================] - 0s 7ms/step - loss: 38.4058\n",
      "Epoch 101/109\n",
      "3/3 [==============================] - 0s 7ms/step - loss: 37.1573\n",
      "Epoch 102/109\n",
      "3/3 [==============================] - 0s 7ms/step - loss: 39.7896\n",
      "Epoch 103/109\n"
     ]
    },
    {
     "name": "stdout",
     "output_type": "stream",
     "text": [
      "3/3 [==============================] - 0s 7ms/step - loss: 45.0029\n",
      "Epoch 104/109\n",
      "3/3 [==============================] - 0s 7ms/step - loss: 36.6955\n",
      "Epoch 105/109\n",
      "3/3 [==============================] - 0s 7ms/step - loss: 39.0700\n",
      "Epoch 106/109\n",
      "3/3 [==============================] - 0s 7ms/step - loss: 36.7331\n",
      "Epoch 107/109\n",
      "3/3 [==============================] - 0s 7ms/step - loss: 40.0854\n",
      "Epoch 108/109\n",
      "3/3 [==============================] - 0s 7ms/step - loss: 38.5625\n",
      "Epoch 109/109\n",
      "3/3 [==============================] - 0s 7ms/step - loss: 38.3260\n"
     ]
    },
    {
     "data": {
      "text/plain": [
       "<keras.callbacks.History at 0x20b24112a90>"
      ]
     },
     "execution_count": 74,
     "metadata": {},
     "output_type": "execute_result"
    }
   ],
   "source": [
    "modeloR1.fit(X_train , y_train , epochs=109 , batch_size=32 , verbose=1)"
   ]
  },
  {
   "cell_type": "code",
   "execution_count": 75,
   "id": "8b183efd",
   "metadata": {},
   "outputs": [
    {
     "name": "stdout",
     "output_type": "stream",
     "text": [
      "1/1 [==============================] - 1s 735ms/step - loss: 56.5490\n"
     ]
    }
   ],
   "source": [
    "test_loss = modeloR1.evaluate(X_test , y_test)"
   ]
  },
  {
   "cell_type": "code",
   "execution_count": 76,
   "id": "ac978139",
   "metadata": {},
   "outputs": [
    {
     "name": "stdout",
     "output_type": "stream",
     "text": [
      "1/1 [==============================] - 1s 633ms/step\n"
     ]
    }
   ],
   "source": [
    "y_pred = modeloR1.predict(X_test)"
   ]
  },
  {
   "cell_type": "code",
   "execution_count": 77,
   "id": "da790a18",
   "metadata": {},
   "outputs": [
    {
     "name": "stdout",
     "output_type": "stream",
     "text": [
      "MAE = 6.084150079886118\n",
      "MSE = 56.54897477226028\n",
      "R2 = -0.5263338920055858\n"
     ]
    }
   ],
   "source": [
    "mae = mean_absolute_error(y_test , y_pred)\n",
    "mse = mean_squared_error(y_test , y_pred)\n",
    "R2 = r2_score(y_test , y_pred)\n",
    "\n",
    "print(\"MAE =\",mae)\n",
    "print(\"MSE =\",mse)\n",
    "print(\"R2 =\",R2)"
   ]
  },
  {
   "cell_type": "markdown",
   "id": "043bd914",
   "metadata": {},
   "source": [
    "* ## Podemos ver que la red neuronal recurrente no es muy buena predicción que digamos. Tiene un error negativo en R2 y el MAE si es bueno . pero no es buen predictor este tipo de red neuronal.\n",
    "------\n",
    "\n",
    "* ## Red neuronal con SGD"
   ]
  },
  {
   "cell_type": "code",
   "execution_count": 78,
   "id": "347f2eec",
   "metadata": {},
   "outputs": [],
   "source": [
    "from keras.optimizers import SGD"
   ]
  },
  {
   "cell_type": "code",
   "execution_count": 79,
   "id": "32d3361f",
   "metadata": {},
   "outputs": [],
   "source": [
    "X_train , X_test , y_train , y_test = train_test_split(X1,Y , test_size=0.25 , random_state=42)"
   ]
  },
  {
   "cell_type": "code",
   "execution_count": 80,
   "id": "aacc551f",
   "metadata": {},
   "outputs": [],
   "source": [
    "scaler = StandardScaler()\n",
    "X_train = scaler.fit_transform(X_train)\n",
    "X_test = scaler.fit_transform(X_test)"
   ]
  },
  {
   "cell_type": "code",
   "execution_count": 81,
   "id": "d830295d",
   "metadata": {},
   "outputs": [],
   "source": [
    "modelo_sgd = Sequential()\n",
    "modelo_sgd.add(LSTM(units=128 ,input_shape=(X_train.shape[1],1)))\n",
    "modelo_sgd.add(Dropout(0.2))\n",
    "modelo_sgd.add(Dense(units=1))"
   ]
  },
  {
   "cell_type": "code",
   "execution_count": 82,
   "id": "6231e29f",
   "metadata": {},
   "outputs": [],
   "source": [
    "#### #### ENTRENAMOS LE MODELO DE SGD\n",
    "modelo_sgd.compile(optimizer=keras.optimizers.SGD(learning_rate=0.001), loss='mean_squared_error', metrics=['mae','mse', 'accuracy'])"
   ]
  },
  {
   "cell_type": "code",
   "execution_count": 83,
   "id": "b2e9c059",
   "metadata": {
    "scrolled": true
   },
   "outputs": [
    {
     "name": "stdout",
     "output_type": "stream",
     "text": [
      "Epoch 1/250\n"
     ]
    },
    {
     "name": "stderr",
     "output_type": "stream",
     "text": [
      "C:\\Users\\Acer\\anaconda3\\envs\\Trabajar-con-tensorflow\\lib\\site-packages\\keras\\engine\\data_adapter.py:1696: FutureWarning: The behavior of `series[i:j]` with an integer-dtype index is deprecated. In a future version, this will be treated as *label-based* indexing, consistent with e.g. `series[i]` lookups. To retain the old behavior, use `series.iloc[i:j]`. To get the future behavior, use `series.loc[i:j]`.\n",
      "  return t[start:end]\n"
     ]
    },
    {
     "name": "stdout",
     "output_type": "stream",
     "text": [
      "1/1 [==============================] - 4s 4s/step - loss: 55.9038 - mae: 4.6888 - mse: 55.9038 - accuracy: 0.4500 - val_loss: 102.5343 - val_mae: 5.8390 - val_mse: 102.5343 - val_accuracy: 0.6000\n",
      "Epoch 2/250\n",
      "1/1 [==============================] - 0s 72ms/step - loss: 55.7094 - mae: 4.6774 - mse: 55.7094 - accuracy: 0.4500 - val_loss: 102.2874 - val_mae: 5.8392 - val_mse: 102.2874 - val_accuracy: 0.6000\n",
      "Epoch 3/250\n",
      "1/1 [==============================] - 0s 68ms/step - loss: 55.5191 - mae: 4.6732 - mse: 55.5191 - accuracy: 0.4500 - val_loss: 102.0412 - val_mae: 5.8394 - val_mse: 102.0412 - val_accuracy: 0.6000\n",
      "Epoch 4/250\n",
      "1/1 [==============================] - 0s 76ms/step - loss: 55.3157 - mae: 4.6695 - mse: 55.3157 - accuracy: 0.4500 - val_loss: 101.7964 - val_mae: 5.8397 - val_mse: 101.7964 - val_accuracy: 0.6000\n",
      "Epoch 5/250\n",
      "1/1 [==============================] - 0s 121ms/step - loss: 55.1053 - mae: 4.6623 - mse: 55.1053 - accuracy: 0.4500 - val_loss: 101.5516 - val_mae: 5.8429 - val_mse: 101.5516 - val_accuracy: 0.6000\n",
      "Epoch 6/250\n",
      "1/1 [==============================] - 0s 113ms/step - loss: 54.9607 - mae: 4.6645 - mse: 54.9607 - accuracy: 0.4500 - val_loss: 101.3086 - val_mae: 5.8460 - val_mse: 101.3086 - val_accuracy: 0.6000\n",
      "Epoch 7/250\n",
      "1/1 [==============================] - 0s 101ms/step - loss: 54.6922 - mae: 4.6584 - mse: 54.6922 - accuracy: 0.4500 - val_loss: 101.0668 - val_mae: 5.8491 - val_mse: 101.0668 - val_accuracy: 0.6000\n",
      "Epoch 8/250\n",
      "1/1 [==============================] - 0s 78ms/step - loss: 54.5189 - mae: 4.6582 - mse: 54.5189 - accuracy: 0.4500 - val_loss: 100.8281 - val_mae: 5.8522 - val_mse: 100.8281 - val_accuracy: 0.6000\n",
      "Epoch 9/250\n",
      "1/1 [==============================] - 0s 94ms/step - loss: 54.3181 - mae: 4.6544 - mse: 54.3181 - accuracy: 0.4500 - val_loss: 100.5906 - val_mae: 5.8554 - val_mse: 100.5906 - val_accuracy: 0.6000\n",
      "Epoch 10/250\n",
      "1/1 [==============================] - 0s 74ms/step - loss: 54.1356 - mae: 4.6534 - mse: 54.1356 - accuracy: 0.4500 - val_loss: 100.3576 - val_mae: 5.8584 - val_mse: 100.3576 - val_accuracy: 0.6000\n",
      "Epoch 11/250\n",
      "1/1 [==============================] - 0s 110ms/step - loss: 53.9724 - mae: 4.6494 - mse: 53.9724 - accuracy: 0.4500 - val_loss: 100.1257 - val_mae: 5.8615 - val_mse: 100.1257 - val_accuracy: 0.6000\n",
      "Epoch 12/250\n",
      "1/1 [==============================] - 0s 80ms/step - loss: 53.7927 - mae: 4.6497 - mse: 53.7927 - accuracy: 0.4500 - val_loss: 99.8919 - val_mae: 5.8646 - val_mse: 99.8919 - val_accuracy: 0.6000\n",
      "Epoch 13/250\n",
      "1/1 [==============================] - 0s 89ms/step - loss: 53.6251 - mae: 4.6493 - mse: 53.6251 - accuracy: 0.4500 - val_loss: 99.6610 - val_mae: 5.8677 - val_mse: 99.6610 - val_accuracy: 0.6000\n",
      "Epoch 14/250\n",
      "1/1 [==============================] - 0s 87ms/step - loss: 53.3888 - mae: 4.6434 - mse: 53.3888 - accuracy: 0.4500 - val_loss: 99.4267 - val_mae: 5.8708 - val_mse: 99.4267 - val_accuracy: 0.6000\n",
      "Epoch 15/250\n",
      "1/1 [==============================] - 0s 88ms/step - loss: 53.2154 - mae: 4.6386 - mse: 53.2154 - accuracy: 0.4500 - val_loss: 99.1969 - val_mae: 5.8738 - val_mse: 99.1969 - val_accuracy: 0.6000\n",
      "Epoch 16/250\n",
      "1/1 [==============================] - 0s 81ms/step - loss: 53.0218 - mae: 4.6363 - mse: 53.0218 - accuracy: 0.4500 - val_loss: 98.9663 - val_mae: 5.8770 - val_mse: 98.9663 - val_accuracy: 0.6000\n",
      "Epoch 17/250\n",
      "1/1 [==============================] - 0s 81ms/step - loss: 52.8771 - mae: 4.6364 - mse: 52.8771 - accuracy: 0.4500 - val_loss: 98.7418 - val_mae: 5.8800 - val_mse: 98.7418 - val_accuracy: 0.6000\n",
      "Epoch 18/250\n",
      "1/1 [==============================] - 0s 81ms/step - loss: 52.6870 - mae: 4.6351 - mse: 52.6870 - accuracy: 0.4500 - val_loss: 98.5154 - val_mae: 5.8831 - val_mse: 98.5154 - val_accuracy: 0.6000\n",
      "Epoch 19/250\n",
      "1/1 [==============================] - 0s 73ms/step - loss: 52.4930 - mae: 4.6306 - mse: 52.4930 - accuracy: 0.4500 - val_loss: 98.2903 - val_mae: 5.8862 - val_mse: 98.2903 - val_accuracy: 0.6000\n",
      "Epoch 20/250\n",
      "1/1 [==============================] - 0s 90ms/step - loss: 52.3079 - mae: 4.6283 - mse: 52.3079 - accuracy: 0.4500 - val_loss: 98.0645 - val_mae: 5.8892 - val_mse: 98.0645 - val_accuracy: 0.6000\n",
      "Epoch 21/250\n",
      "1/1 [==============================] - 0s 81ms/step - loss: 52.1818 - mae: 4.6271 - mse: 52.1818 - accuracy: 0.4500 - val_loss: 97.8421 - val_mae: 5.8923 - val_mse: 97.8421 - val_accuracy: 0.6000\n",
      "Epoch 22/250\n",
      "1/1 [==============================] - 0s 84ms/step - loss: 51.9744 - mae: 4.6258 - mse: 51.9744 - accuracy: 0.4500 - val_loss: 97.6171 - val_mae: 5.8953 - val_mse: 97.6171 - val_accuracy: 0.6000\n",
      "Epoch 23/250\n",
      "1/1 [==============================] - 0s 85ms/step - loss: 51.8074 - mae: 4.6270 - mse: 51.8074 - accuracy: 0.4167 - val_loss: 97.3952 - val_mae: 5.8984 - val_mse: 97.3952 - val_accuracy: 0.4667\n",
      "Epoch 24/250\n",
      "1/1 [==============================] - 0s 85ms/step - loss: 51.5861 - mae: 4.6196 - mse: 51.5861 - accuracy: 0.4000 - val_loss: 97.1725 - val_mae: 5.9014 - val_mse: 97.1725 - val_accuracy: 0.4000\n",
      "Epoch 25/250\n",
      "1/1 [==============================] - 0s 82ms/step - loss: 51.4780 - mae: 4.6197 - mse: 51.4780 - accuracy: 0.2833 - val_loss: 96.9520 - val_mae: 5.9044 - val_mse: 96.9520 - val_accuracy: 0.2000\n",
      "Epoch 26/250\n",
      "1/1 [==============================] - 0s 81ms/step - loss: 51.3593 - mae: 4.6211 - mse: 51.3593 - accuracy: 0.1833 - val_loss: 96.7378 - val_mae: 5.9074 - val_mse: 96.7378 - val_accuracy: 0.0667\n",
      "Epoch 27/250\n",
      "1/1 [==============================] - 0s 166ms/step - loss: 51.1339 - mae: 4.6138 - mse: 51.1339 - accuracy: 0.0333 - val_loss: 96.5207 - val_mae: 5.9105 - val_mse: 96.5207 - val_accuracy: 0.0667\n",
      "Epoch 28/250\n",
      "1/1 [==============================] - 0s 93ms/step - loss: 50.8703 - mae: 4.6100 - mse: 50.8703 - accuracy: 0.0667 - val_loss: 96.2996 - val_mae: 5.9135 - val_mse: 96.2996 - val_accuracy: 0.0000e+00\n",
      "Epoch 29/250\n",
      "1/1 [==============================] - 0s 69ms/step - loss: 50.8318 - mae: 4.6082 - mse: 50.8318 - accuracy: 0.0000e+00 - val_loss: 96.0861 - val_mae: 5.9166 - val_mse: 96.0861 - val_accuracy: 0.0000e+00\n",
      "Epoch 30/250\n",
      "1/1 [==============================] - 0s 63ms/step - loss: 50.6232 - mae: 4.6100 - mse: 50.6232 - accuracy: 0.0000e+00 - val_loss: 95.8704 - val_mae: 5.9196 - val_mse: 95.8704 - val_accuracy: 0.0000e+00\n",
      "Epoch 31/250\n",
      "1/1 [==============================] - 0s 63ms/step - loss: 50.4890 - mae: 4.6113 - mse: 50.4890 - accuracy: 0.0000e+00 - val_loss: 95.6564 - val_mae: 5.9226 - val_mse: 95.6564 - val_accuracy: 0.0000e+00\n",
      "Epoch 32/250\n",
      "1/1 [==============================] - 0s 59ms/step - loss: 50.2026 - mae: 4.5999 - mse: 50.2026 - accuracy: 0.0000e+00 - val_loss: 95.4370 - val_mae: 5.9256 - val_mse: 95.4370 - val_accuracy: 0.0000e+00\n",
      "Epoch 33/250\n",
      "1/1 [==============================] - 0s 67ms/step - loss: 50.0835 - mae: 4.5988 - mse: 50.0835 - accuracy: 0.0000e+00 - val_loss: 95.2195 - val_mae: 5.9287 - val_mse: 95.2195 - val_accuracy: 0.0000e+00\n",
      "Epoch 34/250\n",
      "1/1 [==============================] - 0s 63ms/step - loss: 49.9715 - mae: 4.6029 - mse: 49.9715 - accuracy: 0.0000e+00 - val_loss: 95.0049 - val_mae: 5.9317 - val_mse: 95.0049 - val_accuracy: 0.0000e+00\n",
      "Epoch 35/250\n",
      "1/1 [==============================] - 0s 61ms/step - loss: 49.7807 - mae: 4.6012 - mse: 49.7807 - accuracy: 0.0000e+00 - val_loss: 94.7899 - val_mae: 5.9347 - val_mse: 94.7899 - val_accuracy: 0.0000e+00\n",
      "Epoch 36/250\n",
      "1/1 [==============================] - 0s 61ms/step - loss: 49.6035 - mae: 4.5896 - mse: 49.6035 - accuracy: 0.0000e+00 - val_loss: 94.5746 - val_mae: 5.9377 - val_mse: 94.5746 - val_accuracy: 0.0000e+00\n",
      "Epoch 37/250\n",
      "1/1 [==============================] - 0s 60ms/step - loss: 49.4504 - mae: 4.5935 - mse: 49.4504 - accuracy: 0.0000e+00 - val_loss: 94.3591 - val_mae: 5.9407 - val_mse: 94.3591 - val_accuracy: 0.0000e+00\n",
      "Epoch 38/250\n",
      "1/1 [==============================] - 0s 59ms/step - loss: 49.2386 - mae: 4.5870 - mse: 49.2386 - accuracy: 0.0000e+00 - val_loss: 94.1426 - val_mae: 5.9437 - val_mse: 94.1426 - val_accuracy: 0.0000e+00\n",
      "Epoch 39/250\n",
      "1/1 [==============================] - 0s 63ms/step - loss: 49.1321 - mae: 4.5924 - mse: 49.1321 - accuracy: 0.0000e+00 - val_loss: 93.9292 - val_mae: 5.9467 - val_mse: 93.9292 - val_accuracy: 0.0000e+00\n"
     ]
    },
    {
     "name": "stdout",
     "output_type": "stream",
     "text": [
      "Epoch 40/250\n",
      "1/1 [==============================] - 0s 74ms/step - loss: 48.9288 - mae: 4.5862 - mse: 48.9288 - accuracy: 0.0000e+00 - val_loss: 93.7146 - val_mae: 5.9497 - val_mse: 93.7146 - val_accuracy: 0.0000e+00\n",
      "Epoch 41/250\n",
      "1/1 [==============================] - 0s 159ms/step - loss: 48.8105 - mae: 4.5851 - mse: 48.8105 - accuracy: 0.0000e+00 - val_loss: 93.5006 - val_mae: 5.9527 - val_mse: 93.5006 - val_accuracy: 0.0000e+00\n",
      "Epoch 42/250\n",
      "1/1 [==============================] - 0s 81ms/step - loss: 48.7475 - mae: 4.5865 - mse: 48.7475 - accuracy: 0.0000e+00 - val_loss: 93.2903 - val_mae: 5.9557 - val_mse: 93.2903 - val_accuracy: 0.0000e+00\n",
      "Epoch 43/250\n",
      "1/1 [==============================] - 0s 65ms/step - loss: 48.4112 - mae: 4.5731 - mse: 48.4112 - accuracy: 0.0000e+00 - val_loss: 93.0738 - val_mae: 5.9588 - val_mse: 93.0738 - val_accuracy: 0.0000e+00\n",
      "Epoch 44/250\n",
      "1/1 [==============================] - 0s 64ms/step - loss: 48.2469 - mae: 4.5756 - mse: 48.2469 - accuracy: 0.0000e+00 - val_loss: 92.8571 - val_mae: 5.9618 - val_mse: 92.8571 - val_accuracy: 0.0000e+00\n",
      "Epoch 45/250\n",
      "1/1 [==============================] - 0s 65ms/step - loss: 48.1146 - mae: 4.5756 - mse: 48.1146 - accuracy: 0.0000e+00 - val_loss: 92.6432 - val_mae: 5.9648 - val_mse: 92.6432 - val_accuracy: 0.0000e+00\n",
      "Epoch 46/250\n",
      "1/1 [==============================] - 0s 68ms/step - loss: 47.8575 - mae: 4.5603 - mse: 47.8575 - accuracy: 0.0000e+00 - val_loss: 92.4264 - val_mae: 5.9679 - val_mse: 92.4264 - val_accuracy: 0.0000e+00\n",
      "Epoch 47/250\n",
      "1/1 [==============================] - 0s 64ms/step - loss: 47.7281 - mae: 4.5659 - mse: 47.7281 - accuracy: 0.0000e+00 - val_loss: 92.2096 - val_mae: 5.9709 - val_mse: 92.2096 - val_accuracy: 0.0000e+00\n",
      "Epoch 48/250\n",
      "1/1 [==============================] - 0s 65ms/step - loss: 47.6393 - mae: 4.5651 - mse: 47.6393 - accuracy: 0.0000e+00 - val_loss: 91.9951 - val_mae: 5.9740 - val_mse: 91.9951 - val_accuracy: 0.0000e+00\n",
      "Epoch 49/250\n",
      "1/1 [==============================] - 0s 64ms/step - loss: 47.4930 - mae: 4.5642 - mse: 47.4930 - accuracy: 0.0000e+00 - val_loss: 91.7806 - val_mae: 5.9770 - val_mse: 91.7806 - val_accuracy: 0.0000e+00\n",
      "Epoch 50/250\n",
      "1/1 [==============================] - 0s 60ms/step - loss: 47.3702 - mae: 4.5626 - mse: 47.3702 - accuracy: 0.0000e+00 - val_loss: 91.5674 - val_mae: 5.9800 - val_mse: 91.5674 - val_accuracy: 0.0000e+00\n",
      "Epoch 51/250\n",
      "1/1 [==============================] - 0s 62ms/step - loss: 47.1405 - mae: 4.5636 - mse: 47.1405 - accuracy: 0.0000e+00 - val_loss: 91.3524 - val_mae: 5.9830 - val_mse: 91.3524 - val_accuracy: 0.0000e+00\n",
      "Epoch 52/250\n",
      "1/1 [==============================] - 0s 60ms/step - loss: 47.0046 - mae: 4.5518 - mse: 47.0046 - accuracy: 0.0000e+00 - val_loss: 91.1371 - val_mae: 5.9861 - val_mse: 91.1371 - val_accuracy: 0.0000e+00\n",
      "Epoch 53/250\n",
      "1/1 [==============================] - 0s 59ms/step - loss: 46.9421 - mae: 4.5565 - mse: 46.9421 - accuracy: 0.0000e+00 - val_loss: 90.9254 - val_mae: 5.9891 - val_mse: 90.9254 - val_accuracy: 0.0000e+00\n",
      "Epoch 54/250\n",
      "1/1 [==============================] - 0s 62ms/step - loss: 46.6020 - mae: 4.5492 - mse: 46.6020 - accuracy: 0.0000e+00 - val_loss: 90.7076 - val_mae: 5.9922 - val_mse: 90.7076 - val_accuracy: 0.0000e+00\n",
      "Epoch 55/250\n",
      "1/1 [==============================] - 0s 65ms/step - loss: 46.3750 - mae: 4.5426 - mse: 46.3750 - accuracy: 0.0000e+00 - val_loss: 90.4887 - val_mae: 5.9953 - val_mse: 90.4887 - val_accuracy: 0.0000e+00\n",
      "Epoch 56/250\n",
      "1/1 [==============================] - 0s 66ms/step - loss: 46.4051 - mae: 4.5479 - mse: 46.4051 - accuracy: 0.0000e+00 - val_loss: 90.2735 - val_mae: 5.9984 - val_mse: 90.2735 - val_accuracy: 0.0000e+00\n",
      "Epoch 57/250\n",
      "1/1 [==============================] - 0s 59ms/step - loss: 46.2599 - mae: 4.5485 - mse: 46.2599 - accuracy: 0.0000e+00 - val_loss: 90.0590 - val_mae: 6.0014 - val_mse: 90.0590 - val_accuracy: 0.0000e+00\n",
      "Epoch 58/250\n",
      "1/1 [==============================] - 0s 60ms/step - loss: 46.2050 - mae: 4.5530 - mse: 46.2050 - accuracy: 0.0000e+00 - val_loss: 89.8476 - val_mae: 6.0044 - val_mse: 89.8476 - val_accuracy: 0.0000e+00\n",
      "Epoch 59/250\n",
      "1/1 [==============================] - 0s 69ms/step - loss: 45.9518 - mae: 4.5497 - mse: 45.9518 - accuracy: 0.0000e+00 - val_loss: 89.6320 - val_mae: 6.0074 - val_mse: 89.6320 - val_accuracy: 0.0000e+00\n",
      "Epoch 60/250\n",
      "1/1 [==============================] - 0s 62ms/step - loss: 45.6504 - mae: 4.5336 - mse: 45.6504 - accuracy: 0.0000e+00 - val_loss: 89.4132 - val_mae: 6.0105 - val_mse: 89.4132 - val_accuracy: 0.0000e+00\n",
      "Epoch 61/250\n",
      "1/1 [==============================] - 0s 61ms/step - loss: 45.6760 - mae: 4.5376 - mse: 45.6760 - accuracy: 0.0000e+00 - val_loss: 89.1996 - val_mae: 6.0135 - val_mse: 89.1996 - val_accuracy: 0.0000e+00\n",
      "Epoch 62/250\n",
      "1/1 [==============================] - 0s 68ms/step - loss: 45.3343 - mae: 4.5295 - mse: 45.3343 - accuracy: 0.0000e+00 - val_loss: 88.9807 - val_mae: 6.0165 - val_mse: 88.9807 - val_accuracy: 0.0000e+00\n",
      "Epoch 63/250\n",
      "1/1 [==============================] - 0s 64ms/step - loss: 45.0828 - mae: 4.5248 - mse: 45.0828 - accuracy: 0.0000e+00 - val_loss: 88.7593 - val_mae: 6.0196 - val_mse: 88.7593 - val_accuracy: 0.0000e+00\n",
      "Epoch 64/250\n",
      "1/1 [==============================] - 0s 69ms/step - loss: 45.1496 - mae: 4.5349 - mse: 45.1496 - accuracy: 0.0000e+00 - val_loss: 88.5432 - val_mae: 6.0225 - val_mse: 88.5432 - val_accuracy: 0.0000e+00\n",
      "Epoch 65/250\n",
      "1/1 [==============================] - 0s 64ms/step - loss: 44.7754 - mae: 4.5183 - mse: 44.7754 - accuracy: 0.0000e+00 - val_loss: 88.3218 - val_mae: 6.0256 - val_mse: 88.3218 - val_accuracy: 0.0000e+00\n",
      "Epoch 66/250\n",
      "1/1 [==============================] - 0s 71ms/step - loss: 44.8176 - mae: 4.5208 - mse: 44.8176 - accuracy: 0.0000e+00 - val_loss: 88.1049 - val_mae: 6.0286 - val_mse: 88.1049 - val_accuracy: 0.0000e+00\n",
      "Epoch 67/250\n",
      "1/1 [==============================] - 0s 83ms/step - loss: 44.6591 - mae: 4.5213 - mse: 44.6591 - accuracy: 0.0000e+00 - val_loss: 87.8868 - val_mae: 6.0316 - val_mse: 87.8868 - val_accuracy: 0.0000e+00\n",
      "Epoch 68/250\n",
      "1/1 [==============================] - 0s 101ms/step - loss: 44.3642 - mae: 4.5152 - mse: 44.3642 - accuracy: 0.0000e+00 - val_loss: 87.6648 - val_mae: 6.0347 - val_mse: 87.6648 - val_accuracy: 0.0000e+00\n",
      "Epoch 69/250\n",
      "1/1 [==============================] - 0s 154ms/step - loss: 44.1053 - mae: 4.5012 - mse: 44.1053 - accuracy: 0.0000e+00 - val_loss: 87.4400 - val_mae: 6.0378 - val_mse: 87.4400 - val_accuracy: 0.0000e+00\n",
      "Epoch 70/250\n",
      "1/1 [==============================] - 0s 105ms/step - loss: 44.0739 - mae: 4.5124 - mse: 44.0739 - accuracy: 0.0000e+00 - val_loss: 87.2185 - val_mae: 6.0408 - val_mse: 87.2185 - val_accuracy: 0.0000e+00\n",
      "Epoch 71/250\n",
      "1/1 [==============================] - 0s 69ms/step - loss: 43.8170 - mae: 4.5017 - mse: 43.8170 - accuracy: 0.0000e+00 - val_loss: 86.9951 - val_mae: 6.0438 - val_mse: 86.9951 - val_accuracy: 0.0000e+00\n",
      "Epoch 72/250\n",
      "1/1 [==============================] - 0s 63ms/step - loss: 43.7044 - mae: 4.4922 - mse: 43.7044 - accuracy: 0.0000e+00 - val_loss: 86.7713 - val_mae: 6.0469 - val_mse: 86.7713 - val_accuracy: 0.0000e+00\n",
      "Epoch 73/250\n",
      "1/1 [==============================] - 0s 67ms/step - loss: 43.6118 - mae: 4.4956 - mse: 43.6118 - accuracy: 0.0000e+00 - val_loss: 86.5488 - val_mae: 6.0499 - val_mse: 86.5488 - val_accuracy: 0.0000e+00\n",
      "Epoch 74/250\n",
      "1/1 [==============================] - 0s 61ms/step - loss: 43.5140 - mae: 4.4940 - mse: 43.5140 - accuracy: 0.0000e+00 - val_loss: 86.3281 - val_mae: 6.0529 - val_mse: 86.3281 - val_accuracy: 0.0000e+00\n",
      "Epoch 75/250\n",
      "1/1 [==============================] - 0s 61ms/step - loss: 43.4730 - mae: 4.5045 - mse: 43.4730 - accuracy: 0.0000e+00 - val_loss: 86.1096 - val_mae: 6.0558 - val_mse: 86.1096 - val_accuracy: 0.0000e+00\n",
      "Epoch 76/250\n",
      "1/1 [==============================] - 0s 58ms/step - loss: 43.0378 - mae: 4.4830 - mse: 43.0378 - accuracy: 0.0000e+00 - val_loss: 85.8843 - val_mae: 6.0589 - val_mse: 85.8843 - val_accuracy: 0.0000e+00\n",
      "Epoch 77/250\n",
      "1/1 [==============================] - 0s 63ms/step - loss: 42.9299 - mae: 4.4780 - mse: 42.9299 - accuracy: 0.0000e+00 - val_loss: 85.6593 - val_mae: 6.0619 - val_mse: 85.6593 - val_accuracy: 0.0000e+00\n"
     ]
    },
    {
     "name": "stdout",
     "output_type": "stream",
     "text": [
      "Epoch 78/250\n",
      "1/1 [==============================] - 0s 60ms/step - loss: 42.5900 - mae: 4.4595 - mse: 42.5900 - accuracy: 0.0000e+00 - val_loss: 85.4296 - val_mae: 6.0650 - val_mse: 85.4296 - val_accuracy: 0.0000e+00\n",
      "Epoch 79/250\n",
      "1/1 [==============================] - 0s 67ms/step - loss: 42.7585 - mae: 4.4928 - mse: 42.7585 - accuracy: 0.0000e+00 - val_loss: 85.2079 - val_mae: 6.0679 - val_mse: 85.2079 - val_accuracy: 0.0000e+00\n",
      "Epoch 80/250\n",
      "1/1 [==============================] - 0s 80ms/step - loss: 42.6267 - mae: 4.4857 - mse: 42.6267 - accuracy: 0.0000e+00 - val_loss: 84.9868 - val_mae: 6.0708 - val_mse: 84.9868 - val_accuracy: 0.0000e+00\n",
      "Epoch 81/250\n",
      "1/1 [==============================] - 0s 78ms/step - loss: 42.3848 - mae: 4.4866 - mse: 42.3848 - accuracy: 0.0000e+00 - val_loss: 84.7641 - val_mae: 6.0738 - val_mse: 84.7641 - val_accuracy: 0.0000e+00\n",
      "Epoch 82/250\n",
      "1/1 [==============================] - 0s 67ms/step - loss: 42.1347 - mae: 4.4524 - mse: 42.1347 - accuracy: 0.0000e+00 - val_loss: 84.5385 - val_mae: 6.0768 - val_mse: 84.5385 - val_accuracy: 0.0000e+00\n",
      "Epoch 83/250\n",
      "1/1 [==============================] - 0s 63ms/step - loss: 42.1060 - mae: 4.4794 - mse: 42.1060 - accuracy: 0.0000e+00 - val_loss: 84.3149 - val_mae: 6.0797 - val_mse: 84.3149 - val_accuracy: 0.0000e+00\n",
      "Epoch 84/250\n",
      "1/1 [==============================] - 0s 61ms/step - loss: 41.9567 - mae: 4.4709 - mse: 41.9567 - accuracy: 0.0000e+00 - val_loss: 84.0908 - val_mae: 6.0826 - val_mse: 84.0908 - val_accuracy: 0.0000e+00\n",
      "Epoch 85/250\n",
      "1/1 [==============================] - 0s 60ms/step - loss: 41.9910 - mae: 4.4744 - mse: 41.9910 - accuracy: 0.0000e+00 - val_loss: 83.8720 - val_mae: 6.0854 - val_mse: 83.8720 - val_accuracy: 0.0000e+00\n",
      "Epoch 86/250\n",
      "1/1 [==============================] - 0s 65ms/step - loss: 41.6198 - mae: 4.4742 - mse: 41.6198 - accuracy: 0.0000e+00 - val_loss: 83.6479 - val_mae: 6.0883 - val_mse: 83.6479 - val_accuracy: 0.0000e+00\n",
      "Epoch 87/250\n",
      "1/1 [==============================] - 0s 61ms/step - loss: 41.6349 - mae: 4.4650 - mse: 41.6349 - accuracy: 0.0000e+00 - val_loss: 83.4287 - val_mae: 6.0911 - val_mse: 83.4287 - val_accuracy: 0.0000e+00\n",
      "Epoch 88/250\n",
      "1/1 [==============================] - 0s 59ms/step - loss: 41.3007 - mae: 4.4516 - mse: 41.3007 - accuracy: 0.0000e+00 - val_loss: 83.2044 - val_mae: 6.0939 - val_mse: 83.2044 - val_accuracy: 0.0000e+00\n",
      "Epoch 89/250\n",
      "1/1 [==============================] - 0s 60ms/step - loss: 41.0083 - mae: 4.4510 - mse: 41.0083 - accuracy: 0.0000e+00 - val_loss: 82.9758 - val_mae: 6.0968 - val_mse: 82.9758 - val_accuracy: 0.0000e+00\n",
      "Epoch 90/250\n",
      "1/1 [==============================] - 0s 59ms/step - loss: 40.9037 - mae: 4.4456 - mse: 40.9037 - accuracy: 0.0000e+00 - val_loss: 82.7499 - val_mae: 6.0997 - val_mse: 82.7499 - val_accuracy: 0.0000e+00\n",
      "Epoch 91/250\n",
      "1/1 [==============================] - 0s 60ms/step - loss: 40.6784 - mae: 4.4503 - mse: 40.6784 - accuracy: 0.0000e+00 - val_loss: 82.5233 - val_mae: 6.1025 - val_mse: 82.5233 - val_accuracy: 0.0000e+00\n",
      "Epoch 92/250\n",
      "1/1 [==============================] - 0s 59ms/step - loss: 40.5402 - mae: 4.4522 - mse: 40.5402 - accuracy: 0.0000e+00 - val_loss: 82.2953 - val_mae: 6.1054 - val_mse: 82.2953 - val_accuracy: 0.0000e+00\n",
      "Epoch 93/250\n",
      "1/1 [==============================] - 0s 60ms/step - loss: 40.5213 - mae: 4.4371 - mse: 40.5213 - accuracy: 0.0000e+00 - val_loss: 82.0694 - val_mae: 6.1081 - val_mse: 82.0694 - val_accuracy: 0.0000e+00\n",
      "Epoch 94/250\n",
      "1/1 [==============================] - 0s 79ms/step - loss: 40.5674 - mae: 4.4639 - mse: 40.5674 - accuracy: 0.0000e+00 - val_loss: 81.8495 - val_mae: 6.1109 - val_mse: 81.8495 - val_accuracy: 0.0000e+00\n",
      "Epoch 95/250\n",
      "1/1 [==============================] - 0s 60ms/step - loss: 40.5092 - mae: 4.4609 - mse: 40.5092 - accuracy: 0.0000e+00 - val_loss: 81.6304 - val_mae: 6.1136 - val_mse: 81.6304 - val_accuracy: 0.0000e+00\n",
      "Epoch 96/250\n",
      "1/1 [==============================] - 0s 144ms/step - loss: 39.9971 - mae: 4.4414 - mse: 39.9971 - accuracy: 0.0000e+00 - val_loss: 81.4044 - val_mae: 6.1163 - val_mse: 81.4044 - val_accuracy: 0.0000e+00\n",
      "Epoch 97/250\n",
      "1/1 [==============================] - 0s 97ms/step - loss: 39.8117 - mae: 4.4311 - mse: 39.8117 - accuracy: 0.0000e+00 - val_loss: 81.1784 - val_mae: 6.1190 - val_mse: 81.1784 - val_accuracy: 0.0000e+00\n",
      "Epoch 98/250\n",
      "1/1 [==============================] - 0s 80ms/step - loss: 39.7503 - mae: 4.4535 - mse: 39.7503 - accuracy: 0.0000e+00 - val_loss: 80.9546 - val_mae: 6.1217 - val_mse: 80.9546 - val_accuracy: 0.0000e+00\n",
      "Epoch 99/250\n",
      "1/1 [==============================] - 0s 69ms/step - loss: 39.1109 - mae: 4.4137 - mse: 39.1109 - accuracy: 0.0000e+00 - val_loss: 80.7204 - val_mae: 6.1245 - val_mse: 80.7204 - val_accuracy: 0.0000e+00\n",
      "Epoch 100/250\n",
      "1/1 [==============================] - 0s 62ms/step - loss: 39.5724 - mae: 4.4554 - mse: 39.5724 - accuracy: 0.0000e+00 - val_loss: 80.5012 - val_mae: 6.1270 - val_mse: 80.5012 - val_accuracy: 0.0000e+00\n",
      "Epoch 101/250\n",
      "1/1 [==============================] - 0s 61ms/step - loss: 39.4838 - mae: 4.4472 - mse: 39.4838 - accuracy: 0.0000e+00 - val_loss: 80.2819 - val_mae: 6.1296 - val_mse: 80.2819 - val_accuracy: 0.0000e+00\n",
      "Epoch 102/250\n",
      "1/1 [==============================] - 0s 59ms/step - loss: 39.0071 - mae: 4.4407 - mse: 39.0071 - accuracy: 0.0000e+00 - val_loss: 80.0561 - val_mae: 6.1322 - val_mse: 80.0561 - val_accuracy: 0.0000e+00\n",
      "Epoch 103/250\n",
      "1/1 [==============================] - 0s 62ms/step - loss: 39.1562 - mae: 4.4513 - mse: 39.1562 - accuracy: 0.0000e+00 - val_loss: 79.8354 - val_mae: 6.1347 - val_mse: 79.8354 - val_accuracy: 0.0000e+00\n",
      "Epoch 104/250\n",
      "1/1 [==============================] - 0s 63ms/step - loss: 38.8951 - mae: 4.4426 - mse: 38.8951 - accuracy: 0.0000e+00 - val_loss: 79.6134 - val_mae: 6.1372 - val_mse: 79.6134 - val_accuracy: 0.0000e+00\n",
      "Epoch 105/250\n",
      "1/1 [==============================] - 0s 60ms/step - loss: 38.7832 - mae: 4.4552 - mse: 38.7832 - accuracy: 0.0000e+00 - val_loss: 79.3932 - val_mae: 6.1397 - val_mse: 79.3932 - val_accuracy: 0.0000e+00\n",
      "Epoch 106/250\n",
      "1/1 [==============================] - 0s 65ms/step - loss: 38.2720 - mae: 4.4128 - mse: 38.2720 - accuracy: 0.0000e+00 - val_loss: 79.1659 - val_mae: 6.1422 - val_mse: 79.1659 - val_accuracy: 0.0000e+00\n",
      "Epoch 107/250\n",
      "1/1 [==============================] - 0s 63ms/step - loss: 38.3124 - mae: 4.4413 - mse: 38.3124 - accuracy: 0.0000e+00 - val_loss: 78.9415 - val_mae: 6.1447 - val_mse: 78.9415 - val_accuracy: 0.0000e+00\n",
      "Epoch 108/250\n",
      "1/1 [==============================] - 0s 64ms/step - loss: 38.5054 - mae: 4.4688 - mse: 38.5054 - accuracy: 0.0000e+00 - val_loss: 78.7261 - val_mae: 6.1470 - val_mse: 78.7261 - val_accuracy: 0.0000e+00\n",
      "Epoch 109/250\n",
      "1/1 [==============================] - 0s 62ms/step - loss: 38.0043 - mae: 4.4303 - mse: 38.0043 - accuracy: 0.0000e+00 - val_loss: 78.5040 - val_mae: 6.1494 - val_mse: 78.5040 - val_accuracy: 0.0000e+00\n",
      "Epoch 110/250\n",
      "1/1 [==============================] - 0s 59ms/step - loss: 38.0215 - mae: 4.4407 - mse: 38.0215 - accuracy: 0.0000e+00 - val_loss: 78.2843 - val_mae: 6.1518 - val_mse: 78.2843 - val_accuracy: 0.0000e+00\n",
      "Epoch 111/250\n",
      "1/1 [==============================] - 0s 69ms/step - loss: 37.9874 - mae: 4.4478 - mse: 37.9874 - accuracy: 0.0000e+00 - val_loss: 78.0676 - val_mae: 6.1540 - val_mse: 78.0676 - val_accuracy: 0.0000e+00\n",
      "Epoch 112/250\n",
      "1/1 [==============================] - 0s 62ms/step - loss: 37.5545 - mae: 4.4270 - mse: 37.5545 - accuracy: 0.0000e+00 - val_loss: 77.8469 - val_mae: 6.1563 - val_mse: 77.8469 - val_accuracy: 0.0000e+00\n",
      "Epoch 113/250\n",
      "1/1 [==============================] - 0s 63ms/step - loss: 37.4694 - mae: 4.4634 - mse: 37.4694 - accuracy: 0.0000e+00 - val_loss: 77.6283 - val_mae: 6.1586 - val_mse: 77.6283 - val_accuracy: 0.0000e+00\n",
      "Epoch 114/250\n",
      "1/1 [==============================] - 0s 68ms/step - loss: 37.2172 - mae: 4.4315 - mse: 37.2172 - accuracy: 0.0000e+00 - val_loss: 77.4094 - val_mae: 6.1608 - val_mse: 77.4094 - val_accuracy: 0.0000e+00\n",
      "Epoch 115/250\n",
      "1/1 [==============================] - 0s 60ms/step - loss: 37.4106 - mae: 4.4577 - mse: 37.4106 - accuracy: 0.0000e+00 - val_loss: 77.1962 - val_mae: 6.1629 - val_mse: 77.1962 - val_accuracy: 0.0000e+00\n"
     ]
    },
    {
     "name": "stdout",
     "output_type": "stream",
     "text": [
      "Epoch 116/250\n",
      "1/1 [==============================] - 0s 59ms/step - loss: 37.1649 - mae: 4.4445 - mse: 37.1649 - accuracy: 0.0000e+00 - val_loss: 76.9846 - val_mae: 6.1649 - val_mse: 76.9846 - val_accuracy: 0.0000e+00\n",
      "Epoch 117/250\n",
      "1/1 [==============================] - 0s 60ms/step - loss: 37.0970 - mae: 4.4520 - mse: 37.0970 - accuracy: 0.0000e+00 - val_loss: 76.7724 - val_mae: 6.1669 - val_mse: 76.7724 - val_accuracy: 0.0000e+00\n",
      "Epoch 118/250\n",
      "1/1 [==============================] - 0s 60ms/step - loss: 36.8513 - mae: 4.4552 - mse: 36.8513 - accuracy: 0.0000e+00 - val_loss: 76.5609 - val_mae: 6.1687 - val_mse: 76.5609 - val_accuracy: 0.0000e+00\n",
      "Epoch 119/250\n",
      "1/1 [==============================] - 0s 59ms/step - loss: 37.2925 - mae: 4.4897 - mse: 37.2925 - accuracy: 0.0000e+00 - val_loss: 76.3610 - val_mae: 6.1705 - val_mse: 76.3610 - val_accuracy: 0.0000e+00\n",
      "Epoch 120/250\n",
      "1/1 [==============================] - 0s 62ms/step - loss: 36.4863 - mae: 4.4360 - mse: 36.4863 - accuracy: 0.0000e+00 - val_loss: 76.1478 - val_mae: 6.1723 - val_mse: 76.1478 - val_accuracy: 0.0000e+00\n",
      "Epoch 121/250\n",
      "1/1 [==============================] - 0s 62ms/step - loss: 36.4732 - mae: 4.4368 - mse: 36.4732 - accuracy: 0.0000e+00 - val_loss: 75.9387 - val_mae: 6.1740 - val_mse: 75.9387 - val_accuracy: 0.0000e+00\n",
      "Epoch 122/250\n",
      "1/1 [==============================] - 0s 59ms/step - loss: 36.7672 - mae: 4.4571 - mse: 36.7672 - accuracy: 0.0000e+00 - val_loss: 75.7387 - val_mae: 6.1757 - val_mse: 75.7387 - val_accuracy: 0.0000e+00\n",
      "Epoch 123/250\n",
      "1/1 [==============================] - 0s 62ms/step - loss: 36.5733 - mae: 4.4747 - mse: 36.5733 - accuracy: 0.0000e+00 - val_loss: 75.5408 - val_mae: 6.1772 - val_mse: 75.5408 - val_accuracy: 0.0000e+00\n",
      "Epoch 124/250\n",
      "1/1 [==============================] - 0s 59ms/step - loss: 36.4686 - mae: 4.4949 - mse: 36.4686 - accuracy: 0.0000e+00 - val_loss: 75.3418 - val_mae: 6.1787 - val_mse: 75.3418 - val_accuracy: 0.0000e+00\n",
      "Epoch 125/250\n",
      "1/1 [==============================] - 0s 67ms/step - loss: 35.8692 - mae: 4.4423 - mse: 35.8692 - accuracy: 0.0000e+00 - val_loss: 75.1343 - val_mae: 6.1804 - val_mse: 75.1343 - val_accuracy: 0.0000e+00\n",
      "Epoch 126/250\n",
      "1/1 [==============================] - 0s 84ms/step - loss: 36.3037 - mae: 4.4706 - mse: 36.3037 - accuracy: 0.0000e+00 - val_loss: 74.9389 - val_mae: 6.1818 - val_mse: 74.9389 - val_accuracy: 0.0000e+00\n",
      "Epoch 127/250\n",
      "1/1 [==============================] - 0s 80ms/step - loss: 36.1649 - mae: 4.4828 - mse: 36.1649 - accuracy: 0.0000e+00 - val_loss: 74.7448 - val_mae: 6.1831 - val_mse: 74.7448 - val_accuracy: 0.0000e+00\n",
      "Epoch 128/250\n",
      "1/1 [==============================] - 0s 86ms/step - loss: 35.6793 - mae: 4.4679 - mse: 35.6793 - accuracy: 0.0000e+00 - val_loss: 74.5459 - val_mae: 6.1844 - val_mse: 74.5459 - val_accuracy: 0.0000e+00\n",
      "Epoch 129/250\n",
      "1/1 [==============================] - 0s 124ms/step - loss: 35.6665 - mae: 4.4500 - mse: 35.6665 - accuracy: 0.0000e+00 - val_loss: 74.3482 - val_mae: 6.1858 - val_mse: 74.3482 - val_accuracy: 0.0000e+00\n",
      "Epoch 130/250\n",
      "1/1 [==============================] - 0s 71ms/step - loss: 35.4312 - mae: 4.4488 - mse: 35.4312 - accuracy: 0.0000e+00 - val_loss: 74.1519 - val_mae: 6.1870 - val_mse: 74.1519 - val_accuracy: 0.0000e+00\n",
      "Epoch 131/250\n",
      "1/1 [==============================] - 0s 61ms/step - loss: 35.3686 - mae: 4.4573 - mse: 35.3686 - accuracy: 0.0000e+00 - val_loss: 73.9573 - val_mae: 6.1881 - val_mse: 73.9573 - val_accuracy: 0.0000e+00\n",
      "Epoch 132/250\n",
      "1/1 [==============================] - 0s 61ms/step - loss: 35.4932 - mae: 4.4776 - mse: 35.4932 - accuracy: 0.0000e+00 - val_loss: 73.7710 - val_mae: 6.1890 - val_mse: 73.7710 - val_accuracy: 0.0000e+00\n",
      "Epoch 133/250\n",
      "1/1 [==============================] - 0s 60ms/step - loss: 34.8955 - mae: 4.4291 - mse: 34.8955 - accuracy: 0.0000e+00 - val_loss: 73.5738 - val_mae: 6.1901 - val_mse: 73.5738 - val_accuracy: 0.0000e+00\n",
      "Epoch 134/250\n",
      "1/1 [==============================] - 0s 60ms/step - loss: 35.3588 - mae: 4.4756 - mse: 35.3588 - accuracy: 0.0000e+00 - val_loss: 73.3893 - val_mae: 6.1911 - val_mse: 73.3893 - val_accuracy: 0.0000e+00\n",
      "Epoch 135/250\n",
      "1/1 [==============================] - 0s 62ms/step - loss: 35.2221 - mae: 4.4776 - mse: 35.2221 - accuracy: 0.0000e+00 - val_loss: 73.2052 - val_mae: 6.1918 - val_mse: 73.2052 - val_accuracy: 0.0000e+00\n",
      "Epoch 136/250\n",
      "1/1 [==============================] - 0s 60ms/step - loss: 34.9207 - mae: 4.4486 - mse: 34.9207 - accuracy: 0.0000e+00 - val_loss: 73.0206 - val_mae: 6.1926 - val_mse: 73.0206 - val_accuracy: 0.0000e+00\n",
      "Epoch 137/250\n",
      "1/1 [==============================] - 0s 63ms/step - loss: 34.6699 - mae: 4.4790 - mse: 34.6699 - accuracy: 0.0000e+00 - val_loss: 72.8333 - val_mae: 6.1932 - val_mse: 72.8333 - val_accuracy: 0.0000e+00\n",
      "Epoch 138/250\n",
      "1/1 [==============================] - 0s 60ms/step - loss: 35.1240 - mae: 4.5032 - mse: 35.1240 - accuracy: 0.0000e+00 - val_loss: 72.6590 - val_mae: 6.1935 - val_mse: 72.6590 - val_accuracy: 0.0000e+00\n",
      "Epoch 139/250\n",
      "1/1 [==============================] - 0s 64ms/step - loss: 34.6571 - mae: 4.4586 - mse: 34.6571 - accuracy: 0.0000e+00 - val_loss: 72.4840 - val_mae: 6.1938 - val_mse: 72.4840 - val_accuracy: 0.0000e+00\n",
      "Epoch 140/250\n",
      "1/1 [==============================] - 0s 79ms/step - loss: 34.6856 - mae: 4.4891 - mse: 34.6856 - accuracy: 0.0000e+00 - val_loss: 72.3106 - val_mae: 6.1944 - val_mse: 72.3106 - val_accuracy: 0.0000e+00\n",
      "Epoch 141/250\n",
      "1/1 [==============================] - 0s 82ms/step - loss: 34.5878 - mae: 4.4829 - mse: 34.5878 - accuracy: 0.0000e+00 - val_loss: 72.1343 - val_mae: 6.1995 - val_mse: 72.1343 - val_accuracy: 0.0000e+00\n",
      "Epoch 142/250\n",
      "1/1 [==============================] - 0s 77ms/step - loss: 34.4954 - mae: 4.4763 - mse: 34.4954 - accuracy: 0.0000e+00 - val_loss: 71.9582 - val_mae: 6.2045 - val_mse: 71.9582 - val_accuracy: 0.0000e+00\n",
      "Epoch 143/250\n",
      "1/1 [==============================] - 0s 72ms/step - loss: 34.2954 - mae: 4.4935 - mse: 34.2954 - accuracy: 0.0000e+00 - val_loss: 71.7904 - val_mae: 6.2092 - val_mse: 71.7904 - val_accuracy: 0.0000e+00\n",
      "Epoch 144/250\n",
      "1/1 [==============================] - 0s 68ms/step - loss: 34.3241 - mae: 4.4801 - mse: 34.3241 - accuracy: 0.0000e+00 - val_loss: 71.6223 - val_mae: 6.2139 - val_mse: 71.6223 - val_accuracy: 0.0000e+00\n",
      "Epoch 145/250\n",
      "1/1 [==============================] - 0s 64ms/step - loss: 33.9396 - mae: 4.4461 - mse: 33.9396 - accuracy: 0.0000e+00 - val_loss: 71.4486 - val_mae: 6.2189 - val_mse: 71.4486 - val_accuracy: 0.0000e+00\n",
      "Epoch 146/250\n",
      "1/1 [==============================] - 0s 82ms/step - loss: 33.9277 - mae: 4.4851 - mse: 33.9277 - accuracy: 0.0000e+00 - val_loss: 71.2813 - val_mae: 6.2235 - val_mse: 71.2813 - val_accuracy: 0.0000e+00\n",
      "Epoch 147/250\n",
      "1/1 [==============================] - 0s 86ms/step - loss: 34.2674 - mae: 4.4881 - mse: 34.2674 - accuracy: 0.0000e+00 - val_loss: 71.1225 - val_mae: 6.2276 - val_mse: 71.1225 - val_accuracy: 0.0000e+00\n",
      "Epoch 148/250\n",
      "1/1 [==============================] - 0s 83ms/step - loss: 33.9824 - mae: 4.4937 - mse: 33.9824 - accuracy: 0.0000e+00 - val_loss: 70.9623 - val_mae: 6.2316 - val_mse: 70.9623 - val_accuracy: 0.0000e+00\n",
      "Epoch 149/250\n",
      "1/1 [==============================] - 0s 81ms/step - loss: 33.0595 - mae: 4.4284 - mse: 33.0595 - accuracy: 0.0000e+00 - val_loss: 70.7867 - val_mae: 6.2365 - val_mse: 70.7867 - val_accuracy: 0.0000e+00\n",
      "Epoch 150/250\n",
      "1/1 [==============================] - 0s 65ms/step - loss: 33.9074 - mae: 4.5045 - mse: 33.9074 - accuracy: 0.0000e+00 - val_loss: 70.6317 - val_mae: 6.2403 - val_mse: 70.6317 - val_accuracy: 0.0000e+00\n",
      "Epoch 151/250\n",
      "1/1 [==============================] - 0s 64ms/step - loss: 33.7664 - mae: 4.4681 - mse: 33.7664 - accuracy: 0.0000e+00 - val_loss: 70.4688 - val_mae: 6.2446 - val_mse: 70.4688 - val_accuracy: 0.0000e+00\n",
      "Epoch 152/250\n",
      "1/1 [==============================] - 0s 69ms/step - loss: 33.3201 - mae: 4.4528 - mse: 33.3201 - accuracy: 0.0000e+00 - val_loss: 70.3100 - val_mae: 6.2485 - val_mse: 70.3100 - val_accuracy: 0.0000e+00\n",
      "Epoch 153/250\n"
     ]
    },
    {
     "name": "stdout",
     "output_type": "stream",
     "text": [
      "1/1 [==============================] - 0s 84ms/step - loss: 33.4034 - mae: 4.4772 - mse: 33.4034 - accuracy: 0.0000e+00 - val_loss: 70.1571 - val_mae: 6.2523 - val_mse: 70.1571 - val_accuracy: 0.0000e+00\n",
      "Epoch 154/250\n",
      "1/1 [==============================] - 0s 154ms/step - loss: 33.6111 - mae: 4.4909 - mse: 33.6111 - accuracy: 0.0000e+00 - val_loss: 70.0063 - val_mae: 6.2557 - val_mse: 70.0063 - val_accuracy: 0.0000e+00\n",
      "Epoch 155/250\n",
      "1/1 [==============================] - 0s 76ms/step - loss: 33.0651 - mae: 4.4595 - mse: 33.0651 - accuracy: 0.0000e+00 - val_loss: 69.8532 - val_mae: 6.2591 - val_mse: 69.8532 - val_accuracy: 0.0000e+00\n",
      "Epoch 156/250\n",
      "1/1 [==============================] - 0s 82ms/step - loss: 33.4469 - mae: 4.5164 - mse: 33.4469 - accuracy: 0.0000e+00 - val_loss: 69.7101 - val_mae: 6.2621 - val_mse: 69.7101 - val_accuracy: 0.0000e+00\n",
      "Epoch 157/250\n",
      "1/1 [==============================] - 0s 84ms/step - loss: 33.6237 - mae: 4.4963 - mse: 33.6237 - accuracy: 0.0000e+00 - val_loss: 69.5691 - val_mae: 6.2651 - val_mse: 69.5691 - val_accuracy: 0.0000e+00\n",
      "Epoch 158/250\n",
      "1/1 [==============================] - 0s 85ms/step - loss: 32.7137 - mae: 4.4609 - mse: 32.7137 - accuracy: 0.0000e+00 - val_loss: 69.4131 - val_mae: 6.2687 - val_mse: 69.4131 - val_accuracy: 0.0000e+00\n",
      "Epoch 159/250\n",
      "1/1 [==============================] - 0s 65ms/step - loss: 33.1816 - mae: 4.5155 - mse: 33.1816 - accuracy: 0.0000e+00 - val_loss: 69.2716 - val_mae: 6.2713 - val_mse: 69.2716 - val_accuracy: 0.0000e+00\n",
      "Epoch 160/250\n",
      "1/1 [==============================] - 0s 61ms/step - loss: 33.1437 - mae: 4.4843 - mse: 33.1437 - accuracy: 0.0000e+00 - val_loss: 69.1295 - val_mae: 6.2743 - val_mse: 69.1295 - val_accuracy: 0.0000e+00\n",
      "Epoch 161/250\n",
      "1/1 [==============================] - 0s 60ms/step - loss: 32.6663 - mae: 4.4767 - mse: 32.6663 - accuracy: 0.0000e+00 - val_loss: 68.9860 - val_mae: 6.2771 - val_mse: 68.9860 - val_accuracy: 0.0000e+00\n",
      "Epoch 162/250\n",
      "1/1 [==============================] - 0s 61ms/step - loss: 32.6037 - mae: 4.4581 - mse: 32.6037 - accuracy: 0.0000e+00 - val_loss: 68.8408 - val_mae: 6.2798 - val_mse: 68.8408 - val_accuracy: 0.0000e+00\n",
      "Epoch 163/250\n",
      "1/1 [==============================] - 0s 68ms/step - loss: 32.9638 - mae: 4.4942 - mse: 32.9638 - accuracy: 0.0000e+00 - val_loss: 68.7045 - val_mae: 6.2824 - val_mse: 68.7045 - val_accuracy: 0.0000e+00\n",
      "Epoch 164/250\n",
      "1/1 [==============================] - 0s 73ms/step - loss: 33.0010 - mae: 4.5078 - mse: 33.0010 - accuracy: 0.0000e+00 - val_loss: 68.5686 - val_mae: 6.2847 - val_mse: 68.5686 - val_accuracy: 0.0000e+00\n",
      "Epoch 165/250\n",
      "1/1 [==============================] - 0s 76ms/step - loss: 32.6303 - mae: 4.5045 - mse: 32.6303 - accuracy: 0.0000e+00 - val_loss: 68.4345 - val_mae: 6.2867 - val_mse: 68.4345 - val_accuracy: 0.0000e+00\n",
      "Epoch 166/250\n",
      "1/1 [==============================] - 0s 73ms/step - loss: 32.4415 - mae: 4.4845 - mse: 32.4415 - accuracy: 0.0000e+00 - val_loss: 68.2990 - val_mae: 6.2887 - val_mse: 68.2990 - val_accuracy: 0.0000e+00\n",
      "Epoch 167/250\n",
      "1/1 [==============================] - 0s 65ms/step - loss: 32.7003 - mae: 4.4963 - mse: 32.7003 - accuracy: 0.0000e+00 - val_loss: 68.1714 - val_mae: 6.2903 - val_mse: 68.1714 - val_accuracy: 0.0000e+00\n",
      "Epoch 168/250\n",
      "1/1 [==============================] - 0s 60ms/step - loss: 31.9150 - mae: 4.4566 - mse: 31.9150 - accuracy: 0.0000e+00 - val_loss: 68.0279 - val_mae: 6.2927 - val_mse: 68.0279 - val_accuracy: 0.0000e+00\n",
      "Epoch 169/250\n",
      "1/1 [==============================] - 0s 64ms/step - loss: 32.8610 - mae: 4.5224 - mse: 32.8610 - accuracy: 0.0000e+00 - val_loss: 67.9022 - val_mae: 6.2940 - val_mse: 67.9022 - val_accuracy: 0.0000e+00\n",
      "Epoch 170/250\n",
      "1/1 [==============================] - 0s 59ms/step - loss: 32.4537 - mae: 4.4954 - mse: 32.4537 - accuracy: 0.0000e+00 - val_loss: 67.7729 - val_mae: 6.2955 - val_mse: 67.7729 - val_accuracy: 0.0000e+00\n",
      "Epoch 171/250\n",
      "1/1 [==============================] - 0s 64ms/step - loss: 32.1291 - mae: 4.5021 - mse: 32.1291 - accuracy: 0.0000e+00 - val_loss: 67.6411 - val_mae: 6.2969 - val_mse: 67.6411 - val_accuracy: 0.0000e+00\n",
      "Epoch 172/250\n",
      "1/1 [==============================] - 0s 67ms/step - loss: 33.0753 - mae: 4.5422 - mse: 33.0753 - accuracy: 0.0000e+00 - val_loss: 67.5237 - val_mae: 6.2979 - val_mse: 67.5237 - val_accuracy: 0.0000e+00\n",
      "Epoch 173/250\n",
      "1/1 [==============================] - 0s 81ms/step - loss: 32.4154 - mae: 4.5342 - mse: 32.4154 - accuracy: 0.0000e+00 - val_loss: 67.4041 - val_mae: 6.2985 - val_mse: 67.4041 - val_accuracy: 0.0000e+00\n",
      "Epoch 174/250\n",
      "1/1 [==============================] - 0s 77ms/step - loss: 32.8997 - mae: 4.5592 - mse: 32.8997 - accuracy: 0.0000e+00 - val_loss: 67.2901 - val_mae: 6.2987 - val_mse: 67.2901 - val_accuracy: 0.0000e+00\n",
      "Epoch 175/250\n",
      "1/1 [==============================] - 0s 80ms/step - loss: 32.4409 - mae: 4.5144 - mse: 32.4409 - accuracy: 0.0000e+00 - val_loss: 67.1692 - val_mae: 6.2994 - val_mse: 67.1692 - val_accuracy: 0.0000e+00\n",
      "Epoch 176/250\n",
      "1/1 [==============================] - 0s 80ms/step - loss: 32.3576 - mae: 4.5455 - mse: 32.3576 - accuracy: 0.0000e+00 - val_loss: 67.0525 - val_mae: 6.2998 - val_mse: 67.0525 - val_accuracy: 0.0000e+00\n",
      "Epoch 177/250\n",
      "1/1 [==============================] - 0s 83ms/step - loss: 32.3088 - mae: 4.5334 - mse: 32.3088 - accuracy: 0.0000e+00 - val_loss: 66.9375 - val_mae: 6.2998 - val_mse: 66.9375 - val_accuracy: 0.0000e+00\n",
      "Epoch 178/250\n",
      "1/1 [==============================] - 0s 103ms/step - loss: 32.2805 - mae: 4.5151 - mse: 32.2805 - accuracy: 0.0000e+00 - val_loss: 66.8218 - val_mae: 6.3001 - val_mse: 66.8218 - val_accuracy: 0.0000e+00\n",
      "Epoch 179/250\n",
      "1/1 [==============================] - 0s 91ms/step - loss: 31.5767 - mae: 4.4744 - mse: 31.5767 - accuracy: 0.0000e+00 - val_loss: 66.6979 - val_mae: 6.3006 - val_mse: 66.6979 - val_accuracy: 0.0000e+00\n",
      "Epoch 180/250\n",
      "1/1 [==============================] - 0s 84ms/step - loss: 32.5563 - mae: 4.5659 - mse: 32.5563 - accuracy: 0.0000e+00 - val_loss: 66.5933 - val_mae: 6.2997 - val_mse: 66.5933 - val_accuracy: 0.0000e+00\n",
      "Epoch 181/250\n",
      "1/1 [==============================] - 0s 109ms/step - loss: 31.9762 - mae: 4.5532 - mse: 31.9762 - accuracy: 0.0000e+00 - val_loss: 66.4785 - val_mae: 6.2995 - val_mse: 66.4785 - val_accuracy: 0.0000e+00\n",
      "Epoch 182/250\n",
      "1/1 [==============================] - 0s 86ms/step - loss: 31.6700 - mae: 4.5208 - mse: 31.6700 - accuracy: 0.0000e+00 - val_loss: 66.3604 - val_mae: 6.2991 - val_mse: 66.3604 - val_accuracy: 0.0000e+00\n",
      "Epoch 183/250\n",
      "1/1 [==============================] - 0s 82ms/step - loss: 31.6100 - mae: 4.5126 - mse: 31.6100 - accuracy: 0.0000e+00 - val_loss: 66.2403 - val_mae: 6.2991 - val_mse: 66.2403 - val_accuracy: 0.0000e+00\n",
      "Epoch 184/250\n",
      "1/1 [==============================] - 0s 79ms/step - loss: 32.0102 - mae: 4.5658 - mse: 32.0102 - accuracy: 0.0000e+00 - val_loss: 66.1265 - val_mae: 6.2986 - val_mse: 66.1265 - val_accuracy: 0.0000e+00\n",
      "Epoch 185/250\n",
      "1/1 [==============================] - 0s 66ms/step - loss: 32.0501 - mae: 4.5313 - mse: 32.0501 - accuracy: 0.0000e+00 - val_loss: 66.0178 - val_mae: 6.2979 - val_mse: 66.0178 - val_accuracy: 0.0000e+00\n",
      "Epoch 186/250\n",
      "1/1 [==============================] - 0s 64ms/step - loss: 31.9556 - mae: 4.5571 - mse: 31.9556 - accuracy: 0.0000e+00 - val_loss: 65.9094 - val_mae: 6.2967 - val_mse: 65.9094 - val_accuracy: 0.0000e+00\n",
      "Epoch 187/250\n",
      "1/1 [==============================] - 0s 61ms/step - loss: 32.1094 - mae: 4.5518 - mse: 32.1094 - accuracy: 0.0000e+00 - val_loss: 65.8054 - val_mae: 6.2955 - val_mse: 65.8054 - val_accuracy: 0.0000e+00\n",
      "Epoch 188/250\n",
      "1/1 [==============================] - 0s 62ms/step - loss: 31.4623 - mae: 4.5390 - mse: 31.4623 - accuracy: 0.0000e+00 - val_loss: 65.6944 - val_mae: 6.2944 - val_mse: 65.6944 - val_accuracy: 0.0000e+00\n",
      "Epoch 189/250\n",
      "1/1 [==============================] - 0s 60ms/step - loss: 31.7085 - mae: 4.5212 - mse: 31.7085 - accuracy: 0.0000e+00 - val_loss: 65.5816 - val_mae: 6.2934 - val_mse: 65.5816 - val_accuracy: 0.0000e+00\n",
      "Epoch 190/250\n",
      "1/1 [==============================] - 0s 67ms/step - loss: 31.0616 - mae: 4.5105 - mse: 31.0616 - accuracy: 0.0000e+00 - val_loss: 65.4685 - val_mae: 6.2921 - val_mse: 65.4685 - val_accuracy: 0.0000e+00\n"
     ]
    },
    {
     "name": "stdout",
     "output_type": "stream",
     "text": [
      "Epoch 191/250\n",
      "1/1 [==============================] - 0s 62ms/step - loss: 32.0659 - mae: 4.5765 - mse: 32.0659 - accuracy: 0.0000e+00 - val_loss: 65.3701 - val_mae: 6.2901 - val_mse: 65.3701 - val_accuracy: 0.0000e+00\n",
      "Epoch 192/250\n",
      "1/1 [==============================] - 0s 60ms/step - loss: 31.6763 - mae: 4.5188 - mse: 31.6763 - accuracy: 0.0000e+00 - val_loss: 65.2620 - val_mae: 6.2888 - val_mse: 65.2620 - val_accuracy: 0.0000e+00\n",
      "Epoch 193/250\n",
      "1/1 [==============================] - 0s 61ms/step - loss: 31.6050 - mae: 4.5572 - mse: 31.6050 - accuracy: 0.0000e+00 - val_loss: 65.1583 - val_mae: 6.2869 - val_mse: 65.1583 - val_accuracy: 0.0000e+00\n",
      "Epoch 194/250\n",
      "1/1 [==============================] - 0s 61ms/step - loss: 31.5561 - mae: 4.5477 - mse: 31.5561 - accuracy: 0.0000e+00 - val_loss: 65.0520 - val_mae: 6.2849 - val_mse: 65.0520 - val_accuracy: 0.0000e+00\n",
      "Epoch 195/250\n",
      "1/1 [==============================] - 0s 62ms/step - loss: 30.8655 - mae: 4.5011 - mse: 30.8655 - accuracy: 0.0000e+00 - val_loss: 64.9420 - val_mae: 6.2832 - val_mse: 64.9420 - val_accuracy: 0.0000e+00\n",
      "Epoch 196/250\n",
      "1/1 [==============================] - 0s 62ms/step - loss: 31.4180 - mae: 4.5047 - mse: 31.4180 - accuracy: 0.0000e+00 - val_loss: 64.8380 - val_mae: 6.2811 - val_mse: 64.8380 - val_accuracy: 0.0000e+00\n",
      "Epoch 197/250\n",
      "1/1 [==============================] - 0s 61ms/step - loss: 31.3397 - mae: 4.5329 - mse: 31.3397 - accuracy: 0.0000e+00 - val_loss: 64.7311 - val_mae: 6.2792 - val_mse: 64.7311 - val_accuracy: 0.0000e+00\n",
      "Epoch 198/250\n",
      "1/1 [==============================] - 0s 59ms/step - loss: 31.7961 - mae: 4.5708 - mse: 31.7961 - accuracy: 0.0000e+00 - val_loss: 64.6393 - val_mae: 6.2761 - val_mse: 64.6393 - val_accuracy: 0.0000e+00\n",
      "Epoch 199/250\n",
      "1/1 [==============================] - 0s 60ms/step - loss: 31.3356 - mae: 4.5159 - mse: 31.3356 - accuracy: 0.0000e+00 - val_loss: 64.5330 - val_mae: 6.2742 - val_mse: 64.5330 - val_accuracy: 0.0000e+00\n",
      "Epoch 200/250\n",
      "1/1 [==============================] - 0s 61ms/step - loss: 31.2031 - mae: 4.5358 - mse: 31.2031 - accuracy: 0.0000e+00 - val_loss: 64.4263 - val_mae: 6.2715 - val_mse: 64.4263 - val_accuracy: 0.0000e+00\n",
      "Epoch 201/250\n",
      "1/1 [==============================] - 0s 62ms/step - loss: 31.9015 - mae: 4.5784 - mse: 31.9015 - accuracy: 0.0000e+00 - val_loss: 64.3381 - val_mae: 6.2679 - val_mse: 64.3381 - val_accuracy: 0.0000e+00\n",
      "Epoch 202/250\n",
      "1/1 [==============================] - 0s 60ms/step - loss: 31.0681 - mae: 4.5231 - mse: 31.0681 - accuracy: 0.0000e+00 - val_loss: 64.2338 - val_mae: 6.2653 - val_mse: 64.2338 - val_accuracy: 0.0000e+00\n",
      "Epoch 203/250\n",
      "1/1 [==============================] - 0s 63ms/step - loss: 31.7699 - mae: 4.5600 - mse: 31.7699 - accuracy: 0.0000e+00 - val_loss: 64.1443 - val_mae: 6.2618 - val_mse: 64.1443 - val_accuracy: 0.0000e+00\n",
      "Epoch 204/250\n",
      "1/1 [==============================] - 0s 61ms/step - loss: 31.5450 - mae: 4.5589 - mse: 31.5450 - accuracy: 0.0000e+00 - val_loss: 64.0520 - val_mae: 6.2581 - val_mse: 64.0520 - val_accuracy: 0.0000e+00\n",
      "Epoch 205/250\n",
      "1/1 [==============================] - 0s 65ms/step - loss: 31.2145 - mae: 4.5290 - mse: 31.2145 - accuracy: 0.0000e+00 - val_loss: 63.9558 - val_mae: 6.2546 - val_mse: 63.9558 - val_accuracy: 0.0000e+00\n",
      "Epoch 206/250\n",
      "1/1 [==============================] - 0s 87ms/step - loss: 32.2964 - mae: 4.6407 - mse: 32.2964 - accuracy: 0.0000e+00 - val_loss: 63.8736 - val_mae: 6.2501 - val_mse: 63.8736 - val_accuracy: 0.0000e+00\n",
      "Epoch 207/250\n",
      "1/1 [==============================] - 0s 259ms/step - loss: 31.1245 - mae: 4.5336 - mse: 31.1245 - accuracy: 0.0000e+00 - val_loss: 63.7749 - val_mae: 6.2465 - val_mse: 63.7749 - val_accuracy: 0.0000e+00\n",
      "Epoch 208/250\n",
      "1/1 [==============================] - 0s 91ms/step - loss: 31.2133 - mae: 4.5392 - mse: 31.2133 - accuracy: 0.0000e+00 - val_loss: 63.6787 - val_mae: 6.2429 - val_mse: 63.6787 - val_accuracy: 0.0000e+00\n",
      "Epoch 209/250\n",
      "1/1 [==============================] - 0s 86ms/step - loss: 31.4392 - mae: 4.5931 - mse: 31.4392 - accuracy: 0.0000e+00 - val_loss: 63.5853 - val_mae: 6.2389 - val_mse: 63.5853 - val_accuracy: 0.0000e+00\n",
      "Epoch 210/250\n",
      "1/1 [==============================] - 0s 83ms/step - loss: 31.1529 - mae: 4.5215 - mse: 31.1529 - accuracy: 0.0000e+00 - val_loss: 63.4881 - val_mae: 6.2352 - val_mse: 63.4881 - val_accuracy: 0.0000e+00\n",
      "Epoch 211/250\n",
      "1/1 [==============================] - 0s 76ms/step - loss: 30.5139 - mae: 4.5094 - mse: 30.5139 - accuracy: 0.0000e+00 - val_loss: 63.3806 - val_mae: 6.2318 - val_mse: 63.3806 - val_accuracy: 0.0000e+00\n",
      "Epoch 212/250\n",
      "1/1 [==============================] - 0s 85ms/step - loss: 31.0334 - mae: 4.4967 - mse: 31.0334 - accuracy: 0.0000e+00 - val_loss: 63.2834 - val_mae: 6.2280 - val_mse: 63.2834 - val_accuracy: 0.0000e+00\n",
      "Epoch 213/250\n",
      "1/1 [==============================] - 0s 89ms/step - loss: 31.0253 - mae: 4.5094 - mse: 31.0253 - accuracy: 0.0000e+00 - val_loss: 63.1936 - val_mae: 6.2237 - val_mse: 63.1936 - val_accuracy: 0.0000e+00\n",
      "Epoch 214/250\n",
      "1/1 [==============================] - 0s 82ms/step - loss: 31.5860 - mae: 4.5838 - mse: 31.5860 - accuracy: 0.0000e+00 - val_loss: 63.1117 - val_mae: 6.2191 - val_mse: 63.1117 - val_accuracy: 0.0000e+00\n",
      "Epoch 215/250\n",
      "1/1 [==============================] - 0s 81ms/step - loss: 30.8640 - mae: 4.5346 - mse: 30.8640 - accuracy: 0.0000e+00 - val_loss: 63.0160 - val_mae: 6.2149 - val_mse: 63.0160 - val_accuracy: 0.0000e+00\n",
      "Epoch 216/250\n",
      "1/1 [==============================] - 0s 82ms/step - loss: 30.7148 - mae: 4.4854 - mse: 30.7148 - accuracy: 0.0000e+00 - val_loss: 62.9153 - val_mae: 6.2108 - val_mse: 62.9153 - val_accuracy: 0.0000e+00\n",
      "Epoch 217/250\n",
      "1/1 [==============================] - 0s 86ms/step - loss: 30.9029 - mae: 4.5627 - mse: 30.9029 - accuracy: 0.0000e+00 - val_loss: 62.8222 - val_mae: 6.2060 - val_mse: 62.8222 - val_accuracy: 0.0000e+00\n",
      "Epoch 218/250\n",
      "1/1 [==============================] - 0s 78ms/step - loss: 30.6614 - mae: 4.4947 - mse: 30.6614 - accuracy: 0.0000e+00 - val_loss: 62.7246 - val_mae: 6.2016 - val_mse: 62.7246 - val_accuracy: 0.0000e+00\n",
      "Epoch 219/250\n",
      "1/1 [==============================] - 0s 80ms/step - loss: 30.7503 - mae: 4.5105 - mse: 30.7503 - accuracy: 0.0000e+00 - val_loss: 62.6338 - val_mae: 6.1967 - val_mse: 62.6338 - val_accuracy: 0.0000e+00\n",
      "Epoch 220/250\n",
      "1/1 [==============================] - 0s 84ms/step - loss: 30.3435 - mae: 4.4919 - mse: 30.3435 - accuracy: 0.0000e+00 - val_loss: 62.5364 - val_mae: 6.1920 - val_mse: 62.5364 - val_accuracy: 0.0000e+00\n",
      "Epoch 221/250\n",
      "1/1 [==============================] - 0s 77ms/step - loss: 30.9661 - mae: 4.5562 - mse: 30.9661 - accuracy: 0.0000e+00 - val_loss: 62.4497 - val_mae: 6.1866 - val_mse: 62.4497 - val_accuracy: 0.0000e+00\n",
      "Epoch 222/250\n",
      "1/1 [==============================] - 0s 78ms/step - loss: 31.4138 - mae: 4.5755 - mse: 31.4138 - accuracy: 0.0000e+00 - val_loss: 62.3639 - val_mae: 6.1813 - val_mse: 62.3639 - val_accuracy: 0.0000e+00\n",
      "Epoch 223/250\n",
      "1/1 [==============================] - 0s 80ms/step - loss: 31.3541 - mae: 4.5638 - mse: 31.3541 - accuracy: 0.0000e+00 - val_loss: 62.2776 - val_mae: 6.1759 - val_mse: 62.2776 - val_accuracy: 0.0000e+00\n",
      "Epoch 224/250\n",
      "1/1 [==============================] - 0s 79ms/step - loss: 30.6458 - mae: 4.5090 - mse: 30.6458 - accuracy: 0.0000e+00 - val_loss: 62.1773 - val_mae: 6.1706 - val_mse: 62.1773 - val_accuracy: 0.0000e+00\n",
      "Epoch 225/250\n",
      "1/1 [==============================] - 0s 81ms/step - loss: 31.3992 - mae: 4.5573 - mse: 31.3992 - accuracy: 0.0000e+00 - val_loss: 62.0968 - val_mae: 6.1646 - val_mse: 62.0968 - val_accuracy: 0.0000e+00\n",
      "Epoch 226/250\n",
      "1/1 [==============================] - 0s 83ms/step - loss: 30.4185 - mae: 4.4938 - mse: 30.4185 - accuracy: 0.0000e+00 - val_loss: 62.0002 - val_mae: 6.1595 - val_mse: 62.0002 - val_accuracy: 0.0000e+00\n",
      "Epoch 227/250\n",
      "1/1 [==============================] - 0s 80ms/step - loss: 31.0884 - mae: 4.5677 - mse: 31.0884 - accuracy: 0.0000e+00 - val_loss: 61.9121 - val_mae: 6.1539 - val_mse: 61.9121 - val_accuracy: 0.0000e+00\n",
      "Epoch 228/250\n"
     ]
    },
    {
     "name": "stdout",
     "output_type": "stream",
     "text": [
      "1/1 [==============================] - 0s 87ms/step - loss: 31.0581 - mae: 4.5524 - mse: 31.0581 - accuracy: 0.0000e+00 - val_loss: 61.8309 - val_mae: 6.1476 - val_mse: 61.8309 - val_accuracy: 0.0000e+00\n",
      "Epoch 229/250\n",
      "1/1 [==============================] - 0s 85ms/step - loss: 30.5605 - mae: 4.5485 - mse: 30.5605 - accuracy: 0.0000e+00 - val_loss: 61.7401 - val_mae: 6.1417 - val_mse: 61.7401 - val_accuracy: 0.0000e+00\n",
      "Epoch 230/250\n",
      "1/1 [==============================] - 0s 84ms/step - loss: 31.2749 - mae: 4.5668 - mse: 31.2749 - accuracy: 0.0000e+00 - val_loss: 61.6573 - val_mae: 6.1356 - val_mse: 61.6573 - val_accuracy: 0.0000e+00\n",
      "Epoch 231/250\n",
      "1/1 [==============================] - 0s 84ms/step - loss: 30.6101 - mae: 4.5001 - mse: 30.6101 - accuracy: 0.0000e+00 - val_loss: 61.5643 - val_mae: 6.1298 - val_mse: 61.5643 - val_accuracy: 0.0000e+00\n",
      "Epoch 232/250\n",
      "1/1 [==============================] - 0s 72ms/step - loss: 30.2371 - mae: 4.4999 - mse: 30.2371 - accuracy: 0.0000e+00 - val_loss: 61.4683 - val_mae: 6.1240 - val_mse: 61.4683 - val_accuracy: 0.0000e+00\n",
      "Epoch 233/250\n",
      "1/1 [==============================] - 0s 61ms/step - loss: 30.5254 - mae: 4.5271 - mse: 30.5254 - accuracy: 0.0000e+00 - val_loss: 61.3805 - val_mae: 6.1181 - val_mse: 61.3805 - val_accuracy: 0.0000e+00\n",
      "Epoch 234/250\n",
      "1/1 [==============================] - 0s 60ms/step - loss: 31.1268 - mae: 4.5488 - mse: 31.1268 - accuracy: 0.0000e+00 - val_loss: 61.2941 - val_mae: 6.1114 - val_mse: 61.2941 - val_accuracy: 0.0000e+00\n",
      "Epoch 235/250\n",
      "1/1 [==============================] - 0s 61ms/step - loss: 31.0532 - mae: 4.5443 - mse: 31.0532 - accuracy: 0.0000e+00 - val_loss: 61.2104 - val_mae: 6.1049 - val_mse: 61.2104 - val_accuracy: 0.0000e+00\n",
      "Epoch 236/250\n",
      "1/1 [==============================] - 0s 60ms/step - loss: 30.7686 - mae: 4.5490 - mse: 30.7686 - accuracy: 0.0000e+00 - val_loss: 61.1216 - val_mae: 6.0977 - val_mse: 61.1216 - val_accuracy: 0.0000e+00\n",
      "Epoch 237/250\n",
      "1/1 [==============================] - 0s 61ms/step - loss: 30.8139 - mae: 4.5195 - mse: 30.8139 - accuracy: 0.0000e+00 - val_loss: 61.0453 - val_mae: 6.0906 - val_mse: 61.0453 - val_accuracy: 0.0000e+00\n",
      "Epoch 238/250\n",
      "1/1 [==============================] - 0s 61ms/step - loss: 30.1986 - mae: 4.4715 - mse: 30.1986 - accuracy: 0.0000e+00 - val_loss: 60.9452 - val_mae: 6.0841 - val_mse: 60.9452 - val_accuracy: 0.0000e+00\n",
      "Epoch 239/250\n",
      "1/1 [==============================] - 0s 63ms/step - loss: 30.2602 - mae: 4.4977 - mse: 30.2602 - accuracy: 0.0000e+00 - val_loss: 60.8530 - val_mae: 6.0772 - val_mse: 60.8530 - val_accuracy: 0.0000e+00\n",
      "Epoch 240/250\n",
      "1/1 [==============================] - 0s 59ms/step - loss: 30.1961 - mae: 4.4928 - mse: 30.1961 - accuracy: 0.0000e+00 - val_loss: 60.7539 - val_mae: 6.0707 - val_mse: 60.7539 - val_accuracy: 0.0000e+00\n",
      "Epoch 241/250\n",
      "1/1 [==============================] - 0s 65ms/step - loss: 30.0253 - mae: 4.4711 - mse: 30.0253 - accuracy: 0.0000e+00 - val_loss: 60.6527 - val_mae: 6.0643 - val_mse: 60.6527 - val_accuracy: 0.0000e+00\n",
      "Epoch 242/250\n",
      "1/1 [==============================] - 0s 62ms/step - loss: 30.4879 - mae: 4.5168 - mse: 30.4879 - accuracy: 0.0000e+00 - val_loss: 60.5640 - val_mae: 6.0575 - val_mse: 60.5640 - val_accuracy: 0.0000e+00\n",
      "Epoch 243/250\n",
      "1/1 [==============================] - 0s 63ms/step - loss: 30.3467 - mae: 4.5086 - mse: 30.3467 - accuracy: 0.0000e+00 - val_loss: 60.4780 - val_mae: 6.0504 - val_mse: 60.4780 - val_accuracy: 0.0000e+00\n",
      "Epoch 244/250\n",
      "1/1 [==============================] - 0s 59ms/step - loss: 29.7567 - mae: 4.4879 - mse: 29.7567 - accuracy: 0.0000e+00 - val_loss: 60.3882 - val_mae: 6.0428 - val_mse: 60.3882 - val_accuracy: 0.0000e+00\n",
      "Epoch 245/250\n",
      "1/1 [==============================] - 0s 64ms/step - loss: 29.5536 - mae: 4.4183 - mse: 29.5536 - accuracy: 0.0000e+00 - val_loss: 60.2886 - val_mae: 6.0360 - val_mse: 60.2886 - val_accuracy: 0.0000e+00\n",
      "Epoch 246/250\n",
      "1/1 [==============================] - 0s 58ms/step - loss: 29.3523 - mae: 4.4381 - mse: 29.3523 - accuracy: 0.0000e+00 - val_loss: 60.1801 - val_mae: 6.0296 - val_mse: 60.1801 - val_accuracy: 0.0000e+00\n",
      "Epoch 247/250\n",
      "1/1 [==============================] - 0s 63ms/step - loss: 30.2303 - mae: 4.4594 - mse: 30.2303 - accuracy: 0.0000e+00 - val_loss: 60.0954 - val_mae: 6.0220 - val_mse: 60.0954 - val_accuracy: 0.0000e+00\n",
      "Epoch 248/250\n",
      "1/1 [==============================] - 0s 58ms/step - loss: 29.1648 - mae: 4.4353 - mse: 29.1648 - accuracy: 0.0000e+00 - val_loss: 59.9892 - val_mae: 6.0150 - val_mse: 59.9892 - val_accuracy: 0.0000e+00\n",
      "Epoch 249/250\n",
      "1/1 [==============================] - 0s 59ms/step - loss: 29.8395 - mae: 4.4733 - mse: 29.8395 - accuracy: 0.0000e+00 - val_loss: 59.8990 - val_mae: 6.0068 - val_mse: 59.8990 - val_accuracy: 0.0000e+00\n",
      "Epoch 250/250\n",
      "1/1 [==============================] - 0s 62ms/step - loss: 30.0427 - mae: 4.4868 - mse: 30.0427 - accuracy: 0.0000e+00 - val_loss: 59.8044 - val_mae: 5.9993 - val_mse: 59.8044 - val_accuracy: 0.0000e+00\n"
     ]
    },
    {
     "data": {
      "text/plain": [
       "<keras.callbacks.History at 0x20b22f936d0>"
      ]
     },
     "execution_count": 83,
     "metadata": {},
     "output_type": "execute_result"
    }
   ],
   "source": [
    "modelo_sgd.fit(X_train , y_train , epochs=250 , batch_size=64 , validation_split=0.2)"
   ]
  },
  {
   "cell_type": "code",
   "execution_count": 84,
   "id": "905a5054",
   "metadata": {},
   "outputs": [
    {
     "name": "stdout",
     "output_type": "stream",
     "text": [
      "1/1 [==============================] - 0s 40ms/step - loss: 40.0137 - mae: 4.9865 - mse: 40.0137 - accuracy: 0.0000e+00\n",
      "MAE: 4.986537456512451\n",
      "MSE: 40.013668060302734\n",
      "R2: 0.0\n"
     ]
    }
   ],
   "source": [
    "#### Veremos el resultado del modelo SGD\n",
    "scores = modelo_sgd.evaluate(X_test, y_test)\n",
    "print(\"MAE:\", scores[1])\n",
    "print(\"MSE:\", scores[2])\n",
    "print(\"R2:\", scores[3])"
   ]
  },
  {
   "cell_type": "markdown",
   "id": "39bfb131",
   "metadata": {},
   "source": [
    "* # RESUMEN:\n",
    "* ## Podemos observar que el mejor modelo a predecir sigue siendo la REGRESION LINEAL con la mayoria de variables predictoras\n",
    "* ## ahora intentaremos dumificar varios datos, aplicar la regresion lineal y ver como se comporta el modelo. Si sera mejor con todas las variables o solamente con las que el RFE nos indico y es la que obtuvimos el mejor modelo.\n",
    "-------"
   ]
  },
  {
   "cell_type": "markdown",
   "id": "d3580631",
   "metadata": {},
   "source": [
    "\n",
    "* # Primero crearemos una grafica para demostrar la relacion que hay entre los toques en el area y los goles marcados por jugador (en este caso solamente usaremos los jugadores del LIVERPOOL)  campeón de dicha temporada "
   ]
  },
  {
   "cell_type": "code",
   "execution_count": 85,
   "id": "f8b59e8e",
   "metadata": {},
   "outputs": [
    {
     "data": {
      "text/html": [
       "<div>\n",
       "<style scoped>\n",
       "    .dataframe tbody tr th:only-of-type {\n",
       "        vertical-align: middle;\n",
       "    }\n",
       "\n",
       "    .dataframe tbody tr th {\n",
       "        vertical-align: top;\n",
       "    }\n",
       "\n",
       "    .dataframe thead th {\n",
       "        text-align: right;\n",
       "    }\n",
       "</style>\n",
       "<table border=\"1\" class=\"dataframe\">\n",
       "  <thead>\n",
       "    <tr style=\"text-align: right;\">\n",
       "      <th></th>\n",
       "      <th>index</th>\n",
       "      <th>jugadores</th>\n",
       "      <th>posicion</th>\n",
       "      <th>equipo</th>\n",
       "      <th>toques_area</th>\n",
       "      <th>comienzo</th>\n",
       "      <th>minutos_jugados</th>\n",
       "      <th>foul_recibido</th>\n",
       "      <th>goles</th>\n",
       "    </tr>\n",
       "  </thead>\n",
       "  <tbody>\n",
       "    <tr>\n",
       "      <th>0</th>\n",
       "      <td>0</td>\n",
       "      <td>Salah</td>\n",
       "      <td>Forward</td>\n",
       "      <td>Liverpool</td>\n",
       "      <td>248</td>\n",
       "      <td>33</td>\n",
       "      <td>2876</td>\n",
       "      <td>18</td>\n",
       "      <td>19</td>\n",
       "    </tr>\n",
       "    <tr>\n",
       "      <th>3</th>\n",
       "      <td>3</td>\n",
       "      <td>Roberto Firmino</td>\n",
       "      <td>Forward</td>\n",
       "      <td>Liverpool</td>\n",
       "      <td>184</td>\n",
       "      <td>34</td>\n",
       "      <td>2988</td>\n",
       "      <td>16</td>\n",
       "      <td>9</td>\n",
       "    </tr>\n",
       "    <tr>\n",
       "      <th>5</th>\n",
       "      <td>5</td>\n",
       "      <td>Sadio Mane</td>\n",
       "      <td>Forward</td>\n",
       "      <td>Liverpool</td>\n",
       "      <td>164</td>\n",
       "      <td>31</td>\n",
       "      <td>2747</td>\n",
       "      <td>51</td>\n",
       "      <td>18</td>\n",
       "    </tr>\n",
       "    <tr>\n",
       "      <th>57</th>\n",
       "      <td>57</td>\n",
       "      <td>Andrew Robertson</td>\n",
       "      <td>Defender</td>\n",
       "      <td>Liverpool</td>\n",
       "      <td>66</td>\n",
       "      <td>34</td>\n",
       "      <td>3111</td>\n",
       "      <td>13</td>\n",
       "      <td>2</td>\n",
       "    </tr>\n",
       "    <tr>\n",
       "      <th>76</th>\n",
       "      <td>76</td>\n",
       "      <td>Wijnaldum</td>\n",
       "      <td>Midfielder</td>\n",
       "      <td>Liverpool</td>\n",
       "      <td>53</td>\n",
       "      <td>35</td>\n",
       "      <td>2935</td>\n",
       "      <td>32</td>\n",
       "      <td>4</td>\n",
       "    </tr>\n",
       "  </tbody>\n",
       "</table>\n",
       "</div>"
      ],
      "text/plain": [
       "    index         jugadores    posicion     equipo  toques_area  comienzo  \\\n",
       "0       0            Salah      Forward  Liverpool          248        33   \n",
       "3       3  Roberto Firmino      Forward  Liverpool          184        34   \n",
       "5       5        Sadio Mane     Forward  Liverpool          164        31   \n",
       "57     57  Andrew Robertson    Defender  Liverpool           66        34   \n",
       "76     76        Wijnaldum   Midfielder  Liverpool           53        35   \n",
       "\n",
       "    minutos_jugados  foul_recibido  goles  \n",
       "0              2876             18     19  \n",
       "3              2988             16      9  \n",
       "5              2747             51     18  \n",
       "57             3111             13      2  \n",
       "76             2935             32      4  "
      ]
     },
     "execution_count": 85,
     "metadata": {},
     "output_type": "execute_result"
    }
   ],
   "source": [
    "liverpool_data = data[data[\"equipo\"] == \"Liverpool\"]\n",
    "liverpool_data.head()"
   ]
  },
  {
   "cell_type": "code",
   "execution_count": 86,
   "id": "fbf73aed",
   "metadata": {},
   "outputs": [
    {
     "name": "stderr",
     "output_type": "stream",
     "text": [
      "C:\\Users\\Acer\\AppData\\Local\\Temp\\ipykernel_5652\\1153476002.py:1: SettingWithCopyWarning: \n",
      "A value is trying to be set on a copy of a slice from a DataFrame.\n",
      "Try using .loc[row_indexer,col_indexer] = value instead\n",
      "\n",
      "See the caveats in the documentation: https://pandas.pydata.org/pandas-docs/stable/user_guide/indexing.html#returning-a-view-versus-a-copy\n",
      "  liverpool_data[\"eficiencia\"] = (liverpool_data[\"goles\"] / liverpool_data[\"toques_area\"])*100\n"
     ]
    },
    {
     "data": {
      "text/html": [
       "<div>\n",
       "<style scoped>\n",
       "    .dataframe tbody tr th:only-of-type {\n",
       "        vertical-align: middle;\n",
       "    }\n",
       "\n",
       "    .dataframe tbody tr th {\n",
       "        vertical-align: top;\n",
       "    }\n",
       "\n",
       "    .dataframe thead th {\n",
       "        text-align: right;\n",
       "    }\n",
       "</style>\n",
       "<table border=\"1\" class=\"dataframe\">\n",
       "  <thead>\n",
       "    <tr style=\"text-align: right;\">\n",
       "      <th></th>\n",
       "      <th>index</th>\n",
       "      <th>jugadores</th>\n",
       "      <th>posicion</th>\n",
       "      <th>equipo</th>\n",
       "      <th>toques_area</th>\n",
       "      <th>comienzo</th>\n",
       "      <th>minutos_jugados</th>\n",
       "      <th>foul_recibido</th>\n",
       "      <th>goles</th>\n",
       "      <th>eficiencia</th>\n",
       "    </tr>\n",
       "  </thead>\n",
       "  <tbody>\n",
       "    <tr>\n",
       "      <th>0</th>\n",
       "      <td>0</td>\n",
       "      <td>Salah</td>\n",
       "      <td>Forward</td>\n",
       "      <td>Liverpool</td>\n",
       "      <td>248</td>\n",
       "      <td>33</td>\n",
       "      <td>2876</td>\n",
       "      <td>18</td>\n",
       "      <td>19</td>\n",
       "      <td>7.661290</td>\n",
       "    </tr>\n",
       "    <tr>\n",
       "      <th>3</th>\n",
       "      <td>3</td>\n",
       "      <td>Roberto Firmino</td>\n",
       "      <td>Forward</td>\n",
       "      <td>Liverpool</td>\n",
       "      <td>184</td>\n",
       "      <td>34</td>\n",
       "      <td>2988</td>\n",
       "      <td>16</td>\n",
       "      <td>9</td>\n",
       "      <td>4.891304</td>\n",
       "    </tr>\n",
       "    <tr>\n",
       "      <th>5</th>\n",
       "      <td>5</td>\n",
       "      <td>Sadio Mane</td>\n",
       "      <td>Forward</td>\n",
       "      <td>Liverpool</td>\n",
       "      <td>164</td>\n",
       "      <td>31</td>\n",
       "      <td>2747</td>\n",
       "      <td>51</td>\n",
       "      <td>18</td>\n",
       "      <td>10.975610</td>\n",
       "    </tr>\n",
       "    <tr>\n",
       "      <th>57</th>\n",
       "      <td>57</td>\n",
       "      <td>Andrew Robertson</td>\n",
       "      <td>Defender</td>\n",
       "      <td>Liverpool</td>\n",
       "      <td>66</td>\n",
       "      <td>34</td>\n",
       "      <td>3111</td>\n",
       "      <td>13</td>\n",
       "      <td>2</td>\n",
       "      <td>3.030303</td>\n",
       "    </tr>\n",
       "    <tr>\n",
       "      <th>76</th>\n",
       "      <td>76</td>\n",
       "      <td>Wijnaldum</td>\n",
       "      <td>Midfielder</td>\n",
       "      <td>Liverpool</td>\n",
       "      <td>53</td>\n",
       "      <td>35</td>\n",
       "      <td>2935</td>\n",
       "      <td>32</td>\n",
       "      <td>4</td>\n",
       "      <td>7.547170</td>\n",
       "    </tr>\n",
       "    <tr>\n",
       "      <th>90</th>\n",
       "      <td>90</td>\n",
       "      <td>Trent Alexander-Arnold</td>\n",
       "      <td>Defender</td>\n",
       "      <td>Liverpool</td>\n",
       "      <td>48</td>\n",
       "      <td>35</td>\n",
       "      <td>3175</td>\n",
       "      <td>9</td>\n",
       "      <td>4</td>\n",
       "      <td>8.333333</td>\n",
       "    </tr>\n",
       "  </tbody>\n",
       "</table>\n",
       "</div>"
      ],
      "text/plain": [
       "    index                jugadores    posicion     equipo  toques_area  \\\n",
       "0       0                   Salah      Forward  Liverpool          248   \n",
       "3       3         Roberto Firmino      Forward  Liverpool          184   \n",
       "5       5               Sadio Mane     Forward  Liverpool          164   \n",
       "57     57         Andrew Robertson    Defender  Liverpool           66   \n",
       "76     76               Wijnaldum   Midfielder  Liverpool           53   \n",
       "90     90  Trent Alexander-Arnold     Defender  Liverpool           48   \n",
       "\n",
       "    comienzo  minutos_jugados  foul_recibido  goles  eficiencia  \n",
       "0         33             2876             18     19    7.661290  \n",
       "3         34             2988             16      9    4.891304  \n",
       "5         31             2747             51     18   10.975610  \n",
       "57        34             3111             13      2    3.030303  \n",
       "76        35             2935             32      4    7.547170  \n",
       "90        35             3175              9      4    8.333333  "
      ]
     },
     "execution_count": 86,
     "metadata": {},
     "output_type": "execute_result"
    }
   ],
   "source": [
    "liverpool_data[\"eficiencia\"] = (liverpool_data[\"goles\"] / liverpool_data[\"toques_area\"])*100\n",
    "liverpool_data"
   ]
  },
  {
   "cell_type": "markdown",
   "id": "203e7bcf",
   "metadata": {},
   "source": [
    "* ## Podemos ver que el jugador mas eficiente tocando el area y haciengo goles es \"Sadio Mane\"\n",
    "----- \n",
    "* ### Crearemos un grafico para que se pueda visualizar mejor."
   ]
  },
  {
   "cell_type": "code",
   "execution_count": 87,
   "id": "2a14f57b",
   "metadata": {
    "scrolled": false
   },
   "outputs": [
    {
     "data": {
      "image/png": "[encoded data removed]",
      "text/plain": [
       "<Figure size 640x480 with 1 Axes>"
      ]
     },
     "metadata": {},
     "output_type": "display_data"
    }
   ],
   "source": [
    "X_L = liverpool_data[\"jugadores\"]\n",
    "Y_L = liverpool_data[\"eficiencia\"]\n",
    "\n",
    "plt.bar(X_L , Y_L )\n",
    "plt.xlabel(\"JUGADORES\")\n",
    "plt.ylabel(\"EFICIENCIA\")\n",
    "plt.title(\"EFICIENCIA DE LOS JUGADORES CAMPEÓN DE LA PREMIER LEAGUE 19/20\")\n",
    "plt.xticks(rotation=70)\n",
    "plt.show()"
   ]
  },
  {
   "cell_type": "markdown",
   "id": "5ef3f6ab",
   "metadata": {},
   "source": [
    "* # Regressión Lineal (con todas las variables predictoras posibles)"
   ]
  },
  {
   "cell_type": "code",
   "execution_count": 88,
   "id": "2c64e263",
   "metadata": {},
   "outputs": [
    {
     "data": {
      "text/html": [
       "<div>\n",
       "<style scoped>\n",
       "    .dataframe tbody tr th:only-of-type {\n",
       "        vertical-align: middle;\n",
       "    }\n",
       "\n",
       "    .dataframe tbody tr th {\n",
       "        vertical-align: top;\n",
       "    }\n",
       "\n",
       "    .dataframe thead th {\n",
       "        text-align: right;\n",
       "    }\n",
       "</style>\n",
       "<table border=\"1\" class=\"dataframe\">\n",
       "  <thead>\n",
       "    <tr style=\"text-align: right;\">\n",
       "      <th></th>\n",
       "      <th>toques_area</th>\n",
       "      <th>comienzo</th>\n",
       "      <th>minutos_jugados</th>\n",
       "      <th>foul_recibido</th>\n",
       "      <th>Defender</th>\n",
       "      <th>Forward</th>\n",
       "      <th>Midfielder</th>\n",
       "      <th>Arsenal</th>\n",
       "      <th>Aston Villa</th>\n",
       "      <th>Bournemouth</th>\n",
       "      <th>...</th>\n",
       "      <th>M. City</th>\n",
       "      <th>M. United</th>\n",
       "      <th>Newcastle</th>\n",
       "      <th>Norwich City</th>\n",
       "      <th>Sheffield Utd</th>\n",
       "      <th>Southampton</th>\n",
       "      <th>Tottenham</th>\n",
       "      <th>Watford</th>\n",
       "      <th>West Ham</th>\n",
       "      <th>Wolves</th>\n",
       "    </tr>\n",
       "  </thead>\n",
       "  <tbody>\n",
       "    <tr>\n",
       "      <th>0</th>\n",
       "      <td>248</td>\n",
       "      <td>33</td>\n",
       "      <td>2876</td>\n",
       "      <td>18</td>\n",
       "      <td>0</td>\n",
       "      <td>1</td>\n",
       "      <td>0</td>\n",
       "      <td>0</td>\n",
       "      <td>0</td>\n",
       "      <td>0</td>\n",
       "      <td>...</td>\n",
       "      <td>0</td>\n",
       "      <td>0</td>\n",
       "      <td>0</td>\n",
       "      <td>0</td>\n",
       "      <td>0</td>\n",
       "      <td>0</td>\n",
       "      <td>0</td>\n",
       "      <td>0</td>\n",
       "      <td>0</td>\n",
       "      <td>0</td>\n",
       "    </tr>\n",
       "    <tr>\n",
       "      <th>1</th>\n",
       "      <td>239</td>\n",
       "      <td>30</td>\n",
       "      <td>2651</td>\n",
       "      <td>40</td>\n",
       "      <td>0</td>\n",
       "      <td>1</td>\n",
       "      <td>0</td>\n",
       "      <td>0</td>\n",
       "      <td>0</td>\n",
       "      <td>0</td>\n",
       "      <td>...</td>\n",
       "      <td>1</td>\n",
       "      <td>0</td>\n",
       "      <td>0</td>\n",
       "      <td>0</td>\n",
       "      <td>0</td>\n",
       "      <td>0</td>\n",
       "      <td>0</td>\n",
       "      <td>0</td>\n",
       "      <td>0</td>\n",
       "      <td>0</td>\n",
       "    </tr>\n",
       "    <tr>\n",
       "      <th>2</th>\n",
       "      <td>192</td>\n",
       "      <td>37</td>\n",
       "      <td>3280</td>\n",
       "      <td>120</td>\n",
       "      <td>0</td>\n",
       "      <td>1</td>\n",
       "      <td>0</td>\n",
       "      <td>0</td>\n",
       "      <td>0</td>\n",
       "      <td>0</td>\n",
       "      <td>...</td>\n",
       "      <td>0</td>\n",
       "      <td>0</td>\n",
       "      <td>0</td>\n",
       "      <td>0</td>\n",
       "      <td>0</td>\n",
       "      <td>0</td>\n",
       "      <td>0</td>\n",
       "      <td>0</td>\n",
       "      <td>0</td>\n",
       "      <td>0</td>\n",
       "    </tr>\n",
       "    <tr>\n",
       "      <th>3</th>\n",
       "      <td>184</td>\n",
       "      <td>34</td>\n",
       "      <td>2988</td>\n",
       "      <td>16</td>\n",
       "      <td>0</td>\n",
       "      <td>1</td>\n",
       "      <td>0</td>\n",
       "      <td>0</td>\n",
       "      <td>0</td>\n",
       "      <td>0</td>\n",
       "      <td>...</td>\n",
       "      <td>0</td>\n",
       "      <td>0</td>\n",
       "      <td>0</td>\n",
       "      <td>0</td>\n",
       "      <td>0</td>\n",
       "      <td>0</td>\n",
       "      <td>0</td>\n",
       "      <td>0</td>\n",
       "      <td>0</td>\n",
       "      <td>0</td>\n",
       "    </tr>\n",
       "    <tr>\n",
       "      <th>4</th>\n",
       "      <td>171</td>\n",
       "      <td>37</td>\n",
       "      <td>3236</td>\n",
       "      <td>35</td>\n",
       "      <td>0</td>\n",
       "      <td>1</td>\n",
       "      <td>0</td>\n",
       "      <td>0</td>\n",
       "      <td>0</td>\n",
       "      <td>0</td>\n",
       "      <td>...</td>\n",
       "      <td>0</td>\n",
       "      <td>0</td>\n",
       "      <td>0</td>\n",
       "      <td>0</td>\n",
       "      <td>0</td>\n",
       "      <td>0</td>\n",
       "      <td>0</td>\n",
       "      <td>0</td>\n",
       "      <td>0</td>\n",
       "      <td>1</td>\n",
       "    </tr>\n",
       "  </tbody>\n",
       "</table>\n",
       "<p>5 rows × 27 columns</p>\n",
       "</div>"
      ],
      "text/plain": [
       "   toques_area  comienzo  minutos_jugados  foul_recibido  Defender  Forward  \\\n",
       "0          248        33             2876             18         0        1   \n",
       "1          239        30             2651             40         0        1   \n",
       "2          192        37             3280            120         0        1   \n",
       "3          184        34             2988             16         0        1   \n",
       "4          171        37             3236             35         0        1   \n",
       "\n",
       "   Midfielder  Arsenal  Aston Villa  Bournemouth  ...  M. City  M. United  \\\n",
       "0           0        0            0            0  ...        0          0   \n",
       "1           0        0            0            0  ...        1          0   \n",
       "2           0        0            0            0  ...        0          0   \n",
       "3           0        0            0            0  ...        0          0   \n",
       "4           0        0            0            0  ...        0          0   \n",
       "\n",
       "   Newcastle  Norwich City  Sheffield Utd  Southampton  Tottenham  Watford  \\\n",
       "0          0             0              0            0          0        0   \n",
       "1          0             0              0            0          0        0   \n",
       "2          0             0              0            0          0        0   \n",
       "3          0             0              0            0          0        0   \n",
       "4          0             0              0            0          0        0   \n",
       "\n",
       "   West Ham  Wolves  \n",
       "0         0       0  \n",
       "1         0       0  \n",
       "2         0       0  \n",
       "3         0       0  \n",
       "4         0       1  \n",
       "\n",
       "[5 rows x 27 columns]"
      ]
     },
     "execution_count": 88,
     "metadata": {},
     "output_type": "execute_result"
    }
   ],
   "source": [
    "data_total = pd.concat([data_dummy, equipo_dummy], axis=1)\n",
    "data_total = data_total.drop([\"goles\",\"index\",\"jugadores\",\"equipo\"], axis=1)\n",
    "data_total.head()"
   ]
  },
  {
   "cell_type": "code",
   "execution_count": 89,
   "id": "28a5f1bd",
   "metadata": {},
   "outputs": [
    {
     "data": {
      "text/html": [
       "<div>\n",
       "<style scoped>\n",
       "    .dataframe tbody tr th:only-of-type {\n",
       "        vertical-align: middle;\n",
       "    }\n",
       "\n",
       "    .dataframe tbody tr th {\n",
       "        vertical-align: top;\n",
       "    }\n",
       "\n",
       "    .dataframe thead th {\n",
       "        text-align: right;\n",
       "    }\n",
       "</style>\n",
       "<table border=\"1\" class=\"dataframe\">\n",
       "  <thead>\n",
       "    <tr style=\"text-align: right;\">\n",
       "      <th></th>\n",
       "      <th>toques_area</th>\n",
       "      <th>comienzo</th>\n",
       "      <th>minutos_jugados</th>\n",
       "      <th>foul_recibido</th>\n",
       "      <th>Defender</th>\n",
       "      <th>Forward</th>\n",
       "      <th>Midfielder</th>\n",
       "      <th>Arsenal</th>\n",
       "      <th>Aston Villa</th>\n",
       "      <th>Bournemouth</th>\n",
       "      <th>...</th>\n",
       "      <th>M. City</th>\n",
       "      <th>M. United</th>\n",
       "      <th>Newcastle</th>\n",
       "      <th>Norwich City</th>\n",
       "      <th>Sheffield Utd</th>\n",
       "      <th>Southampton</th>\n",
       "      <th>Tottenham</th>\n",
       "      <th>Watford</th>\n",
       "      <th>West Ham</th>\n",
       "      <th>Wolves</th>\n",
       "    </tr>\n",
       "  </thead>\n",
       "  <tbody>\n",
       "    <tr>\n",
       "      <th>0</th>\n",
       "      <td>248</td>\n",
       "      <td>33</td>\n",
       "      <td>2876</td>\n",
       "      <td>18</td>\n",
       "      <td>0</td>\n",
       "      <td>1</td>\n",
       "      <td>0</td>\n",
       "      <td>0</td>\n",
       "      <td>0</td>\n",
       "      <td>0</td>\n",
       "      <td>...</td>\n",
       "      <td>0</td>\n",
       "      <td>0</td>\n",
       "      <td>0</td>\n",
       "      <td>0</td>\n",
       "      <td>0</td>\n",
       "      <td>0</td>\n",
       "      <td>0</td>\n",
       "      <td>0</td>\n",
       "      <td>0</td>\n",
       "      <td>0</td>\n",
       "    </tr>\n",
       "    <tr>\n",
       "      <th>1</th>\n",
       "      <td>239</td>\n",
       "      <td>30</td>\n",
       "      <td>2651</td>\n",
       "      <td>40</td>\n",
       "      <td>0</td>\n",
       "      <td>1</td>\n",
       "      <td>0</td>\n",
       "      <td>0</td>\n",
       "      <td>0</td>\n",
       "      <td>0</td>\n",
       "      <td>...</td>\n",
       "      <td>1</td>\n",
       "      <td>0</td>\n",
       "      <td>0</td>\n",
       "      <td>0</td>\n",
       "      <td>0</td>\n",
       "      <td>0</td>\n",
       "      <td>0</td>\n",
       "      <td>0</td>\n",
       "      <td>0</td>\n",
       "      <td>0</td>\n",
       "    </tr>\n",
       "    <tr>\n",
       "      <th>2</th>\n",
       "      <td>192</td>\n",
       "      <td>37</td>\n",
       "      <td>3280</td>\n",
       "      <td>120</td>\n",
       "      <td>0</td>\n",
       "      <td>1</td>\n",
       "      <td>0</td>\n",
       "      <td>0</td>\n",
       "      <td>0</td>\n",
       "      <td>0</td>\n",
       "      <td>...</td>\n",
       "      <td>0</td>\n",
       "      <td>0</td>\n",
       "      <td>0</td>\n",
       "      <td>0</td>\n",
       "      <td>0</td>\n",
       "      <td>0</td>\n",
       "      <td>0</td>\n",
       "      <td>0</td>\n",
       "      <td>0</td>\n",
       "      <td>0</td>\n",
       "    </tr>\n",
       "    <tr>\n",
       "      <th>3</th>\n",
       "      <td>184</td>\n",
       "      <td>34</td>\n",
       "      <td>2988</td>\n",
       "      <td>16</td>\n",
       "      <td>0</td>\n",
       "      <td>1</td>\n",
       "      <td>0</td>\n",
       "      <td>0</td>\n",
       "      <td>0</td>\n",
       "      <td>0</td>\n",
       "      <td>...</td>\n",
       "      <td>0</td>\n",
       "      <td>0</td>\n",
       "      <td>0</td>\n",
       "      <td>0</td>\n",
       "      <td>0</td>\n",
       "      <td>0</td>\n",
       "      <td>0</td>\n",
       "      <td>0</td>\n",
       "      <td>0</td>\n",
       "      <td>0</td>\n",
       "    </tr>\n",
       "    <tr>\n",
       "      <th>4</th>\n",
       "      <td>171</td>\n",
       "      <td>37</td>\n",
       "      <td>3236</td>\n",
       "      <td>35</td>\n",
       "      <td>0</td>\n",
       "      <td>1</td>\n",
       "      <td>0</td>\n",
       "      <td>0</td>\n",
       "      <td>0</td>\n",
       "      <td>0</td>\n",
       "      <td>...</td>\n",
       "      <td>0</td>\n",
       "      <td>0</td>\n",
       "      <td>0</td>\n",
       "      <td>0</td>\n",
       "      <td>0</td>\n",
       "      <td>0</td>\n",
       "      <td>0</td>\n",
       "      <td>0</td>\n",
       "      <td>0</td>\n",
       "      <td>1</td>\n",
       "    </tr>\n",
       "  </tbody>\n",
       "</table>\n",
       "<p>5 rows × 27 columns</p>\n",
       "</div>"
      ],
      "text/plain": [
       "   toques_area  comienzo  minutos_jugados  foul_recibido  Defender  Forward  \\\n",
       "0          248        33             2876             18         0        1   \n",
       "1          239        30             2651             40         0        1   \n",
       "2          192        37             3280            120         0        1   \n",
       "3          184        34             2988             16         0        1   \n",
       "4          171        37             3236             35         0        1   \n",
       "\n",
       "   Midfielder  Arsenal  Aston Villa  Bournemouth  ...  M. City  M. United  \\\n",
       "0           0        0            0            0  ...        0          0   \n",
       "1           0        0            0            0  ...        1          0   \n",
       "2           0        0            0            0  ...        0          0   \n",
       "3           0        0            0            0  ...        0          0   \n",
       "4           0        0            0            0  ...        0          0   \n",
       "\n",
       "   Newcastle  Norwich City  Sheffield Utd  Southampton  Tottenham  Watford  \\\n",
       "0          0             0              0            0          0        0   \n",
       "1          0             0              0            0          0        0   \n",
       "2          0             0              0            0          0        0   \n",
       "3          0             0              0            0          0        0   \n",
       "4          0             0              0            0          0        0   \n",
       "\n",
       "   West Ham  Wolves  \n",
       "0         0       0  \n",
       "1         0       0  \n",
       "2         0       0  \n",
       "3         0       0  \n",
       "4         0       1  \n",
       "\n",
       "[5 rows x 27 columns]"
      ]
     },
     "execution_count": 89,
     "metadata": {},
     "output_type": "execute_result"
    }
   ],
   "source": [
    "X2 = data_total\n",
    "X2.head()"
   ]
  },
  {
   "cell_type": "code",
   "execution_count": 90,
   "id": "1205c138",
   "metadata": {},
   "outputs": [
    {
     "data": {
      "text/html": [
       "<style>#sk-container-id-5 {color: black;background-color: white;}#sk-container-id-5 pre{padding: 0;}#sk-container-id-5 div.sk-toggleable {background-color: white;}#sk-container-id-5 label.sk-toggleable__label {cursor: pointer;display: block;width: 100%;margin-bottom: 0;padding: 0.3em;box-sizing: border-box;text-align: center;}#sk-container-id-5 label.sk-toggleable__label-arrow:before {content: \"▸\";float: left;margin-right: 0.25em;color: #696969;}#sk-container-id-5 label.sk-toggleable__label-arrow:hover:before {color: black;}#sk-container-id-5 div.sk-estimator:hover label.sk-toggleable__label-arrow:before {color: black;}#sk-container-id-5 div.sk-toggleable__content {max-height: 0;max-width: 0;overflow: hidden;text-align: left;background-color: #f0f8ff;}#sk-container-id-5 div.sk-toggleable__content pre {margin: 0.2em;color: black;border-radius: 0.25em;background-color: #f0f8ff;}#sk-container-id-5 input.sk-toggleable__control:checked~div.sk-toggleable__content {max-height: 200px;max-width: 100%;overflow: auto;}#sk-container-id-5 input.sk-toggleable__control:checked~label.sk-toggleable__label-arrow:before {content: \"▾\";}#sk-container-id-5 div.sk-estimator input.sk-toggleable__control:checked~label.sk-toggleable__label {background-color: #d4ebff;}#sk-container-id-5 div.sk-label input.sk-toggleable__control:checked~label.sk-toggleable__label {background-color: #d4ebff;}#sk-container-id-5 input.sk-hidden--visually {border: 0;clip: rect(1px 1px 1px 1px);clip: rect(1px, 1px, 1px, 1px);height: 1px;margin: -1px;overflow: hidden;padding: 0;position: absolute;width: 1px;}#sk-container-id-5 div.sk-estimator {font-family: monospace;background-color: #f0f8ff;border: 1px dotted black;border-radius: 0.25em;box-sizing: border-box;margin-bottom: 0.5em;}#sk-container-id-5 div.sk-estimator:hover {background-color: #d4ebff;}#sk-container-id-5 div.sk-parallel-item::after {content: \"\";width: 100%;border-bottom: 1px solid gray;flex-grow: 1;}#sk-container-id-5 div.sk-label:hover label.sk-toggleable__label {background-color: #d4ebff;}#sk-container-id-5 div.sk-serial::before {content: \"\";position: absolute;border-left: 1px solid gray;box-sizing: border-box;top: 0;bottom: 0;left: 50%;z-index: 0;}#sk-container-id-5 div.sk-serial {display: flex;flex-direction: column;align-items: center;background-color: white;padding-right: 0.2em;padding-left: 0.2em;position: relative;}#sk-container-id-5 div.sk-item {position: relative;z-index: 1;}#sk-container-id-5 div.sk-parallel {display: flex;align-items: stretch;justify-content: center;background-color: white;position: relative;}#sk-container-id-5 div.sk-item::before, #sk-container-id-5 div.sk-parallel-item::before {content: \"\";position: absolute;border-left: 1px solid gray;box-sizing: border-box;top: 0;bottom: 0;left: 50%;z-index: -1;}#sk-container-id-5 div.sk-parallel-item {display: flex;flex-direction: column;z-index: 1;position: relative;background-color: white;}#sk-container-id-5 div.sk-parallel-item:first-child::after {align-self: flex-end;width: 50%;}#sk-container-id-5 div.sk-parallel-item:last-child::after {align-self: flex-start;width: 50%;}#sk-container-id-5 div.sk-parallel-item:only-child::after {width: 0;}#sk-container-id-5 div.sk-dashed-wrapped {border: 1px dashed gray;margin: 0 0.4em 0.5em 0.4em;box-sizing: border-box;padding-bottom: 0.4em;background-color: white;}#sk-container-id-5 div.sk-label label {font-family: monospace;font-weight: bold;display: inline-block;line-height: 1.2em;}#sk-container-id-5 div.sk-label-container {text-align: center;}#sk-container-id-5 div.sk-container {/* jupyter's `normalize.less` sets `[hidden] { display: none; }` but bootstrap.min.css set `[hidden] { display: none !important; }` so we also need the `!important` here to be able to override the default hidden behavior on the sphinx rendered scikit-learn.org. See: https://github.com/scikit-learn/scikit-learn/issues/21755 */display: inline-block !important;position: relative;}#sk-container-id-5 div.sk-text-repr-fallback {display: none;}</style><div id=\"sk-container-id-5\" class=\"sk-top-container\"><div class=\"sk-text-repr-fallback\"><pre>LinearRegression()</pre><b>In a Jupyter environment, please rerun this cell to show the HTML representation or trust the notebook. <br />On GitHub, the HTML representation is unable to render, please try loading this page with nbviewer.org.</b></div><div class=\"sk-container\" hidden><div class=\"sk-item\"><div class=\"sk-estimator sk-toggleable\"><input class=\"sk-toggleable__control sk-hidden--visually\" id=\"sk-estimator-id-5\" type=\"checkbox\" checked><label for=\"sk-estimator-id-5\" class=\"sk-toggleable__label sk-toggleable__label-arrow\">LinearRegression</label><div class=\"sk-toggleable__content\"><pre>LinearRegression()</pre></div></div></div></div></div>"
      ],
      "text/plain": [
       "LinearRegression()"
      ]
     },
     "execution_count": 90,
     "metadata": {},
     "output_type": "execute_result"
    }
   ],
   "source": [
    "lm1 = LinearRegression()\n",
    "lm1.fit(X2 , y)"
   ]
  },
  {
   "cell_type": "code",
   "execution_count": 91,
   "id": "063ae5ba",
   "metadata": {},
   "outputs": [],
   "source": [
    "X_train , X_test , y_train , y_test  = train_test_split(X2, y, test_size=0.3 , random_state=42 )"
   ]
  },
  {
   "cell_type": "code",
   "execution_count": 102,
   "id": "9f23dbf2",
   "metadata": {},
   "outputs": [
    {
     "name": "stdout",
     "output_type": "stream",
     "text": [
      "MAE:2.6361570329141233\n",
      "MSE:10.123159540653957\n",
      "r2:72.67621285212164\n"
     ]
    }
   ],
   "source": [
    "y_pred = lm1.predict(X_test)\n",
    "mae = mean_absolute_error(y_test , y_pred)\n",
    "mse = mean_squared_error(y_test , y_pred)\n",
    "r2 = r2_score(y_test , y_pred)*100\n",
    "\n",
    "\n",
    "print(f\"MAE:{mae}\")\n",
    "print(f\"MSE:{mse}\")\n",
    "print(f\"r2:{r2}\")"
   ]
  },
  {
   "cell_type": "markdown",
   "id": "be032a32",
   "metadata": {},
   "source": [
    "* ## El modelo sigue casi igual, pero haremos una validación cruzada para ver si realmente es mejor o no este modelo con todas las variables predictoras posibles.\n",
    "\n",
    "-----"
   ]
  },
  {
   "cell_type": "code",
   "execution_count": 93,
   "id": "c57f9184",
   "metadata": {},
   "outputs": [
    {
     "name": "stdout",
     "output_type": "stream",
     "text": [
      "MAE: 2.9884892732921546\n",
      "MSE: 19.266661351637534\n",
      "r2:0.5345137676456972\n"
     ]
    }
   ],
   "source": [
    "y_pred = cross_val_predict(lm1 , X_pred , y , cv=98)\n",
    "\n",
    "mae = mean_absolute_error(y , y_pred)\n",
    "mse = mean_squared_error(y , y_pred)\n",
    "r2 = r2_score(y , y_pred)\n",
    "\n",
    "print(f\"MAE: {mae}\")\n",
    "print(f\"MSE: {mse}\")\n",
    "print(f\"r2:{r2}\")"
   ]
  },
  {
   "cell_type": "markdown",
   "id": "a8eb6ff1",
   "metadata": {},
   "source": [
    "* ## El modelo que contiene todas las variables predictoras el valor del MAE es = 2.98 y un R2 de 53.45, lo que sugiere que el modelo puede hacer predicciones precisas en promedio, pero todavía hay una cantidad significativa de variabilidad en los datos que no se explica por casi todas las variables predictoras utilizadas en el modelo.\n",
    ".----------------------------------------------------------------------------------------------------------------------------------------------------------------------------------------------\n",
    "----\n",
    "----\n",
    "\n",
    "\n",
    "* # Creamos un modelo de XGboost regresor.\n",
    "    * ## (Este modelo es una variante del Gradient Boosting Regresor que utiliza una implementación más eficiente y escalable para entrenar múltiples árboles de decisión. Es muy popular en competencias de ciencia de datos debido a su alta precisión y velocidad.)"
   ]
  },
  {
   "cell_type": "code",
   "execution_count": 150,
   "id": "4b0ac4a8",
   "metadata": {},
   "outputs": [
    {
     "name": "stderr",
     "output_type": "stream",
     "text": [
      "C:\\Users\\Acer\\anaconda3\\envs\\Trabajar-con-tensorflow\\lib\\site-packages\\sklearn\\ensemble\\_gb.py:570: DataConversionWarning: A column-vector y was passed when a 1d array was expected. Please change the shape of y to (n_samples, ), for example using ravel().\n",
      "  y = column_or_1d(y, warn=True)\n"
     ]
    }
   ],
   "source": [
    "from sklearn.ensemble import GradientBoostingRegressor\n",
    "\n",
    "# Crear modelo con 100 árboles y profundidad máxima de 5 niveles\n",
    "gb_model = GradientBoostingRegressor(n_estimators=300, max_depth=10)\n",
    "\n",
    "# Entrenar modelo con tus datos de entrenamiento\n",
    "gb_model.fit(X_train, y_train)\n",
    "\n",
    "# Hacer predicciones con tus datos de prueba\n",
    "y_pred_gb = gb_model.predict(X_test)"
   ]
  },
  {
   "cell_type": "code",
   "execution_count": 152,
   "id": "48c39c01",
   "metadata": {},
   "outputs": [
    {
     "name": "stdout",
     "output_type": "stream",
     "text": [
      "MAE:2.3595251103930113\n",
      "MSE:13.03950391675197\n",
      "r2:64.80460195214499\n"
     ]
    }
   ],
   "source": [
    "mae = mean_absolute_error(y_test , y_pred_gb)\n",
    "mse = mean_squared_error(y_test , y_pred_gb)\n",
    "r2 = r2_score(y_test , y_pred_gb)*100\n",
    "\n",
    "\n",
    "print(f\"MAE:{mae}\")\n",
    "print(f\"MSE:{mse}\")\n",
    "print(f\"r2:{r2}\")"
   ]
  },
  {
   "cell_type": "markdown",
   "id": "3270512a",
   "metadata": {},
   "source": [
    "* ### Evidentemente para este modelo si sirve el XGboost regresor, Nos arroja un valor negativo bueno de R2 = 64.80 y un MAE = 2.35 . pero seguimo teniendo el mejor modelo con la regresion Lineal\n",
    ".----------------------------------------------------------------------------------------------------------------------------------------------------------------------------------\n",
    "-----\n",
    "-----\n",
    "\n",
    "* # Crearemos un análisis de comparación de equipos."
   ]
  },
  {
   "cell_type": "code",
   "execution_count": 189,
   "id": "45ed7ba5",
   "metadata": {},
   "outputs": [],
   "source": [
    "variable = [\"toques_area\" , \"comienzo\" , \"minutos_jugados\" , \"foul_recibido\" , \"goles\"]"
   ]
  },
  {
   "cell_type": "code",
   "execution_count": 190,
   "id": "ee034cb8",
   "metadata": {},
   "outputs": [],
   "source": [
    "grupo = data.groupby(\"equipo\")"
   ]
  },
  {
   "cell_type": "code",
   "execution_count": 194,
   "id": "afb3362e",
   "metadata": {},
   "outputs": [
    {
     "data": {
      "text/html": [
       "<div>\n",
       "<style scoped>\n",
       "    .dataframe tbody tr th:only-of-type {\n",
       "        vertical-align: middle;\n",
       "    }\n",
       "\n",
       "    .dataframe tbody tr th {\n",
       "        vertical-align: top;\n",
       "    }\n",
       "\n",
       "    .dataframe thead th {\n",
       "        text-align: right;\n",
       "    }\n",
       "</style>\n",
       "<table border=\"1\" class=\"dataframe\">\n",
       "  <thead>\n",
       "    <tr style=\"text-align: right;\">\n",
       "      <th></th>\n",
       "      <th>toques_area</th>\n",
       "      <th>comienzo</th>\n",
       "      <th>minutos_jugados</th>\n",
       "      <th>foul_recibido</th>\n",
       "      <th>goles</th>\n",
       "    </tr>\n",
       "    <tr>\n",
       "      <th>equipo</th>\n",
       "      <th></th>\n",
       "      <th></th>\n",
       "      <th></th>\n",
       "      <th></th>\n",
       "      <th></th>\n",
       "    </tr>\n",
       "  </thead>\n",
       "  <tbody>\n",
       "    <tr>\n",
       "      <th>Arsenal</th>\n",
       "      <td>97.666667</td>\n",
       "      <td>26.333333</td>\n",
       "      <td>2340.000000</td>\n",
       "      <td>34.000000</td>\n",
       "      <td>12.333333</td>\n",
       "    </tr>\n",
       "    <tr>\n",
       "      <th>Aston Villa</th>\n",
       "      <td>74.600000</td>\n",
       "      <td>26.000000</td>\n",
       "      <td>2265.600000</td>\n",
       "      <td>59.200000</td>\n",
       "      <td>1.600000</td>\n",
       "    </tr>\n",
       "    <tr>\n",
       "      <th>Bournemouth</th>\n",
       "      <td>66.600000</td>\n",
       "      <td>22.800000</td>\n",
       "      <td>2056.600000</td>\n",
       "      <td>33.400000</td>\n",
       "      <td>1.600000</td>\n",
       "    </tr>\n",
       "    <tr>\n",
       "      <th>Brighton</th>\n",
       "      <td>90.333333</td>\n",
       "      <td>24.666667</td>\n",
       "      <td>2191.000000</td>\n",
       "      <td>23.333333</td>\n",
       "      <td>5.000000</td>\n",
       "    </tr>\n",
       "    <tr>\n",
       "      <th>Burnley</th>\n",
       "      <td>62.750000</td>\n",
       "      <td>26.000000</td>\n",
       "      <td>2306.250000</td>\n",
       "      <td>28.750000</td>\n",
       "      <td>3.500000</td>\n",
       "    </tr>\n",
       "    <tr>\n",
       "      <th>Chelsea</th>\n",
       "      <td>91.833333</td>\n",
       "      <td>24.666667</td>\n",
       "      <td>2249.333333</td>\n",
       "      <td>27.500000</td>\n",
       "      <td>7.000000</td>\n",
       "    </tr>\n",
       "    <tr>\n",
       "      <th>Crystal Palace</th>\n",
       "      <td>95.400000</td>\n",
       "      <td>30.600000</td>\n",
       "      <td>2661.400000</td>\n",
       "      <td>61.600000</td>\n",
       "      <td>3.000000</td>\n",
       "    </tr>\n",
       "    <tr>\n",
       "      <th>Everton</th>\n",
       "      <td>68.875000</td>\n",
       "      <td>24.000000</td>\n",
       "      <td>2123.625000</td>\n",
       "      <td>27.250000</td>\n",
       "      <td>3.500000</td>\n",
       "    </tr>\n",
       "    <tr>\n",
       "      <th>Leicester</th>\n",
       "      <td>91.166667</td>\n",
       "      <td>25.500000</td>\n",
       "      <td>2204.000000</td>\n",
       "      <td>34.833333</td>\n",
       "      <td>6.166667</td>\n",
       "    </tr>\n",
       "    <tr>\n",
       "      <th>Liverpool</th>\n",
       "      <td>127.166667</td>\n",
       "      <td>33.666667</td>\n",
       "      <td>2972.000000</td>\n",
       "      <td>23.166667</td>\n",
       "      <td>9.333333</td>\n",
       "    </tr>\n",
       "    <tr>\n",
       "      <th>M. City</th>\n",
       "      <td>142.714286</td>\n",
       "      <td>23.857143</td>\n",
       "      <td>2103.428571</td>\n",
       "      <td>25.000000</td>\n",
       "      <td>12.285714</td>\n",
       "    </tr>\n",
       "    <tr>\n",
       "      <th>M. United</th>\n",
       "      <td>84.000000</td>\n",
       "      <td>28.800000</td>\n",
       "      <td>2491.600000</td>\n",
       "      <td>35.800000</td>\n",
       "      <td>7.400000</td>\n",
       "    </tr>\n",
       "    <tr>\n",
       "      <th>Newcastle</th>\n",
       "      <td>73.333333</td>\n",
       "      <td>30.000000</td>\n",
       "      <td>2522.333333</td>\n",
       "      <td>49.000000</td>\n",
       "      <td>1.000000</td>\n",
       "    </tr>\n",
       "    <tr>\n",
       "      <th>Norwich City</th>\n",
       "      <td>85.750000</td>\n",
       "      <td>26.250000</td>\n",
       "      <td>2305.750000</td>\n",
       "      <td>38.500000</td>\n",
       "      <td>3.250000</td>\n",
       "    </tr>\n",
       "    <tr>\n",
       "      <th>Sheffield Utd</th>\n",
       "      <td>58.142857</td>\n",
       "      <td>27.285714</td>\n",
       "      <td>2472.428571</td>\n",
       "      <td>21.714286</td>\n",
       "      <td>0.857143</td>\n",
       "    </tr>\n",
       "    <tr>\n",
       "      <th>Southampton</th>\n",
       "      <td>74.600000</td>\n",
       "      <td>19.400000</td>\n",
       "      <td>1730.600000</td>\n",
       "      <td>26.200000</td>\n",
       "      <td>5.200000</td>\n",
       "    </tr>\n",
       "    <tr>\n",
       "      <th>Tottenham</th>\n",
       "      <td>90.500000</td>\n",
       "      <td>25.750000</td>\n",
       "      <td>2288.000000</td>\n",
       "      <td>41.750000</td>\n",
       "      <td>9.250000</td>\n",
       "    </tr>\n",
       "    <tr>\n",
       "      <th>Watford</th>\n",
       "      <td>90.600000</td>\n",
       "      <td>25.200000</td>\n",
       "      <td>2231.000000</td>\n",
       "      <td>30.600000</td>\n",
       "      <td>3.800000</td>\n",
       "    </tr>\n",
       "    <tr>\n",
       "      <th>West Ham</th>\n",
       "      <td>74.750000</td>\n",
       "      <td>20.000000</td>\n",
       "      <td>1760.000000</td>\n",
       "      <td>32.250000</td>\n",
       "      <td>4.250000</td>\n",
       "    </tr>\n",
       "    <tr>\n",
       "      <th>Wolves</th>\n",
       "      <td>105.200000</td>\n",
       "      <td>31.200000</td>\n",
       "      <td>2770.200000</td>\n",
       "      <td>43.800000</td>\n",
       "      <td>6.400000</td>\n",
       "    </tr>\n",
       "  </tbody>\n",
       "</table>\n",
       "</div>"
      ],
      "text/plain": [
       "                toques_area   comienzo  minutos_jugados  foul_recibido  \\\n",
       "equipo                                                                   \n",
       "Arsenal           97.666667  26.333333      2340.000000      34.000000   \n",
       "Aston Villa       74.600000  26.000000      2265.600000      59.200000   \n",
       "Bournemouth       66.600000  22.800000      2056.600000      33.400000   \n",
       "Brighton          90.333333  24.666667      2191.000000      23.333333   \n",
       "Burnley           62.750000  26.000000      2306.250000      28.750000   \n",
       "Chelsea           91.833333  24.666667      2249.333333      27.500000   \n",
       "Crystal Palace    95.400000  30.600000      2661.400000      61.600000   \n",
       "Everton           68.875000  24.000000      2123.625000      27.250000   \n",
       "Leicester         91.166667  25.500000      2204.000000      34.833333   \n",
       "Liverpool        127.166667  33.666667      2972.000000      23.166667   \n",
       "M. City          142.714286  23.857143      2103.428571      25.000000   \n",
       "M. United         84.000000  28.800000      2491.600000      35.800000   \n",
       "Newcastle         73.333333  30.000000      2522.333333      49.000000   \n",
       "Norwich City      85.750000  26.250000      2305.750000      38.500000   \n",
       "Sheffield Utd     58.142857  27.285714      2472.428571      21.714286   \n",
       "Southampton       74.600000  19.400000      1730.600000      26.200000   \n",
       "Tottenham         90.500000  25.750000      2288.000000      41.750000   \n",
       "Watford           90.600000  25.200000      2231.000000      30.600000   \n",
       "West Ham          74.750000  20.000000      1760.000000      32.250000   \n",
       "Wolves           105.200000  31.200000      2770.200000      43.800000   \n",
       "\n",
       "                    goles  \n",
       "equipo                     \n",
       "Arsenal         12.333333  \n",
       "Aston Villa      1.600000  \n",
       "Bournemouth      1.600000  \n",
       "Brighton         5.000000  \n",
       "Burnley          3.500000  \n",
       "Chelsea          7.000000  \n",
       "Crystal Palace   3.000000  \n",
       "Everton          3.500000  \n",
       "Leicester        6.166667  \n",
       "Liverpool        9.333333  \n",
       "M. City         12.285714  \n",
       "M. United        7.400000  \n",
       "Newcastle        1.000000  \n",
       "Norwich City     3.250000  \n",
       "Sheffield Utd    0.857143  \n",
       "Southampton      5.200000  \n",
       "Tottenham        9.250000  \n",
       "Watford          3.800000  \n",
       "West Ham         4.250000  \n",
       "Wolves           6.400000  "
      ]
     },
     "execution_count": 194,
     "metadata": {},
     "output_type": "execute_result"
    }
   ],
   "source": [
    "estadistica = grupo[variable].mean()\n",
    "estadistica"
   ]
  },
  {
   "cell_type": "markdown",
   "id": "5e8b4f05",
   "metadata": {},
   "source": [
    "* # Observación sobre el análisis de media por equipo.\n",
    "    * ### Mas toques en el area : M.city = 142.71 - Liverpool = 127.16\n",
    "    * ### Jugadores con mas minutos jugados dentro de los 100 : Liverpool = 2972 - Wolves = 2770.2\n",
    "    * ### Equipo con mas fouls recibido dentro de la lista de los 100 : Crystal Palace = 61.60 - Aston Villa = 59.20\n",
    "    * ### Goles por equipo con la media mas alta : Arsenal = 12.33 - M.city = 12.28\n",
    "-----\n",
    "\n",
    "* # Crearemos un grafico de barras para que se pueda ver y entender mejor.\n",
    "    * ### Tendremos encuenta solamente los 3 datos \"mas importantes\""
   ]
  },
  {
   "cell_type": "code",
   "execution_count": 207,
   "id": "8937bed3",
   "metadata": {},
   "outputs": [],
   "source": [
    "variable1 = [\"toques_area\" , \"foul_recibido\" , \"goles\"]\n",
    "grupo = data.groupby(\"equipo\")\n",
    "estadistica = grupo[variable1].mean()"
   ]
  },
  {
   "cell_type": "code",
   "execution_count": 212,
   "id": "82097323",
   "metadata": {},
   "outputs": [
    {
     "data": {
      "image/png": "[encoded data removed]",
      "text/plain": [
       "<Figure size 1500x800 with 1 Axes>"
      ]
     },
     "metadata": {},
     "output_type": "display_data"
    }
   ],
   "source": [
    "estadistica.plot(kind=\"bar\" , figsize=(15,8))\n",
    "plt.xlabel('Equipo')\n",
    "plt.ylabel('Valor promedio')\n",
    "plt.title('Comparación de equipos por estadísticas')\n",
    "plt.legend(variable1)\n",
    "\n",
    "plt.show()"
   ]
  },
  {
   "cell_type": "markdown",
   "id": "3e6a8f79",
   "metadata": {},
   "source": [
    "-----\n",
    "* # Usaremos el mejor modelo para hacer una predicción."
   ]
  },
  {
   "cell_type": "code",
   "execution_count": 232,
   "id": "8755759a",
   "metadata": {},
   "outputs": [],
   "source": [
    "X_pred = X1[[\"toques_area\", \"Defender\",\"Forward\",\"Midfielder\"]]"
   ]
  },
  {
   "cell_type": "code",
   "execution_count": 233,
   "id": "02283592",
   "metadata": {},
   "outputs": [
    {
     "data": {
      "text/html": [
       "<style>#sk-container-id-9 {color: black;background-color: white;}#sk-container-id-9 pre{padding: 0;}#sk-container-id-9 div.sk-toggleable {background-color: white;}#sk-container-id-9 label.sk-toggleable__label {cursor: pointer;display: block;width: 100%;margin-bottom: 0;padding: 0.3em;box-sizing: border-box;text-align: center;}#sk-container-id-9 label.sk-toggleable__label-arrow:before {content: \"▸\";float: left;margin-right: 0.25em;color: #696969;}#sk-container-id-9 label.sk-toggleable__label-arrow:hover:before {color: black;}#sk-container-id-9 div.sk-estimator:hover label.sk-toggleable__label-arrow:before {color: black;}#sk-container-id-9 div.sk-toggleable__content {max-height: 0;max-width: 0;overflow: hidden;text-align: left;background-color: #f0f8ff;}#sk-container-id-9 div.sk-toggleable__content pre {margin: 0.2em;color: black;border-radius: 0.25em;background-color: #f0f8ff;}#sk-container-id-9 input.sk-toggleable__control:checked~div.sk-toggleable__content {max-height: 200px;max-width: 100%;overflow: auto;}#sk-container-id-9 input.sk-toggleable__control:checked~label.sk-toggleable__label-arrow:before {content: \"▾\";}#sk-container-id-9 div.sk-estimator input.sk-toggleable__control:checked~label.sk-toggleable__label {background-color: #d4ebff;}#sk-container-id-9 div.sk-label input.sk-toggleable__control:checked~label.sk-toggleable__label {background-color: #d4ebff;}#sk-container-id-9 input.sk-hidden--visually {border: 0;clip: rect(1px 1px 1px 1px);clip: rect(1px, 1px, 1px, 1px);height: 1px;margin: -1px;overflow: hidden;padding: 0;position: absolute;width: 1px;}#sk-container-id-9 div.sk-estimator {font-family: monospace;background-color: #f0f8ff;border: 1px dotted black;border-radius: 0.25em;box-sizing: border-box;margin-bottom: 0.5em;}#sk-container-id-9 div.sk-estimator:hover {background-color: #d4ebff;}#sk-container-id-9 div.sk-parallel-item::after {content: \"\";width: 100%;border-bottom: 1px solid gray;flex-grow: 1;}#sk-container-id-9 div.sk-label:hover label.sk-toggleable__label {background-color: #d4ebff;}#sk-container-id-9 div.sk-serial::before {content: \"\";position: absolute;border-left: 1px solid gray;box-sizing: border-box;top: 0;bottom: 0;left: 50%;z-index: 0;}#sk-container-id-9 div.sk-serial {display: flex;flex-direction: column;align-items: center;background-color: white;padding-right: 0.2em;padding-left: 0.2em;position: relative;}#sk-container-id-9 div.sk-item {position: relative;z-index: 1;}#sk-container-id-9 div.sk-parallel {display: flex;align-items: stretch;justify-content: center;background-color: white;position: relative;}#sk-container-id-9 div.sk-item::before, #sk-container-id-9 div.sk-parallel-item::before {content: \"\";position: absolute;border-left: 1px solid gray;box-sizing: border-box;top: 0;bottom: 0;left: 50%;z-index: -1;}#sk-container-id-9 div.sk-parallel-item {display: flex;flex-direction: column;z-index: 1;position: relative;background-color: white;}#sk-container-id-9 div.sk-parallel-item:first-child::after {align-self: flex-end;width: 50%;}#sk-container-id-9 div.sk-parallel-item:last-child::after {align-self: flex-start;width: 50%;}#sk-container-id-9 div.sk-parallel-item:only-child::after {width: 0;}#sk-container-id-9 div.sk-dashed-wrapped {border: 1px dashed gray;margin: 0 0.4em 0.5em 0.4em;box-sizing: border-box;padding-bottom: 0.4em;background-color: white;}#sk-container-id-9 div.sk-label label {font-family: monospace;font-weight: bold;display: inline-block;line-height: 1.2em;}#sk-container-id-9 div.sk-label-container {text-align: center;}#sk-container-id-9 div.sk-container {/* jupyter's `normalize.less` sets `[hidden] { display: none; }` but bootstrap.min.css set `[hidden] { display: none !important; }` so we also need the `!important` here to be able to override the default hidden behavior on the sphinx rendered scikit-learn.org. See: https://github.com/scikit-learn/scikit-learn/issues/21755 */display: inline-block !important;position: relative;}#sk-container-id-9 div.sk-text-repr-fallback {display: none;}</style><div id=\"sk-container-id-9\" class=\"sk-top-container\"><div class=\"sk-text-repr-fallback\"><pre>LinearRegression()</pre><b>In a Jupyter environment, please rerun this cell to show the HTML representation or trust the notebook. <br />On GitHub, the HTML representation is unable to render, please try loading this page with nbviewer.org.</b></div><div class=\"sk-container\" hidden><div class=\"sk-item\"><div class=\"sk-estimator sk-toggleable\"><input class=\"sk-toggleable__control sk-hidden--visually\" id=\"sk-estimator-id-9\" type=\"checkbox\" checked><label for=\"sk-estimator-id-9\" class=\"sk-toggleable__label sk-toggleable__label-arrow\">LinearRegression</label><div class=\"sk-toggleable__content\"><pre>LinearRegression()</pre></div></div></div></div></div>"
      ],
      "text/plain": [
       "LinearRegression()"
      ]
     },
     "execution_count": 233,
     "metadata": {},
     "output_type": "execute_result"
    }
   ],
   "source": [
    "lm = LinearRegression()\n",
    "lm.fit(X_pred , y)"
   ]
  },
  {
   "cell_type": "code",
   "execution_count": 234,
   "id": "e09e9a83",
   "metadata": {},
   "outputs": [],
   "source": [
    "#### ### Dividimos otra vez en variable grupos y entrenamiento. \n",
    "X_train , X_test , y_train , y_test  = train_test_split(X_pred, y, test_size=0.3 , random_state=42 )"
   ]
  },
  {
   "cell_type": "code",
   "execution_count": 235,
   "id": "95e779a9",
   "metadata": {},
   "outputs": [
    {
     "name": "stdout",
     "output_type": "stream",
     "text": [
      "MAE:2.363262076655633\n",
      "MSE:10.2351851666449\n",
      "r2:72.373840421124\n"
     ]
    }
   ],
   "source": [
    "y_pred = lm.predict(X_test)\n",
    "mse = mean_squared_error(y_test , y_pred)\n",
    "mae = mean_absolute_error(y_test, y_pred)\n",
    "r2 = r2_score(y_test, y_pred)*100\n",
    "\n",
    "print(f\"MAE:{mae}\")\n",
    "print(f\"MSE:{mse}\")\n",
    "print(f\"r2:{r2}\")"
   ]
  },
  {
   "cell_type": "code",
   "execution_count": 245,
   "id": "6910a5be",
   "metadata": {},
   "outputs": [],
   "source": [
    "#### #### Creamos una predicción.\n",
    "jugador_X = pd.DataFrame({\"toques_area\":[94] , \"Defender\":[0] , \"Forward\":[0], \"Midfielder\":[1]})\n",
    "jugador_pred = lm.predict(jugador_X)"
   ]
  },
  {
   "cell_type": "code",
   "execution_count": 246,
   "id": "edc152d1",
   "metadata": {},
   "outputs": [
    {
     "name": "stdout",
     "output_type": "stream",
     "text": [
      "Predicción de goles sobre un jugador X [4.89190607]\n"
     ]
    }
   ],
   "source": [
    "print(\"Predicción de goles sobre un jugador X\", jugador_pred[0])"
   ]
  },
  {
   "cell_type": "markdown",
   "id": "72a36bc8",
   "metadata": {},
   "source": [
    "* # La predicción de goles sobre un jugador con 94 toques en el area rival y siendo volante/medio es de 4.89 goles por temporada.\n",
    "    * # teniendo en cuenta que el MAE es de 2.36 (es decir puede hacer 2 goles mas o 2 goles menos segun su predicción)."
   ]
  },
  {
   "cell_type": "code",
   "execution_count": null,
   "id": "19017326",
   "metadata": {},
   "outputs": [],
   "source": []
  }
 ],
 "metadata": {
  "kernelspec": {
   "display_name": "Python 3 (ipykernel)",
   "language": "python",
   "name": "python3"
  },
  "language_info": {
   "codemirror_mode": {
    "name": "ipython",
    "version": 3
   },
   "file_extension": ".py",
   "mimetype": "text/x-python",
   "name": "python",
   "nbconvert_exporter": "python",
   "pygments_lexer": "ipython3",
   "version": "3.8.13"
  }
 },
 "nbformat": 4,
 "nbformat_minor": 5
}
